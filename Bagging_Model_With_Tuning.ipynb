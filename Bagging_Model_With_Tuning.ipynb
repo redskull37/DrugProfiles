{
 "cells": [
  {
   "cell_type": "markdown",
   "metadata": {},
   "source": [
    "# Bagging Model one one drug with Tuning"
   ]
  },
  {
   "cell_type": "code",
   "execution_count": 7,
   "metadata": {},
   "outputs": [],
   "source": [
    "import pandas as pd\n",
    "import numpy as np\n",
    "import matplotlib.pyplot as plt\n",
    "from sklearn.ensemble import BaggingRegressor\n",
    "from sklearn.svm import SVR\n",
    "from sklearn.metrics import mean_squared_error\n",
    "from sklearn.model_selection import KFold\n",
    "from sklearn.multioutput import MultiOutputRegressor\n",
    "from skopt import BayesSearchCV\n",
    "from sklearn.model_selection import RandomizedSearchCV\n",
    "import os\n",
    "\n",
    "_FOLDER = \"fitted_datasets_drug_properties/\"\n",
    "_FOLDER_2 = \"test_train/\"\n",
    "\n",
    "import json"
   ]
  },
  {
   "cell_type": "markdown",
   "metadata": {},
   "source": [
    "## Coding"
   ]
  },
  {
   "cell_type": "code",
   "execution_count": 8,
   "metadata": {},
   "outputs": [
    {
     "name": "stderr",
     "output_type": "stream",
     "text": [
      "C:\\Users\\Asad\\AppData\\Local\\Packages\\PythonSoftwareFoundation.Python.3.11_qbz5n2kfra8p0\\LocalCache\\local-packages\\Python311\\site-packages\\sklearn\\model_selection\\_search.py:307: UserWarning: The total space of parameters 1 is smaller than n_iter=20. Running 1 iterations. For exhaustive searches, use GridSearchCV.\n",
      "  warnings.warn(\n"
     ]
    },
    {
     "name": "stdout",
     "output_type": "stream",
     "text": [
      "{}\n"
     ]
    },
    {
     "ename": "KeyError",
     "evalue": "'<correct_key_for_kernel>'",
     "output_type": "error",
     "traceback": [
      "\u001b[1;31m---------------------------------------------------------------------------\u001b[0m",
      "\u001b[1;31mKeyError\u001b[0m                                  Traceback (most recent call last)",
      "Cell \u001b[1;32mIn[8], line 61\u001b[0m\n\u001b[0;32m     57\u001b[0m \u001b[38;5;28mprint\u001b[39m(bestParams)  \u001b[38;5;66;03m# Debug: Print the bestParams to see the actual keys\u001b[39;00m\n\u001b[0;32m     59\u001b[0m \u001b[38;5;66;03m# Then access parameters (use correct keys as per the print output)\u001b[39;00m\n\u001b[0;32m     60\u001b[0m svm_bagging \u001b[38;5;241m=\u001b[39m MultiOutputRegressor(BaggingRegressor(base_estimator\u001b[38;5;241m=\u001b[39mSVR(\n\u001b[1;32m---> 61\u001b[0m     kernel\u001b[38;5;241m=\u001b[39m\u001b[43mbestParams\u001b[49m\u001b[43m[\u001b[49m\u001b[38;5;124;43m'\u001b[39;49m\u001b[38;5;124;43m<correct_key_for_kernel>\u001b[39;49m\u001b[38;5;124;43m'\u001b[39;49m\u001b[43m]\u001b[49m, \n\u001b[0;32m     62\u001b[0m     C\u001b[38;5;241m=\u001b[39mbestParams[\u001b[38;5;124m'\u001b[39m\u001b[38;5;124m<correct_key_for_C>\u001b[39m\u001b[38;5;124m'\u001b[39m],\n\u001b[0;32m     63\u001b[0m     gamma\u001b[38;5;241m=\u001b[39mbestParams[\u001b[38;5;124m'\u001b[39m\u001b[38;5;124m<correct_key_for_gamma>\u001b[39m\u001b[38;5;124m'\u001b[39m],\n\u001b[0;32m     64\u001b[0m     degree\u001b[38;5;241m=\u001b[39mbestParams[\u001b[38;5;124m'\u001b[39m\u001b[38;5;124m<correct_key_for_degree>\u001b[39m\u001b[38;5;124m'\u001b[39m],\n\u001b[0;32m     65\u001b[0m     epsilon\u001b[38;5;241m=\u001b[39mbestParams[\u001b[38;5;124m'\u001b[39m\u001b[38;5;124m<correct_key_for_epsilon>\u001b[39m\u001b[38;5;124m'\u001b[39m]),\n\u001b[0;32m     66\u001b[0m     n_estimators\u001b[38;5;241m=\u001b[39mbestParams[\u001b[38;5;124m'\u001b[39m\u001b[38;5;124m<correct_key_for_n_estimators>\u001b[39m\u001b[38;5;124m'\u001b[39m],\n\u001b[0;32m     67\u001b[0m     max_samples\u001b[38;5;241m=\u001b[39mbestParams[\u001b[38;5;124m'\u001b[39m\u001b[38;5;124m<correct_key_for_max_samples>\u001b[39m\u001b[38;5;124m'\u001b[39m],\n\u001b[0;32m     68\u001b[0m     max_features\u001b[38;5;241m=\u001b[39mbestParams[\u001b[38;5;124m'\u001b[39m\u001b[38;5;124m<correct_key_for_max_features>\u001b[39m\u001b[38;5;124m'\u001b[39m],\n\u001b[0;32m     69\u001b[0m     bootstrap\u001b[38;5;241m=\u001b[39mbestParams[\u001b[38;5;124m'\u001b[39m\u001b[38;5;124m<correct_key_for_bootstrap>\u001b[39m\u001b[38;5;124m'\u001b[39m],\n\u001b[0;32m     70\u001b[0m     bootstrap_features\u001b[38;5;241m=\u001b[39mbestParams[\u001b[38;5;124m'\u001b[39m\u001b[38;5;124m<correct_key_for_bootstrap_features>\u001b[39m\u001b[38;5;124m'\u001b[39m]))\n\u001b[0;32m     73\u001b[0m \u001b[38;5;66;03m# Train the best model\u001b[39;00m\n\u001b[0;32m     74\u001b[0m svm_bagging \u001b[38;5;241m=\u001b[39m MultiOutputRegressor(BaggingRegressor(base_estimator\u001b[38;5;241m=\u001b[39mSVR(\n\u001b[0;32m     75\u001b[0m     kernel\u001b[38;5;241m=\u001b[39mbestParams[\u001b[38;5;124m'\u001b[39m\u001b[38;5;124mestimator__base_estimator__kernel\u001b[39m\u001b[38;5;124m'\u001b[39m], \n\u001b[0;32m     76\u001b[0m     C\u001b[38;5;241m=\u001b[39mbestParams[\u001b[38;5;124m'\u001b[39m\u001b[38;5;124mestimator__base_estimator__C\u001b[39m\u001b[38;5;124m'\u001b[39m],\n\u001b[1;32m   (...)\u001b[0m\n\u001b[0;32m     83\u001b[0m     bootstrap\u001b[38;5;241m=\u001b[39mbestParams[\u001b[38;5;124m'\u001b[39m\u001b[38;5;124mestimator__bootstrap\u001b[39m\u001b[38;5;124m'\u001b[39m],\n\u001b[0;32m     84\u001b[0m     bootstrap_features\u001b[38;5;241m=\u001b[39mbestParams[\u001b[38;5;124m'\u001b[39m\u001b[38;5;124mestimator__bootstrap_features\u001b[39m\u001b[38;5;124m'\u001b[39m]))\n",
      "\u001b[1;31mKeyError\u001b[0m: '<correct_key_for_kernel>'"
     ]
    }
   ],
   "source": [
    "# Define parameters and labels\n",
    "params = ['param_1', 'param_2', 'param_3', 'param_4']\n",
    "notIncludeColumns = [ 'COSMIC_ID', 'DRUG_ID', 'DRUGID_COSMICID', 'MAX_CONC', 'Target_Pathway', 'elements', 'Target', 'Drug_Name', 'molecular_formula', ] + params\n",
    "conc_labels = [\"fd_num_\"+str(i) for i in range(10)]\n",
    "resp_labels = ['norm_cells_'+str(i) for i in range(10)]\n",
    "pred_resp_labels = ['pred_norm_cells_'+str(i) for i in range(10)]\n",
    "fullPredLabels = ['DRUG_COSMICID'] + pred_resp_labels\n",
    "\n",
    "# Initialize storage for results\n",
    "predictedResults = pd.DataFrame(columns=fullPredLabels)\n",
    "trueResults = pd.DataFrame(columns=['DRUG_COSMICID'] + resp_labels + params)\n",
    "performanceMetrics = []\n",
    "\n",
    "# Loop through datasets\n",
    "for dataset in os.listdir(_FOLDER):\n",
    "    if dataset.startswith(\"merged_fitted_drug_properties\"):\n",
    "        # Extract dataset version\n",
    "        version = dataset.split(\"_\")[-1].split(\".csv\")[0]\n",
    "        \n",
    "        # Load dataset\n",
    "        drugProfiles = pd.read_csv(_FOLDER + dataset)\n",
    "\n",
    "        # Load train and test splits\n",
    "        train_data = pd.read_csv(_FOLDER_2 + f\"train_{version}.csv.csv\")\n",
    "        test_data = pd.read_csv(_FOLDER_2 + f\"test_{version}.csv.csv\")\n",
    "\n",
    "        for drugId in train_data['DRUG_ID'].unique():\n",
    "            trainIndex = train_data[train_data['DRUG_ID'] == drugId].index\n",
    "            testIndex = test_data[test_data['DRUG_ID'] == drugId].index\n",
    "            \n",
    "            # Prepare data\n",
    "            trainData = drugProfiles.loc[drugProfiles.index.isin(trainIndex)]\n",
    "            testData = drugProfiles.loc[drugProfiles.index.isin(testIndex)]\n",
    "            testDataCosmicIds = np.array(testData['DRUGID_COSMICID'])\n",
    "\n",
    "            notXValuesFilter = resp_labels + notIncludeColumns + conc_labels\n",
    "            trainXValues = trainData.drop(columns=notXValuesFilter)\n",
    "            trainYValues = trainData[resp_labels]\n",
    "            testXValues = testData.drop(columns=notXValuesFilter)\n",
    "            testYValues = testData[resp_labels]\n",
    "            testParamsValues = testData[params]\n",
    "\n",
    "            # Define model and hyperparameter search space\n",
    "            base_estimator = SVR()\n",
    "            valModel = MultiOutputRegressor(BaggingRegressor(base_estimator))\n",
    "            searchSpace = {\n",
    "                # search space definition as before\n",
    "            }\n",
    "\n",
    "            # Perform randomized search\n",
    "            bayes = RandomizedSearchCV(valModel, searchSpace, cv=5, n_iter=20, n_jobs=-1)\n",
    "            bayes.fit(trainXValues, trainYValues)\n",
    "            bestParams = bayes.best_params_\n",
    "\n",
    "            # After performing randomized search\n",
    "            bestParams = bayes.best_params_\n",
    "            print(bestParams)  # Debug: Print the bestParams to see the actual keys\n",
    "\n",
    "            # Then access parameters (use correct keys as per the print output)\n",
    "            svm_bagging = MultiOutputRegressor(BaggingRegressor(base_estimator=SVR(\n",
    "                kernel=bestParams['<correct_key_for_kernel>'], \n",
    "                C=bestParams['<correct_key_for_C>'],\n",
    "                gamma=bestParams['<correct_key_for_gamma>'],\n",
    "                degree=bestParams['<correct_key_for_degree>'],\n",
    "                epsilon=bestParams['<correct_key_for_epsilon>']),\n",
    "                n_estimators=bestParams['<correct_key_for_n_estimators>'],\n",
    "                max_samples=bestParams['<correct_key_for_max_samples>'],\n",
    "                max_features=bestParams['<correct_key_for_max_features>'],\n",
    "                bootstrap=bestParams['<correct_key_for_bootstrap>'],\n",
    "                bootstrap_features=bestParams['<correct_key_for_bootstrap_features>']))\n",
    "\n",
    "\n",
    "            # Train the best model\n",
    "            svm_bagging = MultiOutputRegressor(BaggingRegressor(base_estimator=SVR(\n",
    "                kernel=bestParams['estimator__base_estimator__kernel'], \n",
    "                C=bestParams['estimator__base_estimator__C'],\n",
    "                gamma=bestParams['estimator__base_estimator__gamma'],\n",
    "                degree=bestParams['estimator__base_estimator__degree'],\n",
    "                epsilon=bestParams['estimator__base_estimator__epsilon']),\n",
    "                n_estimators=bestParams['estimator__n_estimators'],\n",
    "                max_samples=bestParams['estimator__max_samples'],\n",
    "                max_features=bestParams['estimator__max_features'],\n",
    "                bootstrap=bestParams['estimator__bootstrap'],\n",
    "                bootstrap_features=bestParams['estimator__bootstrap_features']))\n",
    "            svm_bagging.fit(trainXValues, trainYValues)\n",
    "\n",
    "            # Predict and evaluate\n",
    "            yTestPredict = svm_bagging.predict(testXValues)\n",
    "            test_mse = mean_squared_error(testYValues, yTestPredict)\n",
    "\n",
    "            # Store results\n",
    "            trueResult = pd.DataFrame(testDataCosmicIds, columns=['DRUG_COSMICID'])\n",
    "            trueResult[resp_labels] = testYValues\n",
    "            trueResult[params] = testParamsValues\n",
    "            trueResults = trueResults.append(trueResult, ignore_index=True, sort=False)\n",
    "\n",
    "            result = pd.DataFrame(testDataCosmicIds, columns=['DRUG_COSMICID'])\n",
    "            result[pred_resp_labels] = yTestPredict\n",
    "            predictedResults = predictedResults.append(result, ignore_index=True, sort=False)\n",
    "\n",
    "            # Log performance\n",
    "            performanceMetrics.append({'dataset_version': version, 'drug_id': drugId, 'test_mse': test_mse})"
   ]
  }
 ],
 "metadata": {
  "kernelspec": {
   "display_name": "Python 3",
   "language": "python",
   "name": "python3"
  },
  "language_info": {
   "codemirror_mode": {
    "name": "ipython",
    "version": 3
   },
   "file_extension": ".py",
   "mimetype": "text/x-python",
   "name": "python",
   "nbconvert_exporter": "python",
   "pygments_lexer": "ipython3",
   "version": "3.11.8"
  }
 },
 "nbformat": 4,
 "nbformat_minor": 2
}
