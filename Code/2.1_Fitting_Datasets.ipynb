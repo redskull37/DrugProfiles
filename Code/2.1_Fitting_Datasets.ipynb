{
 "cells": [
  {
   "cell_type": "markdown",
   "metadata": {},
   "source": [
    "## Fitting drug response curves with sigmoid function"
   ]
  },
  {
   "cell_type": "code",
   "execution_count": 1,
   "metadata": {},
   "outputs": [],
   "source": [
    "import pandas as pd\n",
    "import numpy as np\n",
    "\n",
    "import matplotlib.pyplot as plt\n",
    "\n",
    "import os\n",
    "\n",
    "from scipy.optimize import curve_fit\n",
    "from sklearn.metrics import r2_score\n",
    "\n",
    "from tqdm import tqdm\n",
    "import warnings\n",
    "warnings.filterwarnings(\"ignore\")\n",
    "_FOLDER = \"data/\"\n",
    "_FOLDER_2 = \"datasets/\"\n",
    "_FOLDER_3 = \"fitted_datasets/\""
   ]
  },
  {
   "cell_type": "markdown",
   "metadata": {},
   "source": [
    "## Bounds for fitting coeficents"
   ]
  },
  {
   "cell_type": "code",
   "execution_count": 2,
   "metadata": {},
   "outputs": [],
   "source": [
    "def sigmoid_Wang(x, p, s):\n",
    "    \"\"\" Sigmoid function from Dennis Wang's paper:\n",
    "    x - dosage [0, 1],\n",
    "    p - position,        default=0.4 p=0 no upper plateu, p=1 no lower plateu bounds [0, 1]\n",
    "    s - shape parameter, default=0.1 s<0= normal sigmoid, s>1=straight line, more s, more horisontal line, \n",
    "                         general bounds s>0, but for good drug responses [0,1]\n",
    "    parameters_bound ((0,0], [1,1)) or (0,1)\n",
    "    \"\"\"\n",
    "    return ( 1.0 / (1.0 + np.exp((x-p)/s)) )\n",
    "\n",
    "def fsigmoid(x, p, k):\n",
    "    \"\"\" Comparing with Dennis Wang's sigmoid:\n",
    "    x = x  - dosage [0, 1]\n",
    "    p - position [0,1],           default = 0.4 bounds = [0,1]\n",
    "    k = -1/s (s -shape parameter) default = -10 k=0 straight line, k<0 sigmoid around k=-10\n",
    "    parameters_bound ((0,-100],[1,-1))\n",
    "    \"\"\"\n",
    "    return ( 1.0 / (1.0 + np.exp(-k*(x-p))) )\n",
    "\n",
    "\n",
    "def sigmoid_4_param(x, x0, L, k, d):\n",
    "    \"\"\" Comparing with Dennis Wang's sigmoid:\n",
    "    x0 -  p - position, correlation with IC50 or EC50\n",
    "        bounds [0, 1]\n",
    "    L = 1 in Dennis Wang's sigmoid, protect from devision by zero if x is too small \n",
    "        L<1 inverted sigmoid, l=100 - lower upper and lower boundso sigmpoid on y axis (y= [0.1, 0.11])\n",
    "        bounds [0.8, 10]\n",
    "    k = -1/s (s -shape parameter)  default = -10 k=0 straight line, k<0 sigmoid around k=-10\n",
    "        bounds [1, -100]\n",
    "    d - determines the vertical position of the sigmoid - shift on y axis - better fitting then Dennis Wang's sigmoid\n",
    "         bounds [0, 0.9]\n",
    "    parameters_bound ((0, 0.8, -100, 0), (1, 10, 1, 0.9))\n",
    "    \"\"\"\n",
    "    return ( 1/ (L + np.exp(-k*(x-x0))) + d)\n",
    "\n",
    "\n",
    "def sigmoid_3_param(x, x0, k, d):\n",
    "    \"\"\" Comparing with Dennis Wang's sigmoid:\n",
    "    x0 -  p - position, correlation with IC50 or EC50\n",
    "        bounds [0, 1]\n",
    "    k = -1/s (s -shape parameter)  default = -10 k=0 straight line, k<0 sigmoid around k=-10\n",
    "        bounds [1, -100]\n",
    "    d - determines the vertical position of the sigmoid - shift on y axis - better fitting then Dennis Wang's sigmoid\n",
    "         bounds [0, 0.9]\n",
    "    parameters_bound ((0, -100, 0], [1, 1, 0.9))\"\"\"\n",
    "    return ( 1/ (1 + np.exp(-k*(x-x0))) + d )\n",
    "\n",
    "\n",
    "def ll4(x, e, c, b, d):\n",
    "    \"\"\" https://gist.github.com/yannabraham/5f210fed773785d8b638\n",
    "    This function is basically a copy of the LL.4 function from the R drc package:\n",
    "     np.exp( b* (np.log(x)-np.log(e)) -  np.exp((x-p)/s in Dennis Wang's sigmoid\n",
    "     np.log(x)-np.log(e) == x-p in Dennis Wang's sigmoid\n",
    "     e - EC50 \n",
    "         bounds [0.1, 1], default 0.4\n",
    "     c-d - difference between max and min responses\n",
    "     c - max response\n",
    "         bounds [0,1], default 1\n",
    "     b- hill slope = 1/s - shape parameter\n",
    "         bounds [0, 50], default 5\n",
    "     d - min response - determines the vertical position of the graph\n",
    "         bounds [0,1]\n",
    "     parameters_bound ((0.1,0,0,0],[1, 1, 50, 1))\n",
    "   \n",
    "     \"\"\"\n",
    "    return ( (c-d)/(1 + np.exp( b*(np.log(x)-np.log(e) ))) + d)\n",
    "\n",
    "\n",
    "def ll4_R(x, e, c, b, d):\n",
    "    \"\"\" LL.4 function from R\n",
    "    https://www.rdocumentation.org/packages/drc/versions/2.5-12/topics/LL.4\n",
    "    e - EC50 - np.log(concentration) np.log(0.0001)=-10, np.log(1)=0\n",
    "         bounds [-10, 0], default -5\n",
    "     c-d - difference between max and min responses\n",
    "     c - max response\n",
    "         bounds [0,1], default 1\n",
    "     b - hill slope = 1/s - shape parameter\n",
    "         bounds [0, 50], default 5\n",
    "     d - min response - determines the vertical position of the graph\n",
    "         bounds [0,1]\n",
    "     parameters_bound ((-10,0,0,0],[0, 1, 50, 1))\n",
    "\n",
    "    \"\"\"\n",
    "    return ( (c-d)/(1+np.exp(b*np.log(x)- e)) + d)\n",
    "\n",
    "\n",
    "def logistic4(x, A, B, C, d):\n",
    "    \"\"\" https://people.duke.edu/~ccc14/pcfb/analysis.html\n",
    "    4PL logistic equation\n",
    "    Dennis Wang's sigmoid: 1.0 / (1.0 + np.exp((x-p)/s)\n",
    "    (A - d) = 1 in Dennis Wang's sigmoid:\n",
    "          bounds [0, 1.5] default A = 1\n",
    "    (x/C)**B  - corresponds to np.exp((x-p)/s\n",
    "    B - determines shape/ 0.1 half-sigmoid, 5 -good sigmoid\n",
    "        bounds [0.1, 50], default B = 5\n",
    "    C - deterimnes position of the centre of sigmoid\n",
    "        bounds [0, 1], default C = 0.4\n",
    "    \n",
    "    d - determines the vertical position of the sigmoid - shift on y axis \n",
    "         bounds [0, 0.9], default d = 0\n",
    "         \n",
    "    parameters_bound ((0, 0.1, 0, 0], [1.5, 50, 1, 0.9))\n",
    "    \"\"\"\n",
    "    return ( (A-d)/(1.0+((x/C)**B)) + d )\n",
    "\n",
    "\n",
    "def logLogistR(x, EC50, HS, E_inf):\n",
    "    \"\"\"Python analog for PharmacoGx/R/LogLogisticRegression.R\n",
    "    https://github.com/bhklab/PharmacoGx/blob/master/R/LogLogisticRegression.R\n",
    "    E = E_inf + (1 - E_inf)/(1 + (x/EC50)^HS)\n",
    "    Dennis Wang's sigmoid: 1.0 / (1.0 + np.exp((x-p)/s)\n",
    "    \n",
    "    (A - d) = 1 in Dennis Wang's sigmoid:\n",
    "    (np.log10(x)/EC50)**HS  - (in logistic4 (x/C)**B) corresponds to np.exp((x-p)/s \n",
    "    EC50 - concentration, determines shape of a sigmoid and its center\n",
    "        bounds [0, 1], default 0.4\n",
    "    HS - determines shape:\n",
    "        bounds [-30, -2] default -4 only even values work\n",
    "    E_inf - determines the vertical position of the graph /coefficient d, min response in other functions\n",
    "        bounds [0, 1]\n",
    "    parameters_bound ((0,-30,0], [1,-2,1))\n",
    "    \"\"\"\n",
    "    return ((1-E_inf)/(1+(np.log10(x)/EC50)**HS) + E_inf)"
   ]
  },
  {
   "cell_type": "code",
   "execution_count": 3,
   "metadata": {},
   "outputs": [],
   "source": [
    "def FitCurve(fitting_function, x, y, parameters_guess=None, bounds = (-100, 100), to_plot = False):\n",
    "#     from scipy.optimize import curve_fit\n",
    "\n",
    "    if parameters_guess:\n",
    "        parameters, p_covariance = curve_fit(fitting_function, x, y, parameters_guess, bounds= bounds)\n",
    "    else: \n",
    "        parameters, p_covariance = curve_fit(fitting_function, x, y, bounds= bounds)\n",
    "    x2 = np.linspace(0, 1, 10)\n",
    "    y_fit = fitting_function(x, *parameters)\n",
    "    r2 = r2_score(y, y_fit)\n",
    "\n",
    "    if to_plot:\n",
    "        print(\"Fitting parameters:\", *parameters)\n",
    "        plt.scatter(x, y)\n",
    "        x2 = np.linspace(0, 1, 10)\n",
    "        y2 = fitting_function(x2, *parameters)\n",
    "        plt.plot(x2, y2, \"blue\", label = \"R^2= %0.5f\"%r2)   \n",
    "        plt.title('Least-squares fit')\n",
    "        plt.legend();\n",
    "    return r2, parameters\n",
    "\n",
    "\n",
    "def FittingColumn(df, indexes, x_columns, y_columns, fitting_function, parameters_guess=None, default_param = False):\n",
    "    \"\"\"\n",
    "    intial parameter guess [max(y), np.median(x), 1, min(y)]\n",
    "    potentially they can be different for each data row, but as soon as we have scaled and filtered data\n",
    "    we can use by default [1.0, 0.4, 1.0, .0] \n",
    "    \"\"\"\n",
    "    \n",
    "    r2_scores = np.zeros(len(indexes))\n",
    "    X = df.loc[indexes, x_columns].values.astype(np.float32)\n",
    "    Y = df.loc[indexes, y_columns].values.astype(np.float32)\n",
    "    fitting_parameters = [None]*len(indexes)\n",
    "    \n",
    "    \n",
    "    # parameters_guess= [np.median(x), 1, max(y), min(y)]\n",
    "    default_param_model = {\"sigmoid_Wang\": {\"initial_guess\": [0.4, 0.1], \n",
    "                                             \"bounds\": (0, 1)},\n",
    "                           \"fsigmoid\" : {\"initial_guess\": [0.4, -10], \n",
    "                                          \"bounds\": ((0,-100), (1,-1))},\n",
    "                           \"sigmoid_4_param\": {\"initial_guess\": [0.4, 1.0, -10, .0], \n",
    "                                                \"bounds\": ((0, 0.8, -100, 0), (1, 10, 1, 0.9))},\n",
    "                           \"sigmoid_3_param\": {\"initial_guess\": [0.4, -10.0, .0],  \n",
    "                                               \"bounds\": ((0, -100, 0), (1, 1, 0.9))},\n",
    "                           \"logistic4\": {\"initial_guess\": [1.0, 1.0, 1.0, 0.0], \n",
    "                                        \"bounds\": ((0, 0.1, 0, 0), (1.5, 50, 1, 0.9))},\n",
    "                            \"ll4\": {\"initial_guess\": [0.4, 1.0, 1.0, 0.0], \n",
    "                                    \"bounds\": ((0.1,0,0,0), (1, 1, 50, 1))},\n",
    "                            \"ll4_R\": {\"initial_guess\": [-5, 1.0, 5.0, 0], \n",
    "                                 \"bounds\":((-10,0,0,0), (0, 1.0, 50, 1))},\n",
    "                            \"logLogistR\": {\"initial_guess\": [0.4, -4, 0], \n",
    "                                          \"bounds\":((0,-30,0), (1,-2,1))}}\n",
    "\n",
    "    if default_param:\n",
    "        parameters_guess = default_param_model[fitting_function][\"initial_guess\"]\n",
    "       \n",
    "    else:\n",
    "        pass\n",
    "    \n",
    "    for i in tqdm(range(len(indexes))):\n",
    "        x = X[i, :]\n",
    "        y = Y[i, :]\n",
    "    \n",
    "        \n",
    "        functions = {\"fsigmoid\": fsigmoid, \n",
    "                 \"sigmoid_Wang\": sigmoid_Wang, \n",
    "                \"sigmoid_4_param\": sigmoid_4_param,\n",
    "                 \"sigmoid_3_param\": sigmoid_3_param, \n",
    "                 \"logistic4\": logistic4,  \n",
    "                 \"ll4\": ll4, \n",
    "                 \"ll4_R\": ll4_R,\n",
    "                 \"logLogistR\" : logLogistR}\n",
    "        fitting_function_object = functions[fitting_function]\n",
    "        try:\n",
    "            r2_scores[i], fitting_parameters[i] = FitCurve(fitting_function_object, x, y, \n",
    "                                                               parameters_guess = parameters_guess,\n",
    "                                                            bounds = default_param_model[fitting_function][\"bounds\"])\n",
    "        except:\n",
    "            r2_scores[i] = 0\n",
    "    return r2_scores, fitting_parameters\n",
    "\n",
    "\n",
    "def ShowResponseCurvesWithFitting(df, plots_in_row, plots_in_column, x_columns, y_columns, start_index=0, indexes=[],\n",
    "                         fitting_function =None, fitting_parameters =None, pred_fitting_param = None):\n",
    "    \n",
    "    print(\"Figures titles: Index_DRUG_ID_COSMIC_ID (COSMIC_ID is a cell line)\")\n",
    "    fig = plt.figure(figsize=(14, 11))\n",
    "    fig.subplots_adjust(hspace=0.4, wspace=0.4)\n",
    "    n_plots= plots_in_row*plots_in_column\n",
    "    \n",
    "    if len(indexes) == 0:\n",
    "        indexes = df.index[start_index : start_index+n_plots]\n",
    "        \n",
    "    X = df.loc[indexes, x_columns].values.astype(np.float32)\n",
    "    Y = df.loc[indexes, y_columns].values.astype(np.float32)\n",
    "        \n",
    "    try:\n",
    "        for i in range(len(indexes)):\n",
    "            x = X[i, :]\n",
    "            y = Y[i, :]\n",
    "            ind = indexes[i]\n",
    "\n",
    "                \n",
    "            ax = fig.add_subplot(plots_in_row, plots_in_column, i+1)\n",
    "            ax.scatter(x,y)\n",
    "            ax.set_title(str(ind)+\"_\"+str(df.loc[ind, \"DRUG_ID\"])+\"_\"+str(df.loc[ind, \"COSMIC_ID\"]))\n",
    "            ax.set_xlabel(\"Scaled dosage\")\n",
    "            ax.set_ylabel(\"Normalised response\")\n",
    "\n",
    "            if fitting_function:\n",
    "                functions = {\"fsigmoid\": fsigmoid, \"sigmoid_Wang\": sigmoid_Wang, \n",
    "                             \"sigmoid_4_param\": sigmoid_4_param, \"sigmoid_3_param\": sigmoid_3_param, \n",
    "                             \"logistic4\": logistic4, \"ll4\": ll4, \"ll4_R\": ll4_R, \"logLogistR\": logLogistR}\n",
    "                fitting_function_object = functions[fitting_function]\n",
    "                \n",
    "#                 from fitting_curves.py import fitting_function_object\n",
    "\n",
    "                x2 = np.linspace(0, 1, 10)\n",
    "\n",
    "                if type(fitting_parameters) == str:\n",
    "                    fit_param = df.loc[ind, fitting_parameters]\n",
    "                else:\n",
    "                    fit_param = df.loc[ind, fitting_parameters].values\n",
    "\n",
    "                y_fit = fitting_function_object(x, *fit_param)\n",
    "                y2 = fitting_function_object(x2, *fit_param)\n",
    "                r2 = r2_score(y, y_fit)\n",
    "                ax.plot(x2, y2, label= \"R^2 fit = %0.4f\"% r2)\n",
    "                ax.legend()\n",
    "            if pred_fitting_param:\n",
    "\n",
    "                x3 = np.linspace(0, 1, 10) \n",
    "                fit_param = df.loc[ind, pred_fitting_param]    \n",
    "                y_fit3 = fitting_function_object(x, *fit_param)\n",
    "                y3 = fitting_function_object(x3, *fit_param)\n",
    "                r2_pred = r2_score(y, y_fit3)\n",
    "                ax.plot(x3, y3, color=\"red\", label= \"R^2 pred = %0.4f\"% r2_pred)\n",
    "                ax.legend()\n",
    "                \n",
    "    except:\n",
    "        print(\"ERROR: Number of indexes does not correspond to number of graphs to plot\")\n",
    "\n",
    "\n",
    "def compute_r2_score(df, x_columns, y_columns, fitting_parameters, fitting_function=\"sigmoid_4_param\"):\n",
    "    functions = {\"fsigmoid\": fsigmoid, \"sigmoid_Wang\": sigmoid_Wang, \n",
    "                             \"sigmoid_4_param\": sigmoid_4_param, \"sigmoid_3_param\": sigmoid_3_param, \n",
    "                             \"logistic4\": logistic4, \"ll4\": ll4, \"ll4_R\":ll4_R, \"logLogistR\": logLogistR}\n",
    "    fitting_function_object = functions[fitting_function]\n",
    "    r2_scores=np.zeros(len(df.index))\n",
    "    for i in range(len(df.index)):\n",
    "        x = df.loc[df.index[i], x_columns]\n",
    "        y = df.loc[df.index[i], y_columns]\n",
    "        if type(fitting_parameters) == str:\n",
    "            fit_param = df.loc[df.index[i], fitting_parameters]\n",
    "        else:\n",
    "            fit_param = df.loc[df.index[i], fitting_parameters].values\n",
    "        y_fit = fitting_function_object(x, *fit_param)\n",
    "        r2_scores[i] = r2_score(y, y_fit)\n",
    "    return r2_scores"
   ]
  },
  {
   "cell_type": "markdown",
   "metadata": {},
   "source": [
    "## Fitting Data"
   ]
  },
  {
   "cell_type": "code",
   "execution_count": 4,
   "metadata": {},
   "outputs": [],
   "source": [
    "\n",
    "fitting_functions = [\"sigmoid_Wang\", \"fsigmoid\", \"sigmoid_4_param\", \"sigmoid_3_param\", \"ll4\", \"ll4_R\", \"logistic4\", \"logLogistR\"]\n",
    "\n",
    "# Initialize a dictionary to store the number of good fits for each function\n",
    "good_fits_summary = {function: {\"total_good_fits\": 0, \"dataset_good_fits\": {}} for function in fitting_functions}"
   ]
  },
  {
   "cell_type": "markdown",
   "metadata": {},
   "source": [
    "### sigmoid_Wang"
   ]
  },
  {
   "cell_type": "code",
   "execution_count": 8,
   "metadata": {},
   "outputs": [
    {
     "name": "stderr",
     "output_type": "stream",
     "text": [
      "100%|██████████| 2776/2776 [00:08<00:00, 322.84it/s]\n",
      "  4%|▍         | 1/24 [00:08<03:18,  8.63s/it]"
     ]
    },
    {
     "name": "stdout",
     "output_type": "stream",
     "text": [
      "Dataset: filtered_drug_profiles_123.csv, Shape after fitting: (2776, 49)\n",
      "  R^2 > 0: 2776\n",
      "  R^2 > 0.9: 2472\n",
      "\n"
     ]
    },
    {
     "name": "stderr",
     "output_type": "stream",
     "text": [
      "100%|██████████| 3667/3667 [00:11<00:00, 327.46it/s]\n",
      "  8%|▊         | 2/24 [00:19<03:43, 10.17s/it]"
     ]
    },
    {
     "name": "stdout",
     "output_type": "stream",
     "text": [
      "Dataset: filtering_scenario_1.1.csv, Shape after fitting: (3667, 48)\n",
      "  R^2 > 0: 3667\n",
      "  R^2 > 0.9: 3243\n",
      "\n"
     ]
    },
    {
     "name": "stderr",
     "output_type": "stream",
     "text": [
      "100%|██████████| 4543/4543 [00:14<00:00, 320.09it/s]\n",
      " 12%|█▎        | 3/24 [00:34<04:12, 12.03s/it]"
     ]
    },
    {
     "name": "stdout",
     "output_type": "stream",
     "text": [
      "Dataset: filtering_scenario_1.2.csv, Shape after fitting: (4543, 48)\n",
      "  R^2 > 0: 4543\n",
      "  R^2 > 0.9: 4002\n",
      "\n"
     ]
    },
    {
     "name": "stderr",
     "output_type": "stream",
     "text": [
      "100%|██████████| 5436/5436 [00:16<00:00, 320.36it/s]\n",
      " 17%|█▋        | 4/24 [00:51<04:40, 14.02s/it]"
     ]
    },
    {
     "name": "stdout",
     "output_type": "stream",
     "text": [
      "Dataset: filtering_scenario_1.3.csv, Shape after fitting: (5436, 48)\n",
      "  R^2 > 0: 5436\n",
      "  R^2 > 0.9: 4780\n",
      "\n"
     ]
    },
    {
     "name": "stderr",
     "output_type": "stream",
     "text": [
      "100%|██████████| 6308/6308 [00:19<00:00, 317.64it/s]\n",
      " 21%|██        | 5/24 [01:11<05:06, 16.15s/it]"
     ]
    },
    {
     "name": "stdout",
     "output_type": "stream",
     "text": [
      "Dataset: filtering_scenario_1.4.csv, Shape after fitting: (6308, 48)\n",
      "  R^2 > 0: 6308\n",
      "  R^2 > 0.9: 5548\n",
      "\n"
     ]
    },
    {
     "name": "stderr",
     "output_type": "stream",
     "text": [
      "100%|██████████| 7145/7145 [00:25<00:00, 284.07it/s]\n",
      " 25%|██▌       | 6/24 [01:36<05:46, 19.25s/it]"
     ]
    },
    {
     "name": "stdout",
     "output_type": "stream",
     "text": [
      "Dataset: filtering_scenario_1.5.csv, Shape after fitting: (7145, 48)\n",
      "  R^2 > 0: 7145\n",
      "  R^2 > 0.9: 6279\n",
      "\n"
     ]
    },
    {
     "name": "stderr",
     "output_type": "stream",
     "text": [
      "100%|██████████| 2956/2956 [00:12<00:00, 245.14it/s]\n",
      " 29%|██▉       | 7/24 [01:48<04:47, 16.92s/it]"
     ]
    },
    {
     "name": "stdout",
     "output_type": "stream",
     "text": [
      "Dataset: filtering_scenario_2.1.csv, Shape after fitting: (2956, 48)\n",
      "  R^2 > 0: 2956\n",
      "  R^2 > 0.9: 2563\n",
      "\n"
     ]
    },
    {
     "name": "stderr",
     "output_type": "stream",
     "text": [
      "100%|██████████| 3125/3125 [00:12<00:00, 245.71it/s]\n",
      " 33%|███▎      | 8/24 [02:01<04:09, 15.60s/it]"
     ]
    },
    {
     "name": "stdout",
     "output_type": "stream",
     "text": [
      "Dataset: filtering_scenario_2.2.csv, Shape after fitting: (3125, 48)\n",
      "  R^2 > 0: 3125\n",
      "  R^2 > 0.9: 2643\n",
      "\n"
     ]
    },
    {
     "name": "stderr",
     "output_type": "stream",
     "text": [
      "100%|██████████| 3276/3276 [00:12<00:00, 253.23it/s]\n",
      " 38%|███▊      | 9/24 [02:14<03:41, 14.79s/it]"
     ]
    },
    {
     "name": "stdout",
     "output_type": "stream",
     "text": [
      "Dataset: filtering_scenario_2.3.csv, Shape after fitting: (3276, 48)\n",
      "  R^2 > 0: 3276\n",
      "  R^2 > 0.9: 2714\n",
      "\n"
     ]
    },
    {
     "name": "stderr",
     "output_type": "stream",
     "text": [
      "100%|██████████| 3902/3902 [00:13<00:00, 291.58it/s]\n",
      " 42%|████▏     | 10/24 [02:27<03:21, 14.40s/it]"
     ]
    },
    {
     "name": "stdout",
     "output_type": "stream",
     "text": [
      "Dataset: filtering_scenario_3.1.csv, Shape after fitting: (3902, 48)\n",
      "  R^2 > 0: 3902\n",
      "  R^2 > 0.9: 3363\n",
      "\n"
     ]
    },
    {
     "name": "stderr",
     "output_type": "stream",
     "text": [
      "100%|██████████| 6733/6733 [00:24<00:00, 276.14it/s]\n",
      " 46%|████▌     | 11/24 [02:52<03:47, 17.49s/it]"
     ]
    },
    {
     "name": "stdout",
     "output_type": "stream",
     "text": [
      "Dataset: filtering_scenario_3.10.csv, Shape after fitting: (6733, 48)\n",
      "  R^2 > 0: 6733\n",
      "  R^2 > 0.9: 5781\n",
      "\n"
     ]
    },
    {
     "name": "stderr",
     "output_type": "stream",
     "text": [
      "100%|██████████| 7196/7196 [00:30<00:00, 239.36it/s]\n",
      " 50%|█████     | 12/24 [03:22<04:16, 21.36s/it]"
     ]
    },
    {
     "name": "stdout",
     "output_type": "stream",
     "text": [
      "Dataset: filtering_scenario_3.11.csv, Shape after fitting: (7196, 48)\n",
      "  R^2 > 0: 7196\n",
      "  R^2 > 0.9: 6034\n",
      "\n"
     ]
    },
    {
     "name": "stderr",
     "output_type": "stream",
     "text": [
      "100%|██████████| 7645/7645 [00:31<00:00, 239.44it/s]\n",
      " 54%|█████▍    | 13/24 [03:54<04:30, 24.60s/it]"
     ]
    },
    {
     "name": "stdout",
     "output_type": "stream",
     "text": [
      "Dataset: filtering_scenario_3.12.csv, Shape after fitting: (7645, 48)\n",
      "  R^2 > 0: 7645\n",
      "  R^2 > 0.9: 6256\n",
      "\n"
     ]
    },
    {
     "name": "stderr",
     "output_type": "stream",
     "text": [
      "100%|██████████| 7655/7655 [00:27<00:00, 277.20it/s]\n",
      " 58%|█████▊    | 14/24 [04:22<04:15, 25.55s/it]"
     ]
    },
    {
     "name": "stdout",
     "output_type": "stream",
     "text": [
      "Dataset: filtering_scenario_3.13.csv, Shape after fitting: (7655, 48)\n",
      "  R^2 > 0: 7655\n",
      "  R^2 > 0.9: 6561\n",
      "\n"
     ]
    },
    {
     "name": "stderr",
     "output_type": "stream",
     "text": [
      "100%|██████████| 8194/8194 [00:29<00:00, 279.92it/s]\n",
      " 62%|██████▎   | 15/24 [04:51<04:00, 26.70s/it]"
     ]
    },
    {
     "name": "stdout",
     "output_type": "stream",
     "text": [
      "Dataset: filtering_scenario_3.14.csv, Shape after fitting: (8194, 48)\n",
      "  R^2 > 0: 8194\n",
      "  R^2 > 0.9: 6851\n",
      "\n"
     ]
    },
    {
     "name": "stderr",
     "output_type": "stream",
     "text": [
      "100%|██████████| 8747/8747 [00:32<00:00, 272.54it/s]\n",
      " 67%|██████▋   | 16/24 [05:23<03:46, 28.37s/it]"
     ]
    },
    {
     "name": "stdout",
     "output_type": "stream",
     "text": [
      "Dataset: filtering_scenario_3.15.csv, Shape after fitting: (8747, 48)\n",
      "  R^2 > 0: 8747\n",
      "  R^2 > 0.9: 7112\n",
      "\n"
     ]
    },
    {
     "name": "stderr",
     "output_type": "stream",
     "text": [
      "100%|██████████| 4144/4144 [00:14<00:00, 285.07it/s]\n",
      " 71%|███████   | 17/24 [05:38<02:49, 24.23s/it]"
     ]
    },
    {
     "name": "stdout",
     "output_type": "stream",
     "text": [
      "Dataset: filtering_scenario_3.2.csv, Shape after fitting: (4144, 48)\n",
      "  R^2 > 0: 4144\n",
      "  R^2 > 0.9: 3486\n",
      "\n"
     ]
    },
    {
     "name": "stderr",
     "output_type": "stream",
     "text": [
      "100%|██████████| 4356/4356 [00:15<00:00, 278.17it/s]\n",
      " 75%|███████▌  | 18/24 [05:54<02:10, 21.67s/it]"
     ]
    },
    {
     "name": "stdout",
     "output_type": "stream",
     "text": [
      "Dataset: filtering_scenario_3.3.csv, Shape after fitting: (4356, 48)\n",
      "  R^2 > 0: 4356\n",
      "  R^2 > 0.9: 3588\n",
      "\n"
     ]
    },
    {
     "name": "stderr",
     "output_type": "stream",
     "text": [
      "100%|██████████| 4848/4848 [00:16<00:00, 285.64it/s]\n",
      " 79%|███████▉  | 19/24 [06:11<01:41, 20.28s/it]"
     ]
    },
    {
     "name": "stdout",
     "output_type": "stream",
     "text": [
      "Dataset: filtering_scenario_3.4.csv, Shape after fitting: (4848, 48)\n",
      "  R^2 > 0: 4848\n",
      "  R^2 > 0.9: 4158\n",
      "\n"
     ]
    },
    {
     "name": "stderr",
     "output_type": "stream",
     "text": [
      "100%|██████████| 5153/5153 [00:17<00:00, 287.00it/s]\n",
      " 83%|████████▎ | 20/24 [06:29<01:18, 19.61s/it]"
     ]
    },
    {
     "name": "stdout",
     "output_type": "stream",
     "text": [
      "Dataset: filtering_scenario_3.5.csv, Shape after fitting: (5153, 48)\n",
      "  R^2 > 0: 5153\n",
      "  R^2 > 0.9: 4316\n",
      "\n"
     ]
    },
    {
     "name": "stderr",
     "output_type": "stream",
     "text": [
      "100%|██████████| 5436/5436 [00:19<00:00, 280.98it/s]\n",
      " 88%|████████▊ | 21/24 [06:48<00:58, 19.55s/it]"
     ]
    },
    {
     "name": "stdout",
     "output_type": "stream",
     "text": [
      "Dataset: filtering_scenario_3.6.csv, Shape after fitting: (5436, 48)\n",
      "  R^2 > 0: 5436\n",
      "  R^2 > 0.9: 4456\n",
      "\n"
     ]
    },
    {
     "name": "stderr",
     "output_type": "stream",
     "text": [
      "100%|██████████| 5788/5788 [00:20<00:00, 285.36it/s]\n",
      " 92%|█████████▏| 22/24 [07:09<00:39, 19.80s/it]"
     ]
    },
    {
     "name": "stdout",
     "output_type": "stream",
     "text": [
      "Dataset: filtering_scenario_3.7.csv, Shape after fitting: (5788, 48)\n",
      "  R^2 > 0: 5788\n",
      "  R^2 > 0.9: 4966\n",
      "\n"
     ]
    },
    {
     "name": "stderr",
     "output_type": "stream",
     "text": [
      "100%|██████████| 6171/6171 [00:18<00:00, 325.41it/s]\n",
      " 96%|█████████▌| 23/24 [07:28<00:19, 19.57s/it]"
     ]
    },
    {
     "name": "stdout",
     "output_type": "stream",
     "text": [
      "Dataset: filtering_scenario_3.8.csv, Shape after fitting: (6171, 48)\n",
      "  R^2 > 0: 6171\n",
      "  R^2 > 0.9: 5169\n",
      "\n"
     ]
    },
    {
     "name": "stderr",
     "output_type": "stream",
     "text": [
      "100%|██████████| 6534/6534 [00:19<00:00, 326.99it/s]\n",
      "100%|██████████| 24/24 [07:48<00:00, 19.51s/it]"
     ]
    },
    {
     "name": "stdout",
     "output_type": "stream",
     "text": [
      "Dataset: filtering_scenario_3.9.csv, Shape after fitting: (6534, 48)\n",
      "  R^2 > 0: 6534\n",
      "  R^2 > 0.9: 5346\n",
      "\n"
     ]
    },
    {
     "name": "stderr",
     "output_type": "stream",
     "text": [
      "\n"
     ]
    }
   ],
   "source": [
    "# Get a list of all dataset files in the folder\n",
    "dataset_files = [f for f in os.listdir(_FOLDER_2) if os.path.isfile(os.path.join(_FOLDER_2, f))]\n",
    "\n",
    "# Define the columns for concentration and normalized response\n",
    "conc_columns = [\"fd_num_\" + str(i) for i in range(10)]\n",
    "response_norm = ['norm_cells_' + str(i) for i in range(10)]\n",
    "\n",
    "# Specify the fitting function as a string\n",
    "fitting_function_name = \"sigmoid_Wang\"\n",
    "\n",
    "# Loop through each dataset file\n",
    "for file in tqdm(dataset_files):\n",
    "    df = pd.read_csv(os.path.join(_FOLDER_2, file))\n",
    "    \n",
    "    # Perform fitting\n",
    "    r2, fit_param = FittingColumn(df, df.index, x_columns=conc_columns, y_columns=response_norm,\n",
    "                                  fitting_function=fitting_function_name, default_param=True)\n",
    "    \n",
    " \n",
    "    # Store the R^2 values and fitting parameters in the dataframe\n",
    "    df[fitting_function_name + \"_r2\"] = r2\n",
    "    df[fitting_function_name] = list(fit_param)\n",
    "    \n",
    "    # Print the shape of the dataframe after fitting\n",
    "    print(f\"Dataset: {file}, Shape after fitting: {df.shape}\")\n",
    "    \n",
    "    # Filter the dataframe to only include rows with R^2 > 0 and count R^2 > 0.9\n",
    "    df_filtered = df[df[fitting_function_name + \"_r2\"] > 0]\n",
    "    num_r2_above_09 = df_filtered[df_filtered[fitting_function_name + \"_r2\"] > 0.9].shape[0]\n",
    "\n",
    "    # Update the summary dictionary\n",
    "    good_fits_summary[fitting_function_name][\"total_good_fits\"] += num_r2_above_09\n",
    "    good_fits_summary[fitting_function_name][\"dataset_good_fits\"][file] = num_r2_above_09\n",
    "\n",
    "    print(f\"  R^2 > 0: {df_filtered.shape[0]}\")\n",
    "    print(f\"  R^2 > 0.9: {num_r2_above_09}\\n\")"
   ]
  },
  {
   "cell_type": "markdown",
   "metadata": {},
   "source": [
    "### fsigmoid"
   ]
  },
  {
   "cell_type": "code",
   "execution_count": 15,
   "metadata": {},
   "outputs": [
    {
     "name": "stderr",
     "output_type": "stream",
     "text": [
      "100%|██████████| 2776/2776 [00:08<00:00, 316.03it/s]\n",
      "  4%|▍         | 1/24 [00:08<03:22,  8.82s/it]"
     ]
    },
    {
     "name": "stdout",
     "output_type": "stream",
     "text": [
      "Dataset: filtered_drug_profiles_123.csv, Shape after fitting: (2776, 49)\n",
      "  R^2 > 0: 2776\n",
      "  R^2 > 0.9: 2472\n",
      "\n"
     ]
    },
    {
     "name": "stderr",
     "output_type": "stream",
     "text": [
      "100%|██████████| 3667/3667 [00:14<00:00, 258.71it/s]\n",
      "  8%|▊         | 2/24 [00:23<04:23, 11.99s/it]"
     ]
    },
    {
     "name": "stdout",
     "output_type": "stream",
     "text": [
      "Dataset: filtering_scenario_1.1.csv, Shape after fitting: (3667, 48)\n",
      "  R^2 > 0: 3667\n",
      "  R^2 > 0.9: 3243\n",
      "\n"
     ]
    },
    {
     "name": "stderr",
     "output_type": "stream",
     "text": [
      "100%|██████████| 4543/4543 [00:14<00:00, 302.96it/s]\n",
      " 12%|█▎        | 3/24 [00:38<04:41, 13.39s/it]"
     ]
    },
    {
     "name": "stdout",
     "output_type": "stream",
     "text": [
      "Dataset: filtering_scenario_1.2.csv, Shape after fitting: (4543, 48)\n",
      "  R^2 > 0: 4543\n",
      "  R^2 > 0.9: 4002\n",
      "\n"
     ]
    },
    {
     "name": "stderr",
     "output_type": "stream",
     "text": [
      "100%|██████████| 5436/5436 [00:19<00:00, 275.66it/s]\n",
      " 17%|█▋        | 4/24 [00:57<05:18, 15.92s/it]"
     ]
    },
    {
     "name": "stdout",
     "output_type": "stream",
     "text": [
      "Dataset: filtering_scenario_1.3.csv, Shape after fitting: (5436, 48)\n",
      "  R^2 > 0: 5436\n",
      "  R^2 > 0.9: 4780\n",
      "\n"
     ]
    },
    {
     "name": "stderr",
     "output_type": "stream",
     "text": [
      "100%|██████████| 6308/6308 [00:24<00:00, 259.92it/s]\n",
      " 21%|██        | 5/24 [01:22<06:00, 18.96s/it]"
     ]
    },
    {
     "name": "stdout",
     "output_type": "stream",
     "text": [
      "Dataset: filtering_scenario_1.4.csv, Shape after fitting: (6308, 48)\n",
      "  R^2 > 0: 6308\n",
      "  R^2 > 0.9: 5548\n",
      "\n"
     ]
    },
    {
     "name": "stderr",
     "output_type": "stream",
     "text": [
      "100%|██████████| 7145/7145 [00:27<00:00, 261.14it/s]\n",
      " 25%|██▌       | 6/24 [01:49<06:33, 21.84s/it]"
     ]
    },
    {
     "name": "stdout",
     "output_type": "stream",
     "text": [
      "Dataset: filtering_scenario_1.5.csv, Shape after fitting: (7145, 48)\n",
      "  R^2 > 0: 7145\n",
      "  R^2 > 0.9: 6279\n",
      "\n"
     ]
    },
    {
     "name": "stderr",
     "output_type": "stream",
     "text": [
      "100%|██████████| 2956/2956 [00:11<00:00, 260.20it/s]\n",
      " 29%|██▉       | 7/24 [02:01<05:13, 18.43s/it]"
     ]
    },
    {
     "name": "stdout",
     "output_type": "stream",
     "text": [
      "Dataset: filtering_scenario_2.1.csv, Shape after fitting: (2956, 48)\n",
      "  R^2 > 0: 2956\n",
      "  R^2 > 0.9: 2563\n",
      "\n"
     ]
    },
    {
     "name": "stderr",
     "output_type": "stream",
     "text": [
      "100%|██████████| 3125/3125 [00:12<00:00, 260.27it/s]\n",
      " 33%|███▎      | 8/24 [02:13<04:22, 16.40s/it]"
     ]
    },
    {
     "name": "stdout",
     "output_type": "stream",
     "text": [
      "Dataset: filtering_scenario_2.2.csv, Shape after fitting: (3125, 48)\n",
      "  R^2 > 0: 3125\n",
      "  R^2 > 0.9: 2643\n",
      "\n"
     ]
    },
    {
     "name": "stderr",
     "output_type": "stream",
     "text": [
      "100%|██████████| 3276/3276 [00:10<00:00, 309.10it/s]\n",
      " 38%|███▊      | 9/24 [02:23<03:38, 14.60s/it]"
     ]
    },
    {
     "name": "stdout",
     "output_type": "stream",
     "text": [
      "Dataset: filtering_scenario_2.3.csv, Shape after fitting: (3276, 48)\n",
      "  R^2 > 0: 3276\n",
      "  R^2 > 0.9: 2714\n",
      "\n"
     ]
    },
    {
     "name": "stderr",
     "output_type": "stream",
     "text": [
      "100%|██████████| 3902/3902 [00:14<00:00, 276.80it/s]\n",
      " 42%|████▏     | 10/24 [02:37<03:22, 14.46s/it]"
     ]
    },
    {
     "name": "stdout",
     "output_type": "stream",
     "text": [
      "Dataset: filtering_scenario_3.1.csv, Shape after fitting: (3902, 48)\n",
      "  R^2 > 0: 3902\n",
      "  R^2 > 0.9: 3363\n",
      "\n"
     ]
    },
    {
     "name": "stderr",
     "output_type": "stream",
     "text": [
      "100%|██████████| 6733/6733 [00:24<00:00, 277.81it/s]\n",
      " 46%|████▌     | 11/24 [03:02<03:47, 17.47s/it]"
     ]
    },
    {
     "name": "stdout",
     "output_type": "stream",
     "text": [
      "Dataset: filtering_scenario_3.10.csv, Shape after fitting: (6733, 48)\n",
      "  R^2 > 0: 6733\n",
      "  R^2 > 0.9: 5781\n",
      "\n"
     ]
    },
    {
     "name": "stderr",
     "output_type": "stream",
     "text": [
      "100%|██████████| 7196/7196 [00:27<00:00, 265.37it/s]\n",
      " 50%|█████     | 12/24 [03:29<04:05, 20.43s/it]"
     ]
    },
    {
     "name": "stdout",
     "output_type": "stream",
     "text": [
      "Dataset: filtering_scenario_3.11.csv, Shape after fitting: (7196, 48)\n",
      "  R^2 > 0: 7196\n",
      "  R^2 > 0.9: 6034\n",
      "\n"
     ]
    },
    {
     "name": "stderr",
     "output_type": "stream",
     "text": [
      "100%|██████████| 7645/7645 [00:29<00:00, 255.86it/s]\n",
      " 54%|█████▍    | 13/24 [03:59<04:16, 23.32s/it]"
     ]
    },
    {
     "name": "stdout",
     "output_type": "stream",
     "text": [
      "Dataset: filtering_scenario_3.12.csv, Shape after fitting: (7645, 48)\n",
      "  R^2 > 0: 7645\n",
      "  R^2 > 0.9: 6256\n",
      "\n"
     ]
    },
    {
     "name": "stderr",
     "output_type": "stream",
     "text": [
      "100%|██████████| 7655/7655 [00:28<00:00, 264.83it/s]\n",
      " 58%|█████▊    | 14/24 [04:28<04:10, 25.04s/it]"
     ]
    },
    {
     "name": "stdout",
     "output_type": "stream",
     "text": [
      "Dataset: filtering_scenario_3.13.csv, Shape after fitting: (7655, 48)\n",
      "  R^2 > 0: 7655\n",
      "  R^2 > 0.9: 6561\n",
      "\n"
     ]
    },
    {
     "name": "stderr",
     "output_type": "stream",
     "text": [
      "100%|██████████| 8194/8194 [00:30<00:00, 271.54it/s]\n",
      " 62%|██████▎   | 15/24 [04:58<03:59, 26.61s/it]"
     ]
    },
    {
     "name": "stdout",
     "output_type": "stream",
     "text": [
      "Dataset: filtering_scenario_3.14.csv, Shape after fitting: (8194, 48)\n",
      "  R^2 > 0: 8194\n",
      "  R^2 > 0.9: 6851\n",
      "\n"
     ]
    },
    {
     "name": "stderr",
     "output_type": "stream",
     "text": [
      "100%|██████████| 8747/8747 [00:33<00:00, 263.06it/s]\n",
      " 67%|██████▋   | 16/24 [05:31<03:49, 28.63s/it]"
     ]
    },
    {
     "name": "stdout",
     "output_type": "stream",
     "text": [
      "Dataset: filtering_scenario_3.15.csv, Shape after fitting: (8747, 48)\n",
      "  R^2 > 0: 8747\n",
      "  R^2 > 0.9: 7112\n",
      "\n"
     ]
    },
    {
     "name": "stderr",
     "output_type": "stream",
     "text": [
      "100%|██████████| 4144/4144 [00:15<00:00, 268.47it/s]\n",
      " 71%|███████   | 17/24 [05:47<02:52, 24.68s/it]"
     ]
    },
    {
     "name": "stdout",
     "output_type": "stream",
     "text": [
      "Dataset: filtering_scenario_3.2.csv, Shape after fitting: (4144, 48)\n",
      "  R^2 > 0: 4144\n",
      "  R^2 > 0.9: 3486\n",
      "\n"
     ]
    },
    {
     "name": "stderr",
     "output_type": "stream",
     "text": [
      "100%|██████████| 4356/4356 [00:15<00:00, 284.30it/s]\n",
      " 75%|███████▌  | 18/24 [06:02<02:11, 21.88s/it]"
     ]
    },
    {
     "name": "stdout",
     "output_type": "stream",
     "text": [
      "Dataset: filtering_scenario_3.3.csv, Shape after fitting: (4356, 48)\n",
      "  R^2 > 0: 4356\n",
      "  R^2 > 0.9: 3588\n",
      "\n"
     ]
    },
    {
     "name": "stderr",
     "output_type": "stream",
     "text": [
      "100%|██████████| 4848/4848 [00:16<00:00, 290.66it/s]\n",
      " 79%|███████▉  | 19/24 [06:19<01:41, 20.34s/it]"
     ]
    },
    {
     "name": "stdout",
     "output_type": "stream",
     "text": [
      "Dataset: filtering_scenario_3.4.csv, Shape after fitting: (4848, 48)\n",
      "  R^2 > 0: 4848\n",
      "  R^2 > 0.9: 4158\n",
      "\n"
     ]
    },
    {
     "name": "stderr",
     "output_type": "stream",
     "text": [
      "100%|██████████| 5153/5153 [00:15<00:00, 342.13it/s]\n",
      " 83%|████████▎ | 20/24 [06:34<01:15, 18.77s/it]"
     ]
    },
    {
     "name": "stdout",
     "output_type": "stream",
     "text": [
      "Dataset: filtering_scenario_3.5.csv, Shape after fitting: (5153, 48)\n",
      "  R^2 > 0: 5153\n",
      "  R^2 > 0.9: 4316\n",
      "\n"
     ]
    },
    {
     "name": "stderr",
     "output_type": "stream",
     "text": [
      "100%|██████████| 5436/5436 [00:16<00:00, 338.70it/s]\n",
      " 88%|████████▊ | 21/24 [06:50<00:53, 17.97s/it]"
     ]
    },
    {
     "name": "stdout",
     "output_type": "stream",
     "text": [
      "Dataset: filtering_scenario_3.6.csv, Shape after fitting: (5436, 48)\n",
      "  R^2 > 0: 5436\n",
      "  R^2 > 0.9: 4456\n",
      "\n"
     ]
    },
    {
     "name": "stderr",
     "output_type": "stream",
     "text": [
      "100%|██████████| 5788/5788 [00:17<00:00, 336.61it/s]\n",
      " 92%|█████████▏| 22/24 [07:08<00:35, 17.75s/it]"
     ]
    },
    {
     "name": "stdout",
     "output_type": "stream",
     "text": [
      "Dataset: filtering_scenario_3.7.csv, Shape after fitting: (5788, 48)\n",
      "  R^2 > 0: 5788\n",
      "  R^2 > 0.9: 4966\n",
      "\n"
     ]
    },
    {
     "name": "stderr",
     "output_type": "stream",
     "text": [
      "100%|██████████| 6171/6171 [00:18<00:00, 339.54it/s]\n",
      " 96%|█████████▌| 23/24 [07:26<00:17, 17.90s/it]"
     ]
    },
    {
     "name": "stdout",
     "output_type": "stream",
     "text": [
      "Dataset: filtering_scenario_3.8.csv, Shape after fitting: (6171, 48)\n",
      "  R^2 > 0: 6171\n",
      "  R^2 > 0.9: 5169\n",
      "\n"
     ]
    },
    {
     "name": "stderr",
     "output_type": "stream",
     "text": [
      "100%|██████████| 6534/6534 [00:19<00:00, 340.37it/s]\n",
      "100%|██████████| 24/24 [07:45<00:00, 19.40s/it]"
     ]
    },
    {
     "name": "stdout",
     "output_type": "stream",
     "text": [
      "Dataset: filtering_scenario_3.9.csv, Shape after fitting: (6534, 48)\n",
      "  R^2 > 0: 6534\n",
      "  R^2 > 0.9: 5346\n",
      "\n"
     ]
    },
    {
     "name": "stderr",
     "output_type": "stream",
     "text": [
      "\n"
     ]
    }
   ],
   "source": [
    "# Get a list of all dataset files in the folder\n",
    "dataset_files = [f for f in os.listdir(_FOLDER_2) if os.path.isfile(os.path.join(_FOLDER_2, f))]\n",
    "\n",
    "# Define the columns for concentration and normalized response\n",
    "conc_columns = [\"fd_num_\" + str(i) for i in range(10)]\n",
    "response_norm = ['norm_cells_' + str(i) for i in range(10)]\n",
    "\n",
    "# Specify the fitting function as a string\n",
    "fitting_function_name = \"fsigmoid\"\n",
    "\n",
    "# Loop through each dataset file\n",
    "for file in tqdm(dataset_files):\n",
    "    df = pd.read_csv(os.path.join(_FOLDER_2, file))\n",
    "    \n",
    "    # Perform fitting\n",
    "    r2, fit_param = FittingColumn(df, df.index, x_columns=conc_columns, y_columns=response_norm,\n",
    "                                  fitting_function=fitting_function_name, default_param=True)\n",
    "    \n",
    "    # Store the R^2 values and fitting parameters in the dataframe\n",
    "    df[fitting_function_name + \"_r2\"] = r2\n",
    "    df[fitting_function_name] = list(fit_param)\n",
    "    \n",
    "    # Print the shape of the dataframe after fitting\n",
    "    print(f\"Dataset: {file}, Shape after fitting: {df.shape}\")\n",
    "    \n",
    "    # Filter the dataframe to only include rows with R^2 > 0 and count R^2 > 0.9\n",
    "    df_filtered = df[df[fitting_function_name + \"_r2\"] > 0]\n",
    "    num_r2_above_09 = df_filtered[df_filtered[fitting_function_name + \"_r2\"] > 0.9].shape[0]\n",
    "    \n",
    "    # Update the summary dictionary\n",
    "    good_fits_summary[fitting_function_name][\"total_good_fits\"] += num_r2_above_09\n",
    "    good_fits_summary[fitting_function_name][\"dataset_good_fits\"][file] = num_r2_above_09\n",
    "\n",
    "    print(f\"  R^2 > 0: {df_filtered.shape[0]}\")\n",
    "    print(f\"  R^2 > 0.9: {num_r2_above_09}\\n\")"
   ]
  },
  {
   "cell_type": "markdown",
   "metadata": {},
   "source": [
    "### sigmoid_4_param"
   ]
  },
  {
   "cell_type": "code",
   "execution_count": 5,
   "metadata": {},
   "outputs": [
    {
     "name": "stderr",
     "output_type": "stream",
     "text": [
      "  0%|          | 0/24 [00:00<?, ?it/s]"
     ]
    },
    {
     "name": "stderr",
     "output_type": "stream",
     "text": [
      "100%|██████████| 2776/2776 [00:10<00:00, 261.85it/s]\n",
      "  4%|▍         | 1/24 [00:10<04:04, 10.64s/it]"
     ]
    },
    {
     "name": "stdout",
     "output_type": "stream",
     "text": [
      "Dataset: filtered_drug_profiles_123.csv, Shape after fitting: (2776, 49)\n",
      "  R^2 > 0: 2775\n",
      "  R^2 > 0.9: 2735\n",
      "\n"
     ]
    },
    {
     "name": "stderr",
     "output_type": "stream",
     "text": [
      "100%|██████████| 3667/3667 [00:14<00:00, 253.57it/s]\n",
      "  8%|▊         | 2/24 [00:25<04:44, 12.92s/it]"
     ]
    },
    {
     "name": "stdout",
     "output_type": "stream",
     "text": [
      "Dataset: filtering_scenario_1.1.csv, Shape after fitting: (3667, 48)\n",
      "  R^2 > 0: 3666\n",
      "  R^2 > 0.9: 3602\n",
      "\n"
     ]
    },
    {
     "name": "stderr",
     "output_type": "stream",
     "text": [
      "100%|██████████| 4543/4543 [00:20<00:00, 225.14it/s]\n",
      " 12%|█▎        | 3/24 [00:45<05:41, 16.28s/it]"
     ]
    },
    {
     "name": "stdout",
     "output_type": "stream",
     "text": [
      "Dataset: filtering_scenario_1.2.csv, Shape after fitting: (4543, 48)\n",
      "  R^2 > 0: 4542\n",
      "  R^2 > 0.9: 4460\n",
      "\n"
     ]
    },
    {
     "name": "stderr",
     "output_type": "stream",
     "text": [
      "100%|██████████| 5436/5436 [00:24<00:00, 222.87it/s]\n",
      " 17%|█▋        | 4/24 [01:09<06:30, 19.51s/it]"
     ]
    },
    {
     "name": "stdout",
     "output_type": "stream",
     "text": [
      "Dataset: filtering_scenario_1.3.csv, Shape after fitting: (5436, 48)\n",
      "  R^2 > 0: 5435\n",
      "  R^2 > 0.9: 5331\n",
      "\n"
     ]
    },
    {
     "name": "stderr",
     "output_type": "stream",
     "text": [
      "100%|██████████| 6308/6308 [00:26<00:00, 236.65it/s]\n",
      " 21%|██        | 5/24 [01:36<07:00, 22.12s/it]"
     ]
    },
    {
     "name": "stdout",
     "output_type": "stream",
     "text": [
      "Dataset: filtering_scenario_1.4.csv, Shape after fitting: (6308, 48)\n",
      "  R^2 > 0: 6307\n",
      "  R^2 > 0.9: 6182\n",
      "\n"
     ]
    },
    {
     "name": "stderr",
     "output_type": "stream",
     "text": [
      "100%|██████████| 7145/7145 [00:29<00:00, 243.07it/s]\n",
      " 25%|██▌       | 6/24 [02:06<07:23, 24.62s/it]"
     ]
    },
    {
     "name": "stdout",
     "output_type": "stream",
     "text": [
      "Dataset: filtering_scenario_1.5.csv, Shape after fitting: (7145, 48)\n",
      "  R^2 > 0: 7144\n",
      "  R^2 > 0.9: 7000\n",
      "\n"
     ]
    },
    {
     "name": "stderr",
     "output_type": "stream",
     "text": [
      "100%|██████████| 2956/2956 [00:12<00:00, 238.27it/s]\n",
      " 29%|██▉       | 7/24 [02:18<05:50, 20.64s/it]"
     ]
    },
    {
     "name": "stdout",
     "output_type": "stream",
     "text": [
      "Dataset: filtering_scenario_2.1.csv, Shape after fitting: (2956, 48)\n",
      "  R^2 > 0: 2955\n",
      "  R^2 > 0.9: 2906\n",
      "\n"
     ]
    },
    {
     "name": "stderr",
     "output_type": "stream",
     "text": [
      "100%|██████████| 3125/3125 [00:14<00:00, 218.24it/s]\n",
      " 33%|███▎      | 8/24 [02:32<04:58, 18.65s/it]"
     ]
    },
    {
     "name": "stdout",
     "output_type": "stream",
     "text": [
      "Dataset: filtering_scenario_2.2.csv, Shape after fitting: (3125, 48)\n",
      "  R^2 > 0: 3124\n",
      "  R^2 > 0.9: 3062\n",
      "\n"
     ]
    },
    {
     "name": "stderr",
     "output_type": "stream",
     "text": [
      "100%|██████████| 3276/3276 [00:14<00:00, 222.35it/s]\n",
      " 38%|███▊      | 9/24 [02:47<04:21, 17.44s/it]"
     ]
    },
    {
     "name": "stdout",
     "output_type": "stream",
     "text": [
      "Dataset: filtering_scenario_2.3.csv, Shape after fitting: (3276, 48)\n",
      "  R^2 > 0: 3274\n",
      "  R^2 > 0.9: 3206\n",
      "\n"
     ]
    },
    {
     "name": "stderr",
     "output_type": "stream",
     "text": [
      "100%|██████████| 3902/3902 [00:17<00:00, 228.11it/s]\n",
      " 42%|████▏     | 10/24 [03:04<04:02, 17.35s/it]"
     ]
    },
    {
     "name": "stdout",
     "output_type": "stream",
     "text": [
      "Dataset: filtering_scenario_3.1.csv, Shape after fitting: (3902, 48)\n",
      "  R^2 > 0: 3901\n",
      "  R^2 > 0.9: 3824\n",
      "\n"
     ]
    },
    {
     "name": "stderr",
     "output_type": "stream",
     "text": [
      "100%|██████████| 6733/6733 [00:28<00:00, 234.71it/s]\n",
      " 46%|████▌     | 11/24 [03:33<04:30, 20.84s/it]"
     ]
    },
    {
     "name": "stdout",
     "output_type": "stream",
     "text": [
      "Dataset: filtering_scenario_3.10.csv, Shape after fitting: (6733, 48)\n",
      "  R^2 > 0: 6732\n",
      "  R^2 > 0.9: 6587\n",
      "\n"
     ]
    },
    {
     "name": "stderr",
     "output_type": "stream",
     "text": [
      "100%|██████████| 7196/7196 [00:32<00:00, 218.22it/s]\n",
      " 50%|█████     | 12/24 [04:06<04:54, 24.56s/it]"
     ]
    },
    {
     "name": "stdout",
     "output_type": "stream",
     "text": [
      "Dataset: filtering_scenario_3.11.csv, Shape after fitting: (7196, 48)\n",
      "  R^2 > 0: 7195\n",
      "  R^2 > 0.9: 7016\n",
      "\n"
     ]
    },
    {
     "name": "stderr",
     "output_type": "stream",
     "text": [
      "100%|██████████| 7645/7645 [00:34<00:00, 219.32it/s]\n",
      " 54%|█████▍    | 13/24 [04:41<05:04, 27.72s/it]"
     ]
    },
    {
     "name": "stdout",
     "output_type": "stream",
     "text": [
      "Dataset: filtering_scenario_3.12.csv, Shape after fitting: (7645, 48)\n",
      "  R^2 > 0: 7643\n",
      "  R^2 > 0.9: 7428\n",
      "\n"
     ]
    },
    {
     "name": "stderr",
     "output_type": "stream",
     "text": [
      "100%|██████████| 7655/7655 [00:32<00:00, 234.99it/s]\n",
      " 58%|█████▊    | 14/24 [05:14<04:52, 29.21s/it]"
     ]
    },
    {
     "name": "stdout",
     "output_type": "stream",
     "text": [
      "Dataset: filtering_scenario_3.13.csv, Shape after fitting: (7655, 48)\n",
      "  R^2 > 0: 7654\n",
      "  R^2 > 0.9: 7480\n",
      "\n"
     ]
    },
    {
     "name": "stderr",
     "output_type": "stream",
     "text": [
      "100%|██████████| 8194/8194 [00:35<00:00, 229.25it/s]\n",
      " 62%|██████▎   | 15/24 [05:50<04:41, 31.23s/it]"
     ]
    },
    {
     "name": "stdout",
     "output_type": "stream",
     "text": [
      "Dataset: filtering_scenario_3.14.csv, Shape after fitting: (8194, 48)\n",
      "  R^2 > 0: 8193\n",
      "  R^2 > 0.9: 7976\n",
      "\n"
     ]
    },
    {
     "name": "stderr",
     "output_type": "stream",
     "text": [
      "100%|██████████| 8747/8747 [00:39<00:00, 220.99it/s]\n",
      " 67%|██████▋   | 16/24 [06:29<04:30, 33.77s/it]"
     ]
    },
    {
     "name": "stdout",
     "output_type": "stream",
     "text": [
      "Dataset: filtering_scenario_3.15.csv, Shape after fitting: (8747, 48)\n",
      "  R^2 > 0: 8745\n",
      "  R^2 > 0.9: 8474\n",
      "\n"
     ]
    },
    {
     "name": "stderr",
     "output_type": "stream",
     "text": [
      "100%|██████████| 4144/4144 [00:17<00:00, 233.01it/s]\n",
      " 71%|███████   | 17/24 [06:47<03:22, 28.98s/it]"
     ]
    },
    {
     "name": "stdout",
     "output_type": "stream",
     "text": [
      "Dataset: filtering_scenario_3.2.csv, Shape after fitting: (4144, 48)\n",
      "  R^2 > 0: 4143\n",
      "  R^2 > 0.9: 4049\n",
      "\n"
     ]
    },
    {
     "name": "stderr",
     "output_type": "stream",
     "text": [
      "100%|██████████| 4356/4356 [00:18<00:00, 230.96it/s]\n",
      " 75%|███████▌  | 18/24 [07:06<02:35, 25.96s/it]"
     ]
    },
    {
     "name": "stdout",
     "output_type": "stream",
     "text": [
      "Dataset: filtering_scenario_3.3.csv, Shape after fitting: (4356, 48)\n",
      "  R^2 > 0: 4354\n",
      "  R^2 > 0.9: 4248\n",
      "\n"
     ]
    },
    {
     "name": "stderr",
     "output_type": "stream",
     "text": [
      "100%|██████████| 4848/4848 [00:20<00:00, 238.38it/s]\n",
      " 79%|███████▉  | 19/24 [07:27<02:01, 24.29s/it]"
     ]
    },
    {
     "name": "stdout",
     "output_type": "stream",
     "text": [
      "Dataset: filtering_scenario_3.4.csv, Shape after fitting: (4848, 48)\n",
      "  R^2 > 0: 4847\n",
      "  R^2 > 0.9: 4749\n",
      "\n"
     ]
    },
    {
     "name": "stderr",
     "output_type": "stream",
     "text": [
      "100%|██████████| 5153/5153 [00:21<00:00, 238.64it/s]\n",
      " 83%|████████▎ | 20/24 [07:48<01:34, 23.50s/it]"
     ]
    },
    {
     "name": "stdout",
     "output_type": "stream",
     "text": [
      "Dataset: filtering_scenario_3.5.csv, Shape after fitting: (5153, 48)\n",
      "  R^2 > 0: 5152\n",
      "  R^2 > 0.9: 5031\n",
      "\n"
     ]
    },
    {
     "name": "stderr",
     "output_type": "stream",
     "text": [
      "100%|██████████| 5436/5436 [00:23<00:00, 232.76it/s]\n",
      " 88%|████████▊ | 21/24 [08:12<01:10, 23.49s/it]"
     ]
    },
    {
     "name": "stdout",
     "output_type": "stream",
     "text": [
      "Dataset: filtering_scenario_3.6.csv, Shape after fitting: (5436, 48)\n",
      "  R^2 > 0: 5434\n",
      "  R^2 > 0.9: 5294\n",
      "\n"
     ]
    },
    {
     "name": "stderr",
     "output_type": "stream",
     "text": [
      "100%|██████████| 5788/5788 [00:24<00:00, 234.08it/s]\n",
      " 92%|█████████▏| 22/24 [08:37<00:47, 23.88s/it]"
     ]
    },
    {
     "name": "stdout",
     "output_type": "stream",
     "text": [
      "Dataset: filtering_scenario_3.7.csv, Shape after fitting: (5788, 48)\n",
      "  R^2 > 0: 5787\n",
      "  R^2 > 0.9: 5665\n",
      "\n"
     ]
    },
    {
     "name": "stderr",
     "output_type": "stream",
     "text": [
      "100%|██████████| 6171/6171 [00:26<00:00, 235.09it/s]\n",
      " 96%|█████████▌| 23/24 [09:03<00:24, 24.62s/it]"
     ]
    },
    {
     "name": "stdout",
     "output_type": "stream",
     "text": [
      "Dataset: filtering_scenario_3.8.csv, Shape after fitting: (6171, 48)\n",
      "  R^2 > 0: 6170\n",
      "  R^2 > 0.9: 6021\n",
      "\n"
     ]
    },
    {
     "name": "stderr",
     "output_type": "stream",
     "text": [
      "100%|██████████| 6534/6534 [00:27<00:00, 235.44it/s]\n",
      "100%|██████████| 24/24 [09:31<00:00, 23.80s/it]"
     ]
    },
    {
     "name": "stdout",
     "output_type": "stream",
     "text": [
      "Dataset: filtering_scenario_3.9.csv, Shape after fitting: (6534, 48)\n",
      "  R^2 > 0: 6532\n",
      "  R^2 > 0.9: 6356\n",
      "\n"
     ]
    },
    {
     "name": "stderr",
     "output_type": "stream",
     "text": [
      "\n"
     ]
    }
   ],
   "source": [
    "# Get a list of all dataset files in the folder\n",
    "dataset_files = [f for f in os.listdir(_FOLDER_2) if os.path.isfile(os.path.join(_FOLDER_2, f))]\n",
    "\n",
    "# Define the columns for concentration and normalized response\n",
    "conc_columns = [\"fd_num_\" + str(i) for i in range(10)]\n",
    "response_norm = ['norm_cells_' + str(i) for i in range(10)]\n",
    "\n",
    "# Specify the fitting function as a string\n",
    "fitting_function_name = \"sigmoid_4_param\"\n",
    "\n",
    "# Loop through each dataset file\n",
    "for file in tqdm(dataset_files):\n",
    "    df = pd.read_csv(os.path.join(_FOLDER_2, file))\n",
    "    \n",
    "    # Perform fitting\n",
    "    r2, fit_param = FittingColumn(df, df.index, x_columns=conc_columns, y_columns=response_norm,\n",
    "                                  fitting_function=fitting_function_name, default_param=True)\n",
    "    \n",
    "    # Store the R^2 values and fitting parameters in the dataframe\n",
    "    df[fitting_function_name + \"_r2\"] = r2\n",
    "    df[fitting_function_name] = list(fit_param)\n",
    "    \n",
    "    # Print the shape of the dataframe after fitting\n",
    "    print(f\"Dataset: {file}, Shape after fitting: {df.shape}\")\n",
    "    \n",
    "    # Filter the dataframe to only include rows with R^2 > 0 and count R^2 > 0.9\n",
    "    df_filtered = df[df[fitting_function_name + \"_r2\"] > 0]\n",
    "    num_r2_above_09 = df_filtered[df_filtered[fitting_function_name + \"_r2\"] > 0.9].shape[0]\n",
    "\n",
    "    # Update the summary dictionary\n",
    "    good_fits_summary[fitting_function_name][\"total_good_fits\"] += num_r2_above_09\n",
    "    good_fits_summary[fitting_function_name][\"dataset_good_fits\"][file] = num_r2_above_09\n",
    "\n",
    "\n",
    "    print(f\"  R^2 > 0: {df_filtered.shape[0]}\")\n",
    "    print(f\"  R^2 > 0.9: {num_r2_above_09}\\n\")\n"
   ]
  },
  {
   "cell_type": "markdown",
   "metadata": {},
   "source": [
    "### sigmoid_3_param"
   ]
  },
  {
   "cell_type": "code",
   "execution_count": 17,
   "metadata": {},
   "outputs": [
    {
     "name": "stderr",
     "output_type": "stream",
     "text": [
      "100%|██████████| 2776/2776 [00:10<00:00, 257.89it/s]\n",
      "  4%|▍         | 1/24 [00:10<04:08, 10.80s/it]"
     ]
    },
    {
     "name": "stdout",
     "output_type": "stream",
     "text": [
      "Dataset: filtered_drug_profiles_123.csv, Shape after fitting: (2776, 49)\n",
      "  R^2 > 0: 2776\n",
      "  R^2 > 0.9: 2687\n",
      "\n"
     ]
    },
    {
     "name": "stderr",
     "output_type": "stream",
     "text": [
      "100%|██████████| 3667/3667 [00:13<00:00, 277.92it/s]\n",
      "  8%|▊         | 2/24 [00:24<04:29, 12.23s/it]"
     ]
    },
    {
     "name": "stdout",
     "output_type": "stream",
     "text": [
      "Dataset: filtering_scenario_1.1.csv, Shape after fitting: (3667, 48)\n",
      "  R^2 > 0: 3667\n",
      "  R^2 > 0.9: 3533\n",
      "\n"
     ]
    },
    {
     "name": "stderr",
     "output_type": "stream",
     "text": [
      "100%|██████████| 4543/4543 [00:16<00:00, 275.05it/s]\n",
      " 12%|█▎        | 3/24 [00:40<04:58, 14.21s/it]"
     ]
    },
    {
     "name": "stdout",
     "output_type": "stream",
     "text": [
      "Dataset: filtering_scenario_1.2.csv, Shape after fitting: (4543, 48)\n",
      "  R^2 > 0: 4543\n",
      "  R^2 > 0.9: 4374\n",
      "\n"
     ]
    },
    {
     "name": "stderr",
     "output_type": "stream",
     "text": [
      "100%|██████████| 5436/5436 [00:21<00:00, 257.13it/s]\n",
      " 17%|█▋        | 4/24 [01:01<05:39, 16.98s/it]"
     ]
    },
    {
     "name": "stdout",
     "output_type": "stream",
     "text": [
      "Dataset: filtering_scenario_1.3.csv, Shape after fitting: (5436, 48)\n",
      "  R^2 > 0: 5436\n",
      "  R^2 > 0.9: 5225\n",
      "\n"
     ]
    },
    {
     "name": "stderr",
     "output_type": "stream",
     "text": [
      "100%|██████████| 6308/6308 [00:24<00:00, 254.07it/s]\n",
      " 21%|██        | 5/24 [01:26<06:16, 19.84s/it]"
     ]
    },
    {
     "name": "stdout",
     "output_type": "stream",
     "text": [
      "Dataset: filtering_scenario_1.4.csv, Shape after fitting: (6308, 48)\n",
      "  R^2 > 0: 6308\n",
      "  R^2 > 0.9: 6053\n",
      "\n"
     ]
    },
    {
     "name": "stderr",
     "output_type": "stream",
     "text": [
      "100%|██████████| 7145/7145 [00:27<00:00, 264.25it/s]\n",
      " 25%|██▌       | 6/24 [01:53<06:41, 22.31s/it]"
     ]
    },
    {
     "name": "stdout",
     "output_type": "stream",
     "text": [
      "Dataset: filtering_scenario_1.5.csv, Shape after fitting: (7145, 48)\n",
      "  R^2 > 0: 7145\n",
      "  R^2 > 0.9: 6847\n",
      "\n"
     ]
    },
    {
     "name": "stderr",
     "output_type": "stream",
     "text": [
      "100%|██████████| 2956/2956 [00:11<00:00, 250.28it/s]\n",
      " 29%|██▉       | 7/24 [02:05<05:21, 18.89s/it]"
     ]
    },
    {
     "name": "stdout",
     "output_type": "stream",
     "text": [
      "Dataset: filtering_scenario_2.1.csv, Shape after fitting: (2956, 48)\n",
      "  R^2 > 0: 2956\n",
      "  R^2 > 0.9: 2842\n",
      "\n"
     ]
    },
    {
     "name": "stderr",
     "output_type": "stream",
     "text": [
      "100%|██████████| 3125/3125 [00:11<00:00, 270.13it/s]\n",
      " 33%|███▎      | 8/24 [02:17<04:25, 16.58s/it]"
     ]
    },
    {
     "name": "stdout",
     "output_type": "stream",
     "text": [
      "Dataset: filtering_scenario_2.2.csv, Shape after fitting: (3125, 48)\n",
      "  R^2 > 0: 3125\n",
      "  R^2 > 0.9: 2983\n",
      "\n"
     ]
    },
    {
     "name": "stderr",
     "output_type": "stream",
     "text": [
      "100%|██████████| 3276/3276 [00:11<00:00, 278.35it/s]\n",
      " 38%|███▊      | 9/24 [02:29<03:46, 15.08s/it]"
     ]
    },
    {
     "name": "stdout",
     "output_type": "stream",
     "text": [
      "Dataset: filtering_scenario_2.3.csv, Shape after fitting: (3276, 48)\n",
      "  R^2 > 0: 3276\n",
      "  R^2 > 0.9: 3107\n",
      "\n"
     ]
    },
    {
     "name": "stderr",
     "output_type": "stream",
     "text": [
      "100%|██████████| 3902/3902 [00:14<00:00, 272.19it/s]\n",
      " 42%|████▏     | 10/24 [02:43<03:28, 14.86s/it]"
     ]
    },
    {
     "name": "stdout",
     "output_type": "stream",
     "text": [
      "Dataset: filtering_scenario_3.1.csv, Shape after fitting: (3902, 48)\n",
      "  R^2 > 0: 3902\n",
      "  R^2 > 0.9: 3734\n",
      "\n"
     ]
    },
    {
     "name": "stderr",
     "output_type": "stream",
     "text": [
      "100%|██████████| 6733/6733 [00:24<00:00, 275.97it/s]\n",
      " 46%|████▌     | 11/24 [03:07<03:51, 17.80s/it]"
     ]
    },
    {
     "name": "stdout",
     "output_type": "stream",
     "text": [
      "Dataset: filtering_scenario_3.10.csv, Shape after fitting: (6733, 48)\n",
      "  R^2 > 0: 6733\n",
      "  R^2 > 0.9: 6419\n",
      "\n"
     ]
    },
    {
     "name": "stderr",
     "output_type": "stream",
     "text": [
      "100%|██████████| 7196/7196 [00:26<00:00, 275.55it/s]\n",
      " 50%|█████     | 12/24 [03:34<04:04, 20.35s/it]"
     ]
    },
    {
     "name": "stdout",
     "output_type": "stream",
     "text": [
      "Dataset: filtering_scenario_3.11.csv, Shape after fitting: (7196, 48)\n",
      "  R^2 > 0: 7196\n",
      "  R^2 > 0.9: 6802\n",
      "\n"
     ]
    },
    {
     "name": "stderr",
     "output_type": "stream",
     "text": [
      "100%|██████████| 7645/7645 [00:27<00:00, 275.24it/s]\n",
      " 54%|█████▍    | 13/24 [04:01<04:08, 22.62s/it]"
     ]
    },
    {
     "name": "stdout",
     "output_type": "stream",
     "text": [
      "Dataset: filtering_scenario_3.12.csv, Shape after fitting: (7645, 48)\n",
      "  R^2 > 0: 7645\n",
      "  R^2 > 0.9: 7158\n",
      "\n"
     ]
    },
    {
     "name": "stderr",
     "output_type": "stream",
     "text": [
      "100%|██████████| 7655/7655 [00:28<00:00, 272.71it/s]\n",
      " 58%|█████▊    | 14/24 [04:30<04:02, 24.29s/it]"
     ]
    },
    {
     "name": "stdout",
     "output_type": "stream",
     "text": [
      "Dataset: filtering_scenario_3.13.csv, Shape after fitting: (7655, 48)\n",
      "  R^2 > 0: 7655\n",
      "  R^2 > 0.9: 7279\n",
      "\n"
     ]
    },
    {
     "name": "stderr",
     "output_type": "stream",
     "text": [
      "100%|██████████| 8194/8194 [00:29<00:00, 275.66it/s]\n",
      " 62%|██████▎   | 15/24 [04:59<03:53, 25.95s/it]"
     ]
    },
    {
     "name": "stdout",
     "output_type": "stream",
     "text": [
      "Dataset: filtering_scenario_3.14.csv, Shape after fitting: (8194, 48)\n",
      "  R^2 > 0: 8194\n",
      "  R^2 > 0.9: 7714\n",
      "\n"
     ]
    },
    {
     "name": "stderr",
     "output_type": "stream",
     "text": [
      "100%|██████████| 8747/8747 [00:34<00:00, 253.02it/s]\n",
      " 67%|██████▋   | 16/24 [05:34<03:48, 28.57s/it]"
     ]
    },
    {
     "name": "stdout",
     "output_type": "stream",
     "text": [
      "Dataset: filtering_scenario_3.15.csv, Shape after fitting: (8747, 48)\n",
      "  R^2 > 0: 8747\n",
      "  R^2 > 0.9: 8140\n",
      "\n"
     ]
    },
    {
     "name": "stderr",
     "output_type": "stream",
     "text": [
      "100%|██████████| 4144/4144 [00:14<00:00, 276.55it/s]\n",
      " 71%|███████   | 17/24 [05:49<02:51, 24.50s/it]"
     ]
    },
    {
     "name": "stdout",
     "output_type": "stream",
     "text": [
      "Dataset: filtering_scenario_3.2.csv, Shape after fitting: (4144, 48)\n",
      "  R^2 > 0: 4144\n",
      "  R^2 > 0.9: 3938\n",
      "\n"
     ]
    },
    {
     "name": "stderr",
     "output_type": "stream",
     "text": [
      "100%|██████████| 4356/4356 [00:15<00:00, 277.05it/s]\n",
      " 75%|███████▌  | 18/24 [06:05<02:11, 21.87s/it]"
     ]
    },
    {
     "name": "stdout",
     "output_type": "stream",
     "text": [
      "Dataset: filtering_scenario_3.3.csv, Shape after fitting: (4356, 48)\n",
      "  R^2 > 0: 4356\n",
      "  R^2 > 0.9: 4109\n",
      "\n"
     ]
    },
    {
     "name": "stderr",
     "output_type": "stream",
     "text": [
      "100%|██████████| 4848/4848 [00:17<00:00, 276.25it/s]\n",
      " 79%|███████▉  | 19/24 [06:22<01:42, 20.59s/it]"
     ]
    },
    {
     "name": "stdout",
     "output_type": "stream",
     "text": [
      "Dataset: filtering_scenario_3.4.csv, Shape after fitting: (4848, 48)\n",
      "  R^2 > 0: 4848\n",
      "  R^2 > 0.9: 4630\n",
      "\n"
     ]
    },
    {
     "name": "stderr",
     "output_type": "stream",
     "text": [
      "100%|██████████| 5153/5153 [00:18<00:00, 276.46it/s]\n",
      " 83%|████████▎ | 20/24 [06:41<01:20, 20.02s/it]"
     ]
    },
    {
     "name": "stdout",
     "output_type": "stream",
     "text": [
      "Dataset: filtering_scenario_3.5.csv, Shape after fitting: (5153, 48)\n",
      "  R^2 > 0: 5153\n",
      "  R^2 > 0.9: 4888\n",
      "\n"
     ]
    },
    {
     "name": "stderr",
     "output_type": "stream",
     "text": [
      "100%|██████████| 5436/5436 [00:20<00:00, 265.24it/s]\n",
      " 88%|████████▊ | 21/24 [07:02<01:00, 20.18s/it]"
     ]
    },
    {
     "name": "stdout",
     "output_type": "stream",
     "text": [
      "Dataset: filtering_scenario_3.6.csv, Shape after fitting: (5436, 48)\n",
      "  R^2 > 0: 5436\n",
      "  R^2 > 0.9: 5117\n",
      "\n"
     ]
    },
    {
     "name": "stderr",
     "output_type": "stream",
     "text": [
      "100%|██████████| 5788/5788 [00:22<00:00, 252.74it/s]\n",
      " 92%|█████████▏| 22/24 [07:25<00:42, 21.01s/it]"
     ]
    },
    {
     "name": "stdout",
     "output_type": "stream",
     "text": [
      "Dataset: filtering_scenario_3.7.csv, Shape after fitting: (5788, 48)\n",
      "  R^2 > 0: 5788\n",
      "  R^2 > 0.9: 5525\n",
      "\n"
     ]
    },
    {
     "name": "stderr",
     "output_type": "stream",
     "text": [
      "100%|██████████| 6171/6171 [00:22<00:00, 270.46it/s]\n",
      " 96%|█████████▌| 23/24 [07:48<00:21, 21.57s/it]"
     ]
    },
    {
     "name": "stdout",
     "output_type": "stream",
     "text": [
      "Dataset: filtering_scenario_3.8.csv, Shape after fitting: (6171, 48)\n",
      "  R^2 > 0: 6171\n",
      "  R^2 > 0.9: 5845\n",
      "\n"
     ]
    },
    {
     "name": "stderr",
     "output_type": "stream",
     "text": [
      "100%|██████████| 6534/6534 [00:23<00:00, 272.59it/s]\n",
      "100%|██████████| 24/24 [08:12<00:00, 20.50s/it]"
     ]
    },
    {
     "name": "stdout",
     "output_type": "stream",
     "text": [
      "Dataset: filtering_scenario_3.9.csv, Shape after fitting: (6534, 48)\n",
      "  R^2 > 0: 6534\n",
      "  R^2 > 0.9: 6133\n",
      "\n"
     ]
    },
    {
     "name": "stderr",
     "output_type": "stream",
     "text": [
      "\n"
     ]
    }
   ],
   "source": [
    "# Get a list of all dataset files in the folder\n",
    "dataset_files = [f for f in os.listdir(_FOLDER_2) if os.path.isfile(os.path.join(_FOLDER_2, f))]\n",
    "\n",
    "# Define the columns for concentration and normalized response\n",
    "conc_columns = [\"fd_num_\" + str(i) for i in range(10)]\n",
    "response_norm = ['norm_cells_' + str(i) for i in range(10)]\n",
    "\n",
    "# Specify the fitting function as a string\n",
    "fitting_function_name = \"sigmoid_3_param\"\n",
    "\n",
    "# Loop through each dataset file\n",
    "for file in tqdm(dataset_files):\n",
    "    df = pd.read_csv(os.path.join(_FOLDER_2, file))\n",
    "    \n",
    "    # Perform fitting\n",
    "    r2, fit_param = FittingColumn(df, df.index, x_columns=conc_columns, y_columns=response_norm,\n",
    "                                  fitting_function=fitting_function_name, default_param=True)\n",
    "    \n",
    "    # Store the R^2 values and fitting parameters in the dataframe\n",
    "    df[fitting_function_name + \"_r2\"] = r2\n",
    "    df[fitting_function_name] = list(fit_param)\n",
    "    \n",
    "    # Print the shape of the dataframe after fitting\n",
    "    print(f\"Dataset: {file}, Shape after fitting: {df.shape}\")\n",
    "    \n",
    "    # Filter the dataframe to only include rows with R^2 > 0 and count R^2 > 0.9\n",
    "    df_filtered = df[df[fitting_function_name + \"_r2\"] > 0]\n",
    "    num_r2_above_09 = df_filtered[df_filtered[fitting_function_name + \"_r2\"] > 0.9].shape[0]\n",
    "\n",
    "    # Update the summary dictionary\n",
    "    good_fits_summary[fitting_function_name][\"total_good_fits\"] += num_r2_above_09\n",
    "    good_fits_summary[fitting_function_name][\"dataset_good_fits\"][file] = num_r2_above_09\n",
    "\n",
    "\n",
    "    print(f\"  R^2 > 0: {df_filtered.shape[0]}\")\n",
    "    print(f\"  R^2 > 0.9: {num_r2_above_09}\\n\")"
   ]
  },
  {
   "cell_type": "markdown",
   "metadata": {},
   "source": [
    "### ll4"
   ]
  },
  {
   "cell_type": "code",
   "execution_count": 18,
   "metadata": {},
   "outputs": [
    {
     "name": "stderr",
     "output_type": "stream",
     "text": [
      "100%|██████████| 2776/2776 [00:14<00:00, 196.73it/s]\n",
      "  4%|▍         | 1/24 [00:14<05:25, 14.15s/it]"
     ]
    },
    {
     "name": "stdout",
     "output_type": "stream",
     "text": [
      "Dataset: filtered_drug_profiles_123.csv, Shape after fitting: (2776, 49)\n",
      "  R^2 > 0: 2776\n",
      "  R^2 > 0.9: 2728\n",
      "\n"
     ]
    },
    {
     "name": "stderr",
     "output_type": "stream",
     "text": [
      "100%|██████████| 3667/3667 [00:18<00:00, 195.96it/s]\n",
      "  8%|▊         | 2/24 [00:32<06:10, 16.86s/it]"
     ]
    },
    {
     "name": "stdout",
     "output_type": "stream",
     "text": [
      "Dataset: filtering_scenario_1.1.csv, Shape after fitting: (3667, 48)\n",
      "  R^2 > 0: 3667\n",
      "  R^2 > 0.9: 3592\n",
      "\n"
     ]
    },
    {
     "name": "stderr",
     "output_type": "stream",
     "text": [
      "100%|██████████| 4543/4543 [00:22<00:00, 198.88it/s]\n",
      " 12%|█▎        | 3/24 [00:55<06:51, 19.61s/it]"
     ]
    },
    {
     "name": "stdout",
     "output_type": "stream",
     "text": [
      "Dataset: filtering_scenario_1.2.csv, Shape after fitting: (4543, 48)\n",
      "  R^2 > 0: 4543\n",
      "  R^2 > 0.9: 4448\n",
      "\n"
     ]
    },
    {
     "name": "stderr",
     "output_type": "stream",
     "text": [
      "100%|██████████| 5436/5436 [00:28<00:00, 189.37it/s]\n",
      " 17%|█▋        | 4/24 [01:24<07:44, 23.23s/it]"
     ]
    },
    {
     "name": "stdout",
     "output_type": "stream",
     "text": [
      "Dataset: filtering_scenario_1.3.csv, Shape after fitting: (5436, 48)\n",
      "  R^2 > 0: 5436\n",
      "  R^2 > 0.9: 5317\n",
      "\n"
     ]
    },
    {
     "name": "stderr",
     "output_type": "stream",
     "text": [
      "100%|██████████| 6308/6308 [00:32<00:00, 196.07it/s]\n",
      " 21%|██        | 5/24 [01:56<08:23, 26.47s/it]"
     ]
    },
    {
     "name": "stdout",
     "output_type": "stream",
     "text": [
      "Dataset: filtering_scenario_1.4.csv, Shape after fitting: (6308, 48)\n",
      "  R^2 > 0: 6308\n",
      "  R^2 > 0.9: 6164\n",
      "\n"
     ]
    },
    {
     "name": "stderr",
     "output_type": "stream",
     "text": [
      "100%|██████████| 7145/7145 [00:36<00:00, 196.71it/s]\n",
      " 25%|██▌       | 6/24 [02:33<08:57, 29.85s/it]"
     ]
    },
    {
     "name": "stdout",
     "output_type": "stream",
     "text": [
      "Dataset: filtering_scenario_1.5.csv, Shape after fitting: (7145, 48)\n",
      "  R^2 > 0: 7145\n",
      "  R^2 > 0.9: 6982\n",
      "\n"
     ]
    },
    {
     "name": "stderr",
     "output_type": "stream",
     "text": [
      "100%|██████████| 2956/2956 [00:15<00:00, 192.63it/s]\n",
      " 29%|██▉       | 7/24 [02:48<07:07, 25.12s/it]"
     ]
    },
    {
     "name": "stdout",
     "output_type": "stream",
     "text": [
      "Dataset: filtering_scenario_2.1.csv, Shape after fitting: (2956, 48)\n",
      "  R^2 > 0: 2956\n",
      "  R^2 > 0.9: 2899\n",
      "\n"
     ]
    },
    {
     "name": "stderr",
     "output_type": "stream",
     "text": [
      "100%|██████████| 3125/3125 [00:15<00:00, 203.29it/s]\n",
      " 33%|███▎      | 8/24 [03:03<05:52, 22.03s/it]"
     ]
    },
    {
     "name": "stdout",
     "output_type": "stream",
     "text": [
      "Dataset: filtering_scenario_2.2.csv, Shape after fitting: (3125, 48)\n",
      "  R^2 > 0: 3124\n",
      "  R^2 > 0.9: 3054\n",
      "\n"
     ]
    },
    {
     "name": "stderr",
     "output_type": "stream",
     "text": [
      "100%|██████████| 3276/3276 [00:17<00:00, 190.19it/s]\n",
      " 38%|███▊      | 9/24 [03:21<05:08, 20.54s/it]"
     ]
    },
    {
     "name": "stdout",
     "output_type": "stream",
     "text": [
      "Dataset: filtering_scenario_2.3.csv, Shape after fitting: (3276, 48)\n",
      "  R^2 > 0: 3274\n",
      "  R^2 > 0.9: 3199\n",
      "\n"
     ]
    },
    {
     "name": "stderr",
     "output_type": "stream",
     "text": [
      "100%|██████████| 3902/3902 [00:19<00:00, 196.35it/s]\n",
      " 42%|████▏     | 10/24 [03:41<04:44, 20.34s/it]"
     ]
    },
    {
     "name": "stdout",
     "output_type": "stream",
     "text": [
      "Dataset: filtering_scenario_3.1.csv, Shape after fitting: (3902, 48)\n",
      "  R^2 > 0: 3902\n",
      "  R^2 > 0.9: 3814\n",
      "\n"
     ]
    },
    {
     "name": "stderr",
     "output_type": "stream",
     "text": [
      "100%|██████████| 6733/6733 [00:35<00:00, 191.65it/s]\n",
      " 46%|████▌     | 11/24 [04:16<05:23, 24.89s/it]"
     ]
    },
    {
     "name": "stdout",
     "output_type": "stream",
     "text": [
      "Dataset: filtering_scenario_3.10.csv, Shape after fitting: (6733, 48)\n",
      "  R^2 > 0: 6733\n",
      "  R^2 > 0.9: 6568\n",
      "\n"
     ]
    },
    {
     "name": "stderr",
     "output_type": "stream",
     "text": [
      "100%|██████████| 7196/7196 [00:36<00:00, 199.62it/s]\n",
      " 50%|█████     | 12/24 [04:52<05:39, 28.31s/it]"
     ]
    },
    {
     "name": "stdout",
     "output_type": "stream",
     "text": [
      "Dataset: filtering_scenario_3.11.csv, Shape after fitting: (7196, 48)\n",
      "  R^2 > 0: 7195\n",
      "  R^2 > 0.9: 6992\n",
      "\n"
     ]
    },
    {
     "name": "stderr",
     "output_type": "stream",
     "text": [
      "100%|██████████| 7645/7645 [00:37<00:00, 204.32it/s]\n",
      " 54%|█████▍    | 13/24 [05:29<05:41, 31.09s/it]"
     ]
    },
    {
     "name": "stdout",
     "output_type": "stream",
     "text": [
      "Dataset: filtering_scenario_3.12.csv, Shape after fitting: (7645, 48)\n",
      "  R^2 > 0: 7643\n",
      "  R^2 > 0.9: 7403\n",
      "\n"
     ]
    },
    {
     "name": "stderr",
     "output_type": "stream",
     "text": [
      "100%|██████████| 7655/7655 [00:36<00:00, 209.10it/s]\n",
      " 58%|█████▊    | 14/24 [06:06<05:27, 32.78s/it]"
     ]
    },
    {
     "name": "stdout",
     "output_type": "stream",
     "text": [
      "Dataset: filtering_scenario_3.13.csv, Shape after fitting: (7655, 48)\n",
      "  R^2 > 0: 7655\n",
      "  R^2 > 0.9: 7460\n",
      "\n"
     ]
    },
    {
     "name": "stderr",
     "output_type": "stream",
     "text": [
      "100%|██████████| 8194/8194 [00:41<00:00, 197.52it/s]\n",
      " 62%|██████▎   | 15/24 [06:48<05:18, 35.43s/it]"
     ]
    },
    {
     "name": "stdout",
     "output_type": "stream",
     "text": [
      "Dataset: filtering_scenario_3.14.csv, Shape after fitting: (8194, 48)\n",
      "  R^2 > 0: 8193\n",
      "  R^2 > 0.9: 7951\n",
      "\n"
     ]
    },
    {
     "name": "stderr",
     "output_type": "stream",
     "text": [
      "100%|██████████| 8747/8747 [00:45<00:00, 191.88it/s]\n",
      " 67%|██████▋   | 16/24 [07:33<05:08, 38.51s/it]"
     ]
    },
    {
     "name": "stdout",
     "output_type": "stream",
     "text": [
      "Dataset: filtering_scenario_3.15.csv, Shape after fitting: (8747, 48)\n",
      "  R^2 > 0: 8745\n",
      "  R^2 > 0.9: 8447\n",
      "\n"
     ]
    },
    {
     "name": "stderr",
     "output_type": "stream",
     "text": [
      "100%|██████████| 4144/4144 [00:21<00:00, 191.94it/s]\n",
      " 71%|███████   | 17/24 [07:55<03:54, 33.44s/it]"
     ]
    },
    {
     "name": "stdout",
     "output_type": "stream",
     "text": [
      "Dataset: filtering_scenario_3.2.csv, Shape after fitting: (4144, 48)\n",
      "  R^2 > 0: 4143\n",
      "  R^2 > 0.9: 4036\n",
      "\n"
     ]
    },
    {
     "name": "stderr",
     "output_type": "stream",
     "text": [
      "100%|██████████| 4356/4356 [00:23<00:00, 189.03it/s]\n",
      " 75%|███████▌  | 18/24 [08:18<03:01, 30.33s/it]"
     ]
    },
    {
     "name": "stdout",
     "output_type": "stream",
     "text": [
      "Dataset: filtering_scenario_3.3.csv, Shape after fitting: (4356, 48)\n",
      "  R^2 > 0: 4354\n",
      "  R^2 > 0.9: 4235\n",
      "\n"
     ]
    },
    {
     "name": "stderr",
     "output_type": "stream",
     "text": [
      "100%|██████████| 4848/4848 [00:24<00:00, 194.50it/s]\n",
      " 79%|███████▉  | 19/24 [08:43<02:23, 28.73s/it]"
     ]
    },
    {
     "name": "stdout",
     "output_type": "stream",
     "text": [
      "Dataset: filtering_scenario_3.4.csv, Shape after fitting: (4848, 48)\n",
      "  R^2 > 0: 4848\n",
      "  R^2 > 0.9: 4737\n",
      "\n"
     ]
    },
    {
     "name": "stderr",
     "output_type": "stream",
     "text": [
      "100%|██████████| 5153/5153 [00:27<00:00, 189.47it/s]\n",
      " 83%|████████▎ | 20/24 [09:10<01:53, 28.28s/it]"
     ]
    },
    {
     "name": "stdout",
     "output_type": "stream",
     "text": [
      "Dataset: filtering_scenario_3.5.csv, Shape after fitting: (5153, 48)\n",
      "  R^2 > 0: 5152\n",
      "  R^2 > 0.9: 5016\n",
      "\n"
     ]
    },
    {
     "name": "stderr",
     "output_type": "stream",
     "text": [
      "100%|██████████| 5436/5436 [00:26<00:00, 204.18it/s]\n",
      " 88%|████████▊ | 21/24 [09:37<01:23, 27.80s/it]"
     ]
    },
    {
     "name": "stdout",
     "output_type": "stream",
     "text": [
      "Dataset: filtering_scenario_3.6.csv, Shape after fitting: (5436, 48)\n",
      "  R^2 > 0: 5434\n",
      "  R^2 > 0.9: 5279\n",
      "\n"
     ]
    },
    {
     "name": "stderr",
     "output_type": "stream",
     "text": [
      "100%|██████████| 5788/5788 [00:28<00:00, 203.08it/s]\n",
      " 92%|█████████▏| 22/24 [10:06<00:56, 28.03s/it]"
     ]
    },
    {
     "name": "stdout",
     "output_type": "stream",
     "text": [
      "Dataset: filtering_scenario_3.7.csv, Shape after fitting: (5788, 48)\n",
      "  R^2 > 0: 5788\n",
      "  R^2 > 0.9: 5651\n",
      "\n"
     ]
    },
    {
     "name": "stderr",
     "output_type": "stream",
     "text": [
      "100%|██████████| 6171/6171 [00:31<00:00, 197.96it/s]\n",
      " 96%|█████████▌| 23/24 [10:37<00:28, 28.99s/it]"
     ]
    },
    {
     "name": "stdout",
     "output_type": "stream",
     "text": [
      "Dataset: filtering_scenario_3.8.csv, Shape after fitting: (6171, 48)\n",
      "  R^2 > 0: 6170\n",
      "  R^2 > 0.9: 6002\n",
      "\n"
     ]
    },
    {
     "name": "stderr",
     "output_type": "stream",
     "text": [
      "100%|██████████| 6534/6534 [00:31<00:00, 205.03it/s]\n",
      "100%|██████████| 24/24 [11:09<00:00, 27.89s/it]"
     ]
    },
    {
     "name": "stdout",
     "output_type": "stream",
     "text": [
      "Dataset: filtering_scenario_3.9.csv, Shape after fitting: (6534, 48)\n",
      "  R^2 > 0: 6532\n",
      "  R^2 > 0.9: 6336\n",
      "\n"
     ]
    },
    {
     "name": "stderr",
     "output_type": "stream",
     "text": [
      "\n"
     ]
    }
   ],
   "source": [
    "# Get a list of all dataset files in the folder\n",
    "dataset_files = [f for f in os.listdir(_FOLDER_2) if os.path.isfile(os.path.join(_FOLDER_2, f))]\n",
    "\n",
    "# Define the columns for concentration and normalized response\n",
    "conc_columns = [\"fd_num_\" + str(i) for i in range(10)]\n",
    "response_norm = ['norm_cells_' + str(i) for i in range(10)]\n",
    "\n",
    "# Specify the fitting function as a string\n",
    "fitting_function_name = \"ll4\"\n",
    "\n",
    "# Loop through each dataset file\n",
    "for file in tqdm(dataset_files):\n",
    "    df = pd.read_csv(os.path.join(_FOLDER_2, file))\n",
    "    \n",
    "    # Perform fitting\n",
    "    r2, fit_param = FittingColumn(df, df.index, x_columns=conc_columns, y_columns=response_norm,\n",
    "                                  fitting_function=fitting_function_name, default_param=True)\n",
    "    \n",
    "    # Store the R^2 values and fitting parameters in the dataframe\n",
    "    df[fitting_function_name + \"_r2\"] = r2\n",
    "    df[fitting_function_name] = list(fit_param)\n",
    "    \n",
    "    # Print the shape of the dataframe after fitting\n",
    "    print(f\"Dataset: {file}, Shape after fitting: {df.shape}\")\n",
    "    \n",
    "    # Filter the dataframe to only include rows with R^2 > 0 and count R^2 > 0.9\n",
    "    df_filtered = df[df[fitting_function_name + \"_r2\"] > 0]\n",
    "    num_r2_above_09 = df_filtered[df_filtered[fitting_function_name + \"_r2\"] > 0.9].shape[0]\n",
    "\n",
    "    # Update the summary dictionary\n",
    "    good_fits_summary[fitting_function_name][\"total_good_fits\"] += num_r2_above_09\n",
    "    good_fits_summary[fitting_function_name][\"dataset_good_fits\"][file] = num_r2_above_09\n",
    "\n",
    "\n",
    "    print(f\"  R^2 > 0: {df_filtered.shape[0]}\")\n",
    "    print(f\"  R^2 > 0.9: {num_r2_above_09}\\n\")"
   ]
  },
  {
   "cell_type": "markdown",
   "metadata": {},
   "source": [
    "### ll4_R"
   ]
  },
  {
   "cell_type": "code",
   "execution_count": 19,
   "metadata": {},
   "outputs": [
    {
     "name": "stderr",
     "output_type": "stream",
     "text": [
      "100%|██████████| 2776/2776 [00:13<00:00, 206.88it/s]\n",
      "  4%|▍         | 1/24 [00:13<05:09, 13.45s/it]"
     ]
    },
    {
     "name": "stdout",
     "output_type": "stream",
     "text": [
      "Dataset: filtered_drug_profiles_123.csv, Shape after fitting: (2776, 49)\n",
      "  R^2 > 0: 2776\n",
      "  R^2 > 0.9: 2727\n",
      "\n"
     ]
    },
    {
     "name": "stderr",
     "output_type": "stream",
     "text": [
      "100%|██████████| 3667/3667 [00:17<00:00, 208.28it/s]\n",
      "  8%|▊         | 2/24 [00:31<05:50, 15.92s/it]"
     ]
    },
    {
     "name": "stdout",
     "output_type": "stream",
     "text": [
      "Dataset: filtering_scenario_1.1.csv, Shape after fitting: (3667, 48)\n",
      "  R^2 > 0: 3667\n",
      "  R^2 > 0.9: 3591\n",
      "\n"
     ]
    },
    {
     "name": "stderr",
     "output_type": "stream",
     "text": [
      "100%|██████████| 4543/4543 [00:21<00:00, 207.82it/s]\n",
      " 12%|█▎        | 3/24 [00:53<06:31, 18.65s/it]"
     ]
    },
    {
     "name": "stdout",
     "output_type": "stream",
     "text": [
      "Dataset: filtering_scenario_1.2.csv, Shape after fitting: (4543, 48)\n",
      "  R^2 > 0: 4543\n",
      "  R^2 > 0.9: 4447\n",
      "\n"
     ]
    },
    {
     "name": "stderr",
     "output_type": "stream",
     "text": [
      "100%|██████████| 5436/5436 [00:26<00:00, 206.41it/s]\n",
      " 17%|█▋        | 4/24 [01:19<07:14, 21.71s/it]"
     ]
    },
    {
     "name": "stdout",
     "output_type": "stream",
     "text": [
      "Dataset: filtering_scenario_1.3.csv, Shape after fitting: (5436, 48)\n",
      "  R^2 > 0: 5436\n",
      "  R^2 > 0.9: 5315\n",
      "\n"
     ]
    },
    {
     "name": "stderr",
     "output_type": "stream",
     "text": [
      "100%|██████████| 6308/6308 [00:30<00:00, 205.61it/s]\n",
      " 21%|██        | 5/24 [01:50<07:54, 24.97s/it]"
     ]
    },
    {
     "name": "stdout",
     "output_type": "stream",
     "text": [
      "Dataset: filtering_scenario_1.4.csv, Shape after fitting: (6308, 48)\n",
      "  R^2 > 0: 6308\n",
      "  R^2 > 0.9: 6162\n",
      "\n"
     ]
    },
    {
     "name": "stderr",
     "output_type": "stream",
     "text": [
      "100%|██████████| 7145/7145 [00:34<00:00, 205.32it/s]\n",
      " 25%|██▌       | 6/24 [02:25<08:30, 28.33s/it]"
     ]
    },
    {
     "name": "stdout",
     "output_type": "stream",
     "text": [
      "Dataset: filtering_scenario_1.5.csv, Shape after fitting: (7145, 48)\n",
      "  R^2 > 0: 7145\n",
      "  R^2 > 0.9: 6980\n",
      "\n"
     ]
    },
    {
     "name": "stderr",
     "output_type": "stream",
     "text": [
      "100%|██████████| 2956/2956 [00:14<00:00, 207.52it/s]\n",
      " 29%|██▉       | 7/24 [02:39<06:43, 23.74s/it]"
     ]
    },
    {
     "name": "stdout",
     "output_type": "stream",
     "text": [
      "Dataset: filtering_scenario_2.1.csv, Shape after fitting: (2956, 48)\n",
      "  R^2 > 0: 2956\n",
      "  R^2 > 0.9: 2897\n",
      "\n"
     ]
    },
    {
     "name": "stderr",
     "output_type": "stream",
     "text": [
      "100%|██████████| 3125/3125 [00:15<00:00, 206.80it/s]\n",
      " 33%|███▎      | 8/24 [02:54<05:36, 21.00s/it]"
     ]
    },
    {
     "name": "stdout",
     "output_type": "stream",
     "text": [
      "Dataset: filtering_scenario_2.2.csv, Shape after fitting: (3125, 48)\n",
      "  R^2 > 0: 3125\n",
      "  R^2 > 0.9: 3052\n",
      "\n"
     ]
    },
    {
     "name": "stderr",
     "output_type": "stream",
     "text": [
      "100%|██████████| 3276/3276 [00:15<00:00, 205.13it/s]\n",
      " 38%|███▊      | 9/24 [03:10<04:51, 19.44s/it]"
     ]
    },
    {
     "name": "stdout",
     "output_type": "stream",
     "text": [
      "Dataset: filtering_scenario_2.3.csv, Shape after fitting: (3276, 48)\n",
      "  R^2 > 0: 3276\n",
      "  R^2 > 0.9: 3197\n",
      "\n"
     ]
    },
    {
     "name": "stderr",
     "output_type": "stream",
     "text": [
      "100%|██████████| 3902/3902 [00:18<00:00, 206.60it/s]\n",
      " 42%|████▏     | 10/24 [03:29<04:29, 19.28s/it]"
     ]
    },
    {
     "name": "stdout",
     "output_type": "stream",
     "text": [
      "Dataset: filtering_scenario_3.1.csv, Shape after fitting: (3902, 48)\n",
      "  R^2 > 0: 3902\n",
      "  R^2 > 0.9: 3812\n",
      "\n"
     ]
    },
    {
     "name": "stderr",
     "output_type": "stream",
     "text": [
      "100%|██████████| 6733/6733 [00:32<00:00, 204.25it/s]\n",
      " 46%|████▌     | 11/24 [04:02<05:05, 23.49s/it]"
     ]
    },
    {
     "name": "stdout",
     "output_type": "stream",
     "text": [
      "Dataset: filtering_scenario_3.10.csv, Shape after fitting: (6733, 48)\n",
      "  R^2 > 0: 6733\n",
      "  R^2 > 0.9: 6565\n",
      "\n"
     ]
    },
    {
     "name": "stderr",
     "output_type": "stream",
     "text": [
      "100%|██████████| 7196/7196 [00:35<00:00, 201.39it/s]\n",
      " 50%|█████     | 12/24 [04:38<05:26, 27.24s/it]"
     ]
    },
    {
     "name": "stdout",
     "output_type": "stream",
     "text": [
      "Dataset: filtering_scenario_3.11.csv, Shape after fitting: (7196, 48)\n",
      "  R^2 > 0: 7196\n",
      "  R^2 > 0.9: 6989\n",
      "\n"
     ]
    },
    {
     "name": "stderr",
     "output_type": "stream",
     "text": [
      "100%|██████████| 7645/7645 [00:38<00:00, 196.83it/s]\n",
      " 54%|█████▍    | 13/24 [05:17<05:38, 30.78s/it]"
     ]
    },
    {
     "name": "stdout",
     "output_type": "stream",
     "text": [
      "Dataset: filtering_scenario_3.12.csv, Shape after fitting: (7645, 48)\n",
      "  R^2 > 0: 7645\n",
      "  R^2 > 0.9: 7401\n",
      "\n"
     ]
    },
    {
     "name": "stderr",
     "output_type": "stream",
     "text": [
      "100%|██████████| 7655/7655 [00:38<00:00, 199.23it/s]\n",
      " 58%|█████▊    | 14/24 [05:55<05:31, 33.11s/it]"
     ]
    },
    {
     "name": "stdout",
     "output_type": "stream",
     "text": [
      "Dataset: filtering_scenario_3.13.csv, Shape after fitting: (7655, 48)\n",
      "  R^2 > 0: 7655\n",
      "  R^2 > 0.9: 7457\n",
      "\n"
     ]
    },
    {
     "name": "stderr",
     "output_type": "stream",
     "text": [
      "100%|██████████| 8194/8194 [00:41<00:00, 196.62it/s]\n",
      " 62%|██████▎   | 15/24 [06:37<05:21, 35.71s/it]"
     ]
    },
    {
     "name": "stdout",
     "output_type": "stream",
     "text": [
      "Dataset: filtering_scenario_3.14.csv, Shape after fitting: (8194, 48)\n",
      "  R^2 > 0: 8194\n",
      "  R^2 > 0.9: 7948\n",
      "\n"
     ]
    },
    {
     "name": "stderr",
     "output_type": "stream",
     "text": [
      "100%|██████████| 8747/8747 [00:44<00:00, 195.04it/s]\n",
      " 67%|██████▋   | 16/24 [07:22<05:07, 38.49s/it]"
     ]
    },
    {
     "name": "stdout",
     "output_type": "stream",
     "text": [
      "Dataset: filtering_scenario_3.15.csv, Shape after fitting: (8747, 48)\n",
      "  R^2 > 0: 8747\n",
      "  R^2 > 0.9: 8445\n",
      "\n"
     ]
    },
    {
     "name": "stderr",
     "output_type": "stream",
     "text": [
      "100%|██████████| 4144/4144 [00:20<00:00, 203.92it/s]\n",
      " 71%|███████   | 17/24 [07:42<03:51, 33.04s/it]"
     ]
    },
    {
     "name": "stdout",
     "output_type": "stream",
     "text": [
      "Dataset: filtering_scenario_3.2.csv, Shape after fitting: (4144, 48)\n",
      "  R^2 > 0: 4144\n",
      "  R^2 > 0.9: 4034\n",
      "\n"
     ]
    },
    {
     "name": "stderr",
     "output_type": "stream",
     "text": [
      "100%|██████████| 4356/4356 [00:21<00:00, 203.37it/s]\n",
      " 75%|███████▌  | 18/24 [08:04<02:57, 29.56s/it]"
     ]
    },
    {
     "name": "stdout",
     "output_type": "stream",
     "text": [
      "Dataset: filtering_scenario_3.3.csv, Shape after fitting: (4356, 48)\n",
      "  R^2 > 0: 4356\n",
      "  R^2 > 0.9: 4233\n",
      "\n"
     ]
    },
    {
     "name": "stderr",
     "output_type": "stream",
     "text": [
      "100%|██████████| 4848/4848 [00:23<00:00, 206.38it/s]\n",
      " 79%|███████▉  | 19/24 [08:27<02:18, 27.75s/it]"
     ]
    },
    {
     "name": "stdout",
     "output_type": "stream",
     "text": [
      "Dataset: filtering_scenario_3.4.csv, Shape after fitting: (4848, 48)\n",
      "  R^2 > 0: 4848\n",
      "  R^2 > 0.9: 4735\n",
      "\n"
     ]
    },
    {
     "name": "stderr",
     "output_type": "stream",
     "text": [
      "100%|██████████| 5153/5153 [00:25<00:00, 204.68it/s]\n",
      " 83%|████████▎ | 20/24 [08:52<01:47, 27.00s/it]"
     ]
    },
    {
     "name": "stdout",
     "output_type": "stream",
     "text": [
      "Dataset: filtering_scenario_3.5.csv, Shape after fitting: (5153, 48)\n",
      "  R^2 > 0: 5153\n",
      "  R^2 > 0.9: 5014\n",
      "\n"
     ]
    },
    {
     "name": "stderr",
     "output_type": "stream",
     "text": [
      "100%|██████████| 5436/5436 [00:26<00:00, 204.06it/s]\n",
      " 88%|████████▊ | 21/24 [09:19<01:20, 26.91s/it]"
     ]
    },
    {
     "name": "stdout",
     "output_type": "stream",
     "text": [
      "Dataset: filtering_scenario_3.6.csv, Shape after fitting: (5436, 48)\n",
      "  R^2 > 0: 5436\n",
      "  R^2 > 0.9: 5277\n",
      "\n"
     ]
    },
    {
     "name": "stderr",
     "output_type": "stream",
     "text": [
      "100%|██████████| 5788/5788 [00:28<00:00, 206.37it/s]\n",
      " 92%|█████████▏| 22/24 [09:47<00:54, 27.27s/it]"
     ]
    },
    {
     "name": "stdout",
     "output_type": "stream",
     "text": [
      "Dataset: filtering_scenario_3.7.csv, Shape after fitting: (5788, 48)\n",
      "  R^2 > 0: 5788\n",
      "  R^2 > 0.9: 5648\n",
      "\n"
     ]
    },
    {
     "name": "stderr",
     "output_type": "stream",
     "text": [
      "100%|██████████| 6171/6171 [00:30<00:00, 203.71it/s]\n",
      " 96%|█████████▌| 23/24 [10:18<00:28, 28.19s/it]"
     ]
    },
    {
     "name": "stdout",
     "output_type": "stream",
     "text": [
      "Dataset: filtering_scenario_3.8.csv, Shape after fitting: (6171, 48)\n",
      "  R^2 > 0: 6171\n",
      "  R^2 > 0.9: 5999\n",
      "\n"
     ]
    },
    {
     "name": "stderr",
     "output_type": "stream",
     "text": [
      "100%|██████████| 6534/6534 [00:32<00:00, 201.87it/s]\n",
      "100%|██████████| 24/24 [10:50<00:00, 27.10s/it]"
     ]
    },
    {
     "name": "stdout",
     "output_type": "stream",
     "text": [
      "Dataset: filtering_scenario_3.9.csv, Shape after fitting: (6534, 48)\n",
      "  R^2 > 0: 6534\n",
      "  R^2 > 0.9: 6334\n",
      "\n"
     ]
    },
    {
     "name": "stderr",
     "output_type": "stream",
     "text": [
      "\n"
     ]
    }
   ],
   "source": [
    "# Get a list of all dataset files in the folder\n",
    "dataset_files = [f for f in os.listdir(_FOLDER_2) if os.path.isfile(os.path.join(_FOLDER_2, f))]\n",
    "\n",
    "# Define the columns for concentration and normalized response\n",
    "conc_columns = [\"fd_num_\" + str(i) for i in range(10)]\n",
    "response_norm = ['norm_cells_' + str(i) for i in range(10)]\n",
    "\n",
    "# Specify the fitting function as a string\n",
    "fitting_function_name = \"ll4_R\"\n",
    "\n",
    "# Loop through each dataset file\n",
    "for file in tqdm(dataset_files):\n",
    "    df = pd.read_csv(os.path.join(_FOLDER_2, file))\n",
    "    \n",
    "    # Perform fitting\n",
    "    r2, fit_param = FittingColumn(df, df.index, x_columns=conc_columns, y_columns=response_norm,\n",
    "                                  fitting_function=fitting_function_name, default_param=True)\n",
    "    \n",
    "    # Store the R^2 values and fitting parameters in the dataframe\n",
    "    df[fitting_function_name + \"_r2\"] = r2\n",
    "    df[fitting_function_name] = list(fit_param)\n",
    "    \n",
    "    # Print the shape of the dataframe after fitting\n",
    "    print(f\"Dataset: {file}, Shape after fitting: {df.shape}\")\n",
    "    \n",
    "    # Filter the dataframe to only include rows with R^2 > 0 and count R^2 > 0.9\n",
    "    df_filtered = df[df[fitting_function_name + \"_r2\"] > 0]\n",
    "    num_r2_above_09 = df_filtered[df_filtered[fitting_function_name + \"_r2\"] > 0.9].shape[0]\n",
    "\n",
    "    # Update the summary dictionary\n",
    "    good_fits_summary[fitting_function_name][\"total_good_fits\"] += num_r2_above_09\n",
    "    good_fits_summary[fitting_function_name][\"dataset_good_fits\"][file] = num_r2_above_09\n",
    "\n",
    "\n",
    "    print(f\"  R^2 > 0: {df_filtered.shape[0]}\")\n",
    "    print(f\"  R^2 > 0.9: {num_r2_above_09}\\n\")"
   ]
  },
  {
   "cell_type": "markdown",
   "metadata": {},
   "source": [
    "### logistic4"
   ]
  },
  {
   "cell_type": "code",
   "execution_count": 20,
   "metadata": {},
   "outputs": [
    {
     "name": "stderr",
     "output_type": "stream",
     "text": [
      "100%|██████████| 2776/2776 [00:12<00:00, 221.68it/s]\n",
      "  4%|▍         | 1/24 [00:12<04:48, 12.55s/it]"
     ]
    },
    {
     "name": "stdout",
     "output_type": "stream",
     "text": [
      "Dataset: filtered_drug_profiles_123.csv, Shape after fitting: (2776, 49)\n",
      "  R^2 > 0: 2775\n",
      "  R^2 > 0.9: 2727\n",
      "\n"
     ]
    },
    {
     "name": "stderr",
     "output_type": "stream",
     "text": [
      "100%|██████████| 3667/3667 [00:16<00:00, 224.96it/s]\n",
      "  8%|▊         | 2/24 [00:28<05:25, 14.78s/it]"
     ]
    },
    {
     "name": "stdout",
     "output_type": "stream",
     "text": [
      "Dataset: filtering_scenario_1.1.csv, Shape after fitting: (3667, 48)\n",
      "  R^2 > 0: 3666\n",
      "  R^2 > 0.9: 3591\n",
      "\n"
     ]
    },
    {
     "name": "stderr",
     "output_type": "stream",
     "text": [
      "100%|██████████| 4543/4543 [00:19<00:00, 229.59it/s]\n",
      " 12%|█▎        | 3/24 [00:48<05:58, 17.09s/it]"
     ]
    },
    {
     "name": "stdout",
     "output_type": "stream",
     "text": [
      "Dataset: filtering_scenario_1.2.csv, Shape after fitting: (4543, 48)\n",
      "  R^2 > 0: 4542\n",
      "  R^2 > 0.9: 4447\n",
      "\n"
     ]
    },
    {
     "name": "stderr",
     "output_type": "stream",
     "text": [
      "100%|██████████| 5436/5436 [00:24<00:00, 225.98it/s]\n",
      " 17%|█▋        | 4/24 [01:12<06:37, 19.86s/it]"
     ]
    },
    {
     "name": "stdout",
     "output_type": "stream",
     "text": [
      "Dataset: filtering_scenario_1.3.csv, Shape after fitting: (5436, 48)\n",
      "  R^2 > 0: 5435\n",
      "  R^2 > 0.9: 5316\n",
      "\n"
     ]
    },
    {
     "name": "stderr",
     "output_type": "stream",
     "text": [
      "100%|██████████| 6308/6308 [00:27<00:00, 227.94it/s]\n",
      " 21%|██        | 5/24 [01:40<07:11, 22.70s/it]"
     ]
    },
    {
     "name": "stdout",
     "output_type": "stream",
     "text": [
      "Dataset: filtering_scenario_1.4.csv, Shape after fitting: (6308, 48)\n",
      "  R^2 > 0: 6307\n",
      "  R^2 > 0.9: 6163\n",
      "\n"
     ]
    },
    {
     "name": "stderr",
     "output_type": "stream",
     "text": [
      "100%|██████████| 7145/7145 [00:31<00:00, 225.36it/s]\n",
      " 25%|██▌       | 6/24 [02:12<07:44, 25.78s/it]"
     ]
    },
    {
     "name": "stdout",
     "output_type": "stream",
     "text": [
      "Dataset: filtering_scenario_1.5.csv, Shape after fitting: (7145, 48)\n",
      "  R^2 > 0: 7144\n",
      "  R^2 > 0.9: 6981\n",
      "\n"
     ]
    },
    {
     "name": "stderr",
     "output_type": "stream",
     "text": [
      "100%|██████████| 2956/2956 [00:13<00:00, 224.29it/s]\n",
      " 29%|██▉       | 7/24 [02:25<06:08, 21.67s/it]"
     ]
    },
    {
     "name": "stdout",
     "output_type": "stream",
     "text": [
      "Dataset: filtering_scenario_2.1.csv, Shape after fitting: (2956, 48)\n",
      "  R^2 > 0: 2954\n",
      "  R^2 > 0.9: 2898\n",
      "\n"
     ]
    },
    {
     "name": "stderr",
     "output_type": "stream",
     "text": [
      "100%|██████████| 3125/3125 [00:14<00:00, 220.84it/s]\n",
      " 33%|███▎      | 8/24 [02:39<05:08, 19.29s/it]"
     ]
    },
    {
     "name": "stdout",
     "output_type": "stream",
     "text": [
      "Dataset: filtering_scenario_2.2.csv, Shape after fitting: (3125, 48)\n",
      "  R^2 > 0: 3122\n",
      "  R^2 > 0.9: 3053\n",
      "\n"
     ]
    },
    {
     "name": "stderr",
     "output_type": "stream",
     "text": [
      "100%|██████████| 3276/3276 [00:14<00:00, 220.17it/s]\n",
      " 38%|███▊      | 9/24 [02:54<04:28, 17.92s/it]"
     ]
    },
    {
     "name": "stdout",
     "output_type": "stream",
     "text": [
      "Dataset: filtering_scenario_2.3.csv, Shape after fitting: (3276, 48)\n",
      "  R^2 > 0: 3272\n",
      "  R^2 > 0.9: 3198\n",
      "\n"
     ]
    },
    {
     "name": "stderr",
     "output_type": "stream",
     "text": [
      "100%|██████████| 3902/3902 [00:17<00:00, 228.41it/s]\n",
      " 42%|████▏     | 10/24 [03:11<04:07, 17.67s/it]"
     ]
    },
    {
     "name": "stdout",
     "output_type": "stream",
     "text": [
      "Dataset: filtering_scenario_3.1.csv, Shape after fitting: (3902, 48)\n",
      "  R^2 > 0: 3900\n",
      "  R^2 > 0.9: 3813\n",
      "\n"
     ]
    },
    {
     "name": "stderr",
     "output_type": "stream",
     "text": [
      "100%|██████████| 6733/6733 [00:29<00:00, 227.50it/s]\n",
      " 46%|████▌     | 11/24 [03:41<04:37, 21.34s/it]"
     ]
    },
    {
     "name": "stdout",
     "output_type": "stream",
     "text": [
      "Dataset: filtering_scenario_3.10.csv, Shape after fitting: (6733, 48)\n",
      "  R^2 > 0: 6731\n",
      "  R^2 > 0.9: 6567\n",
      "\n"
     ]
    },
    {
     "name": "stderr",
     "output_type": "stream",
     "text": [
      "100%|██████████| 7196/7196 [00:32<00:00, 223.42it/s]\n",
      " 50%|█████     | 12/24 [04:13<04:56, 24.67s/it]"
     ]
    },
    {
     "name": "stdout",
     "output_type": "stream",
     "text": [
      "Dataset: filtering_scenario_3.11.csv, Shape after fitting: (7196, 48)\n",
      "  R^2 > 0: 7193\n",
      "  R^2 > 0.9: 6991\n",
      "\n"
     ]
    },
    {
     "name": "stderr",
     "output_type": "stream",
     "text": [
      "100%|██████████| 7645/7645 [00:34<00:00, 219.13it/s]\n",
      " 54%|█████▍    | 13/24 [04:48<05:05, 27.79s/it]"
     ]
    },
    {
     "name": "stdout",
     "output_type": "stream",
     "text": [
      "Dataset: filtering_scenario_3.12.csv, Shape after fitting: (7645, 48)\n",
      "  R^2 > 0: 7641\n",
      "  R^2 > 0.9: 7402\n",
      "\n"
     ]
    },
    {
     "name": "stderr",
     "output_type": "stream",
     "text": [
      "100%|██████████| 7655/7655 [00:34<00:00, 224.29it/s]\n",
      " 58%|█████▊    | 14/24 [05:22<04:57, 29.72s/it]"
     ]
    },
    {
     "name": "stdout",
     "output_type": "stream",
     "text": [
      "Dataset: filtering_scenario_3.13.csv, Shape after fitting: (7655, 48)\n",
      "  R^2 > 0: 7653\n",
      "  R^2 > 0.9: 7459\n",
      "\n"
     ]
    },
    {
     "name": "stderr",
     "output_type": "stream",
     "text": [
      "100%|██████████| 8194/8194 [00:37<00:00, 220.54it/s]\n",
      " 62%|██████▎   | 15/24 [06:00<04:47, 31.99s/it]"
     ]
    },
    {
     "name": "stdout",
     "output_type": "stream",
     "text": [
      "Dataset: filtering_scenario_3.14.csv, Shape after fitting: (8194, 48)\n",
      "  R^2 > 0: 8191\n",
      "  R^2 > 0.9: 7950\n",
      "\n"
     ]
    },
    {
     "name": "stderr",
     "output_type": "stream",
     "text": [
      "100%|██████████| 8747/8747 [00:40<00:00, 218.35it/s]\n",
      " 67%|██████▋   | 16/24 [06:40<04:35, 34.44s/it]"
     ]
    },
    {
     "name": "stdout",
     "output_type": "stream",
     "text": [
      "Dataset: filtering_scenario_3.15.csv, Shape after fitting: (8747, 48)\n",
      "  R^2 > 0: 8743\n",
      "  R^2 > 0.9: 8446\n",
      "\n"
     ]
    },
    {
     "name": "stderr",
     "output_type": "stream",
     "text": [
      "100%|██████████| 4144/4144 [00:19<00:00, 217.44it/s]\n",
      " 71%|███████   | 17/24 [06:59<03:28, 29.83s/it]"
     ]
    },
    {
     "name": "stdout",
     "output_type": "stream",
     "text": [
      "Dataset: filtering_scenario_3.2.csv, Shape after fitting: (4144, 48)\n",
      "  R^2 > 0: 4141\n",
      "  R^2 > 0.9: 4035\n",
      "\n"
     ]
    },
    {
     "name": "stderr",
     "output_type": "stream",
     "text": [
      "100%|██████████| 4356/4356 [00:19<00:00, 219.28it/s]\n",
      " 75%|███████▌  | 18/24 [07:19<02:41, 26.85s/it]"
     ]
    },
    {
     "name": "stdout",
     "output_type": "stream",
     "text": [
      "Dataset: filtering_scenario_3.3.csv, Shape after fitting: (4356, 48)\n",
      "  R^2 > 0: 4352\n",
      "  R^2 > 0.9: 4234\n",
      "\n"
     ]
    },
    {
     "name": "stderr",
     "output_type": "stream",
     "text": [
      "100%|██████████| 4848/4848 [00:21<00:00, 224.87it/s]\n",
      " 79%|███████▉  | 19/24 [07:40<02:06, 25.28s/it]"
     ]
    },
    {
     "name": "stdout",
     "output_type": "stream",
     "text": [
      "Dataset: filtering_scenario_3.4.csv, Shape after fitting: (4848, 48)\n",
      "  R^2 > 0: 4846\n",
      "  R^2 > 0.9: 4736\n",
      "\n"
     ]
    },
    {
     "name": "stderr",
     "output_type": "stream",
     "text": [
      "100%|██████████| 5153/5153 [00:23<00:00, 221.80it/s]\n",
      " 83%|████████▎ | 20/24 [08:04<01:38, 24.68s/it]"
     ]
    },
    {
     "name": "stdout",
     "output_type": "stream",
     "text": [
      "Dataset: filtering_scenario_3.5.csv, Shape after fitting: (5153, 48)\n",
      "  R^2 > 0: 5150\n",
      "  R^2 > 0.9: 5015\n",
      "\n"
     ]
    },
    {
     "name": "stderr",
     "output_type": "stream",
     "text": [
      "100%|██████████| 5436/5436 [00:24<00:00, 220.22it/s]\n",
      " 88%|████████▊ | 21/24 [08:28<01:14, 24.70s/it]"
     ]
    },
    {
     "name": "stdout",
     "output_type": "stream",
     "text": [
      "Dataset: filtering_scenario_3.6.csv, Shape after fitting: (5436, 48)\n",
      "  R^2 > 0: 5432\n",
      "  R^2 > 0.9: 5278\n",
      "\n"
     ]
    },
    {
     "name": "stderr",
     "output_type": "stream",
     "text": [
      "100%|██████████| 5788/5788 [00:25<00:00, 223.13it/s]\n",
      " 92%|█████████▏| 22/24 [08:54<00:50, 25.09s/it]"
     ]
    },
    {
     "name": "stdout",
     "output_type": "stream",
     "text": [
      "Dataset: filtering_scenario_3.7.csv, Shape after fitting: (5788, 48)\n",
      "  R^2 > 0: 5786\n",
      "  R^2 > 0.9: 5650\n",
      "\n"
     ]
    },
    {
     "name": "stderr",
     "output_type": "stream",
     "text": [
      "100%|██████████| 6171/6171 [00:27<00:00, 221.48it/s]\n",
      " 96%|█████████▌| 23/24 [09:22<00:25, 25.94s/it]"
     ]
    },
    {
     "name": "stdout",
     "output_type": "stream",
     "text": [
      "Dataset: filtering_scenario_3.8.csv, Shape after fitting: (6171, 48)\n",
      "  R^2 > 0: 6168\n",
      "  R^2 > 0.9: 6001\n",
      "\n"
     ]
    },
    {
     "name": "stderr",
     "output_type": "stream",
     "text": [
      "100%|██████████| 6534/6534 [00:29<00:00, 220.40it/s]\n",
      "100%|██████████| 24/24 [09:52<00:00, 24.69s/it]"
     ]
    },
    {
     "name": "stdout",
     "output_type": "stream",
     "text": [
      "Dataset: filtering_scenario_3.9.csv, Shape after fitting: (6534, 48)\n",
      "  R^2 > 0: 6530\n",
      "  R^2 > 0.9: 6335\n",
      "\n"
     ]
    },
    {
     "name": "stderr",
     "output_type": "stream",
     "text": [
      "\n"
     ]
    }
   ],
   "source": [
    "# Get a list of all dataset files in the folder\n",
    "dataset_files = [f for f in os.listdir(_FOLDER_2) if os.path.isfile(os.path.join(_FOLDER_2, f))]\n",
    "\n",
    "# Define the columns for concentration and normalized response\n",
    "conc_columns = [\"fd_num_\" + str(i) for i in range(10)]\n",
    "response_norm = ['norm_cells_' + str(i) for i in range(10)]\n",
    "\n",
    "# Specify the fitting function as a string\n",
    "fitting_function_name = \"logistic4\"\n",
    "\n",
    "# Loop through each dataset file\n",
    "for file in tqdm(dataset_files):\n",
    "    df = pd.read_csv(os.path.join(_FOLDER_2, file))\n",
    "    \n",
    "    # Perform fitting\n",
    "    r2, fit_param = FittingColumn(df, df.index, x_columns=conc_columns, y_columns=response_norm,\n",
    "                                  fitting_function=fitting_function_name, default_param=True)\n",
    "    \n",
    "    # Store the R^2 values and fitting parameters in the dataframe\n",
    "    df[fitting_function_name + \"_r2\"] = r2\n",
    "    df[fitting_function_name] = list(fit_param)\n",
    "    \n",
    "    # Print the shape of the dataframe after fitting\n",
    "    print(f\"Dataset: {file}, Shape after fitting: {df.shape}\")\n",
    "    \n",
    "    # Filter the dataframe to only include rows with R^2 > 0 and count R^2 > 0.9\n",
    "    df_filtered = df[df[fitting_function_name + \"_r2\"] > 0]\n",
    "    num_r2_above_09 = df_filtered[df_filtered[fitting_function_name + \"_r2\"] > 0.9].shape[0]\n",
    "\n",
    "    \n",
    "\n",
    "    print(f\"  R^2 > 0: {df_filtered.shape[0]}\")\n",
    "    print(f\"  R^2 > 0.9: {num_r2_above_09}\\n\")"
   ]
  },
  {
   "cell_type": "markdown",
   "metadata": {},
   "source": [
    "### logLogistR"
   ]
  },
  {
   "cell_type": "code",
   "execution_count": 11,
   "metadata": {},
   "outputs": [
    {
     "name": "stderr",
     "output_type": "stream",
     "text": [
      "100%|██████████| 2776/2776 [00:01<00:00, 2670.83it/s]\n",
      "  4%|▍         | 1/24 [00:01<00:24,  1.07s/it]"
     ]
    },
    {
     "name": "stdout",
     "output_type": "stream",
     "text": [
      "Dataset: filtered_drug_profiles_123.csv, Shape after fitting: (2776, 49)\n",
      "  R^2 > 0: 0\n",
      "  R^2 > 0.9: 0\n",
      "\n"
     ]
    },
    {
     "name": "stderr",
     "output_type": "stream",
     "text": [
      "100%|██████████| 3667/3667 [00:01<00:00, 2678.78it/s]\n",
      "  8%|▊         | 2/24 [00:02<00:27,  1.27s/it]"
     ]
    },
    {
     "name": "stdout",
     "output_type": "stream",
     "text": [
      "Dataset: filtering_scenario_1.1.csv, Shape after fitting: (3667, 48)\n",
      "  R^2 > 0: 0\n",
      "  R^2 > 0.9: 0\n",
      "\n"
     ]
    },
    {
     "name": "stderr",
     "output_type": "stream",
     "text": [
      "100%|██████████| 4543/4543 [00:01<00:00, 2709.41it/s]\n",
      " 12%|█▎        | 3/24 [00:04<00:30,  1.47s/it]"
     ]
    },
    {
     "name": "stdout",
     "output_type": "stream",
     "text": [
      "Dataset: filtering_scenario_1.2.csv, Shape after fitting: (4543, 48)\n",
      "  R^2 > 0: 0\n",
      "  R^2 > 0.9: 0\n",
      "\n"
     ]
    },
    {
     "name": "stderr",
     "output_type": "stream",
     "text": [
      "100%|██████████| 5436/5436 [00:02<00:00, 2565.42it/s]\n",
      " 17%|█▋        | 4/24 [00:06<00:34,  1.75s/it]"
     ]
    },
    {
     "name": "stdout",
     "output_type": "stream",
     "text": [
      "Dataset: filtering_scenario_1.3.csv, Shape after fitting: (5436, 48)\n",
      "  R^2 > 0: 0\n",
      "  R^2 > 0.9: 0\n",
      "\n"
     ]
    },
    {
     "name": "stderr",
     "output_type": "stream",
     "text": [
      "100%|██████████| 6308/6308 [00:02<00:00, 2701.44it/s]\n",
      " 21%|██        | 5/24 [00:08<00:37,  1.98s/it]"
     ]
    },
    {
     "name": "stdout",
     "output_type": "stream",
     "text": [
      "Dataset: filtering_scenario_1.4.csv, Shape after fitting: (6308, 48)\n",
      "  R^2 > 0: 0\n",
      "  R^2 > 0.9: 0\n",
      "\n"
     ]
    },
    {
     "name": "stderr",
     "output_type": "stream",
     "text": [
      "100%|██████████| 7145/7145 [00:02<00:00, 2708.50it/s]\n",
      " 25%|██▌       | 6/24 [00:11<00:40,  2.22s/it]"
     ]
    },
    {
     "name": "stdout",
     "output_type": "stream",
     "text": [
      "Dataset: filtering_scenario_1.5.csv, Shape after fitting: (7145, 48)\n",
      "  R^2 > 0: 0\n",
      "  R^2 > 0.9: 0\n",
      "\n"
     ]
    },
    {
     "name": "stderr",
     "output_type": "stream",
     "text": [
      "100%|██████████| 2956/2956 [00:01<00:00, 2658.62it/s]\n",
      " 29%|██▉       | 7/24 [00:12<00:31,  1.87s/it]"
     ]
    },
    {
     "name": "stdout",
     "output_type": "stream",
     "text": [
      "Dataset: filtering_scenario_2.1.csv, Shape after fitting: (2956, 48)\n",
      "  R^2 > 0: 0\n",
      "  R^2 > 0.9: 0\n",
      "\n"
     ]
    },
    {
     "name": "stderr",
     "output_type": "stream",
     "text": [
      "100%|██████████| 3125/3125 [00:01<00:00, 2502.58it/s]\n",
      " 33%|███▎      | 8/24 [00:13<00:26,  1.68s/it]"
     ]
    },
    {
     "name": "stdout",
     "output_type": "stream",
     "text": [
      "Dataset: filtering_scenario_2.2.csv, Shape after fitting: (3125, 48)\n",
      "  R^2 > 0: 0\n",
      "  R^2 > 0.9: 0\n",
      "\n"
     ]
    },
    {
     "name": "stderr",
     "output_type": "stream",
     "text": [
      "100%|██████████| 3276/3276 [00:01<00:00, 2656.74it/s]\n",
      " 38%|███▊      | 9/24 [00:15<00:23,  1.55s/it]"
     ]
    },
    {
     "name": "stdout",
     "output_type": "stream",
     "text": [
      "Dataset: filtering_scenario_2.3.csv, Shape after fitting: (3276, 48)\n",
      "  R^2 > 0: 0\n",
      "  R^2 > 0.9: 0\n",
      "\n"
     ]
    },
    {
     "name": "stderr",
     "output_type": "stream",
     "text": [
      "100%|██████████| 3902/3902 [00:01<00:00, 2620.88it/s]\n",
      " 42%|████▏     | 10/24 [00:16<00:21,  1.54s/it]"
     ]
    },
    {
     "name": "stdout",
     "output_type": "stream",
     "text": [
      "Dataset: filtering_scenario_3.1.csv, Shape after fitting: (3902, 48)\n",
      "  R^2 > 0: 0\n",
      "  R^2 > 0.9: 0\n",
      "\n"
     ]
    },
    {
     "name": "stderr",
     "output_type": "stream",
     "text": [
      "100%|██████████| 6733/6733 [00:02<00:00, 2574.08it/s]\n",
      " 46%|████▌     | 11/24 [00:19<00:24,  1.89s/it]"
     ]
    },
    {
     "name": "stdout",
     "output_type": "stream",
     "text": [
      "Dataset: filtering_scenario_3.10.csv, Shape after fitting: (6733, 48)\n",
      "  R^2 > 0: 0\n",
      "  R^2 > 0.9: 0\n",
      "\n"
     ]
    },
    {
     "name": "stderr",
     "output_type": "stream",
     "text": [
      "100%|██████████| 7196/7196 [00:02<00:00, 2663.21it/s]\n",
      " 50%|█████     | 12/24 [00:22<00:25,  2.15s/it]"
     ]
    },
    {
     "name": "stdout",
     "output_type": "stream",
     "text": [
      "Dataset: filtering_scenario_3.11.csv, Shape after fitting: (7196, 48)\n",
      "  R^2 > 0: 0\n",
      "  R^2 > 0.9: 0\n",
      "\n"
     ]
    },
    {
     "name": "stderr",
     "output_type": "stream",
     "text": [
      "100%|██████████| 7645/7645 [00:02<00:00, 2638.27it/s]\n",
      " 54%|█████▍    | 13/24 [00:25<00:26,  2.40s/it]"
     ]
    },
    {
     "name": "stdout",
     "output_type": "stream",
     "text": [
      "Dataset: filtering_scenario_3.12.csv, Shape after fitting: (7645, 48)\n",
      "  R^2 > 0: 0\n",
      "  R^2 > 0.9: 0\n",
      "\n"
     ]
    },
    {
     "name": "stderr",
     "output_type": "stream",
     "text": [
      "100%|██████████| 7655/7655 [00:02<00:00, 2649.13it/s]\n",
      " 58%|█████▊    | 14/24 [00:28<00:25,  2.57s/it]"
     ]
    },
    {
     "name": "stdout",
     "output_type": "stream",
     "text": [
      "Dataset: filtering_scenario_3.13.csv, Shape after fitting: (7655, 48)\n",
      "  R^2 > 0: 0\n",
      "  R^2 > 0.9: 0\n",
      "\n"
     ]
    },
    {
     "name": "stderr",
     "output_type": "stream",
     "text": [
      "100%|██████████| 8194/8194 [00:03<00:00, 2604.74it/s]\n",
      " 62%|██████▎   | 15/24 [00:31<00:24,  2.76s/it]"
     ]
    },
    {
     "name": "stdout",
     "output_type": "stream",
     "text": [
      "Dataset: filtering_scenario_3.14.csv, Shape after fitting: (8194, 48)\n",
      "  R^2 > 0: 0\n",
      "  R^2 > 0.9: 0\n",
      "\n"
     ]
    },
    {
     "name": "stderr",
     "output_type": "stream",
     "text": [
      "100%|██████████| 8747/8747 [00:03<00:00, 2644.01it/s]\n",
      " 67%|██████▋   | 16/24 [00:34<00:23,  2.95s/it]"
     ]
    },
    {
     "name": "stdout",
     "output_type": "stream",
     "text": [
      "Dataset: filtering_scenario_3.15.csv, Shape after fitting: (8747, 48)\n",
      "  R^2 > 0: 0\n",
      "  R^2 > 0.9: 0\n",
      "\n"
     ]
    },
    {
     "name": "stderr",
     "output_type": "stream",
     "text": [
      "100%|██████████| 4144/4144 [00:01<00:00, 2710.16it/s]\n",
      " 71%|███████   | 17/24 [00:36<00:17,  2.53s/it]"
     ]
    },
    {
     "name": "stdout",
     "output_type": "stream",
     "text": [
      "Dataset: filtering_scenario_3.2.csv, Shape after fitting: (4144, 48)\n",
      "  R^2 > 0: 0\n",
      "  R^2 > 0.9: 0\n",
      "\n"
     ]
    },
    {
     "name": "stderr",
     "output_type": "stream",
     "text": [
      "100%|██████████| 4356/4356 [00:01<00:00, 2654.13it/s]\n",
      " 75%|███████▌  | 18/24 [00:37<00:13,  2.28s/it]"
     ]
    },
    {
     "name": "stdout",
     "output_type": "stream",
     "text": [
      "Dataset: filtering_scenario_3.3.csv, Shape after fitting: (4356, 48)\n",
      "  R^2 > 0: 0\n",
      "  R^2 > 0.9: 0\n",
      "\n"
     ]
    },
    {
     "name": "stderr",
     "output_type": "stream",
     "text": [
      "100%|██████████| 4848/4848 [00:01<00:00, 2684.53it/s]\n",
      " 79%|███████▉  | 19/24 [00:39<00:10,  2.15s/it]"
     ]
    },
    {
     "name": "stdout",
     "output_type": "stream",
     "text": [
      "Dataset: filtering_scenario_3.4.csv, Shape after fitting: (4848, 48)\n",
      "  R^2 > 0: 0\n",
      "  R^2 > 0.9: 0\n",
      "\n"
     ]
    },
    {
     "name": "stderr",
     "output_type": "stream",
     "text": [
      "100%|██████████| 5153/5153 [00:02<00:00, 2570.45it/s]\n",
      " 83%|████████▎ | 20/24 [00:41<00:08,  2.12s/it]"
     ]
    },
    {
     "name": "stdout",
     "output_type": "stream",
     "text": [
      "Dataset: filtering_scenario_3.5.csv, Shape after fitting: (5153, 48)\n",
      "  R^2 > 0: 0\n",
      "  R^2 > 0.9: 0\n",
      "\n"
     ]
    },
    {
     "name": "stderr",
     "output_type": "stream",
     "text": [
      "100%|██████████| 5436/5436 [00:02<00:00, 2678.60it/s]\n",
      " 88%|████████▊ | 21/24 [00:43<00:06,  2.11s/it]"
     ]
    },
    {
     "name": "stdout",
     "output_type": "stream",
     "text": [
      "Dataset: filtering_scenario_3.6.csv, Shape after fitting: (5436, 48)\n",
      "  R^2 > 0: 0\n",
      "  R^2 > 0.9: 0\n",
      "\n"
     ]
    },
    {
     "name": "stderr",
     "output_type": "stream",
     "text": [
      "100%|██████████| 5788/5788 [00:02<00:00, 2636.43it/s]\n",
      " 92%|█████████▏| 22/24 [00:46<00:04,  2.15s/it]"
     ]
    },
    {
     "name": "stdout",
     "output_type": "stream",
     "text": [
      "Dataset: filtering_scenario_3.7.csv, Shape after fitting: (5788, 48)\n",
      "  R^2 > 0: 0\n",
      "  R^2 > 0.9: 0\n",
      "\n"
     ]
    },
    {
     "name": "stderr",
     "output_type": "stream",
     "text": [
      "100%|██████████| 6171/6171 [00:02<00:00, 2663.40it/s]\n",
      " 96%|█████████▌| 23/24 [00:48<00:02,  2.22s/it]"
     ]
    },
    {
     "name": "stdout",
     "output_type": "stream",
     "text": [
      "Dataset: filtering_scenario_3.8.csv, Shape after fitting: (6171, 48)\n",
      "  R^2 > 0: 0\n",
      "  R^2 > 0.9: 0\n",
      "\n"
     ]
    },
    {
     "name": "stderr",
     "output_type": "stream",
     "text": [
      "100%|██████████| 6534/6534 [00:02<00:00, 2644.02it/s]\n",
      "100%|██████████| 24/24 [00:50<00:00,  2.12s/it]"
     ]
    },
    {
     "name": "stdout",
     "output_type": "stream",
     "text": [
      "Dataset: filtering_scenario_3.9.csv, Shape after fitting: (6534, 48)\n",
      "  R^2 > 0: 0\n",
      "  R^2 > 0.9: 0\n",
      "\n"
     ]
    },
    {
     "name": "stderr",
     "output_type": "stream",
     "text": [
      "\n"
     ]
    }
   ],
   "source": [
    "# Get a list of all dataset files in the folder\n",
    "dataset_files = [f for f in os.listdir(_FOLDER_2) if os.path.isfile(os.path.join(_FOLDER_2, f))]\n",
    "\n",
    "# Define the columns for concentration and normalized response\n",
    "conc_columns = [\"fd_num_\" + str(i) for i in range(10)]\n",
    "response_norm = ['norm_cells_' + str(i) for i in range(10)]\n",
    "\n",
    "# Specify the fitting function as a string\n",
    "fitting_function_name = \"logLogistR\"\n",
    "\n",
    "# Loop through each dataset file\n",
    "for file in tqdm(dataset_files):\n",
    "    df = pd.read_csv(os.path.join(_FOLDER_2, file))\n",
    "    \n",
    "    # Perform fitting\n",
    "    r2, fit_param = FittingColumn(df, df.index, x_columns=conc_columns, y_columns=response_norm,\n",
    "                                  fitting_function=fitting_function_name, default_param=True)\n",
    "    \n",
    "    # Store the R^2 values and fitting parameters in the dataframe\n",
    "    df[fitting_function_name + \"_r2\"] = r2\n",
    "    df[fitting_function_name] = list(fit_param)\n",
    "    \n",
    "    # Print the shape of the dataframe after fitting\n",
    "    print(f\"Dataset: {file}, Shape after fitting: {df.shape}\")\n",
    "    \n",
    "    # Filter the dataframe to only include rows with R^2 > 0 and count R^2 > 0.9\n",
    "    df_filtered = df[df[fitting_function_name + \"_r2\"] > 0]\n",
    "    num_r2_above_09 = df_filtered[df_filtered[fitting_function_name + \"_r2\"] > 0.9].shape[0]\n",
    "\n",
    "    print(f\"  R^2 > 0: {df_filtered.shape[0]}\")\n",
    "    print(f\"  R^2 > 0.9: {num_r2_above_09}\\n\")"
   ]
  },
  {
   "cell_type": "code",
   "execution_count": 21,
   "metadata": {},
   "outputs": [
    {
     "name": "stdout",
     "output_type": "stream",
     "text": [
      "Fitting function: sigmoid_Wang, Total good fits: 111687\n",
      "  Best dataset: filtering_scenario_3.15.csv, Good fits: 7112\n",
      "\n",
      "Fitting function: fsigmoid, Total good fits: 223374\n",
      "  Best dataset: filtering_scenario_3.15.csv, Good fits: 7112\n",
      "\n",
      "Fitting function: sigmoid_4_param, Total good fits: 128682\n",
      "  Best dataset: filtering_scenario_3.15.csv, Good fits: 8474\n",
      "\n",
      "Fitting function: sigmoid_3_param, Total good fits: 125082\n",
      "  Best dataset: filtering_scenario_3.15.csv, Good fits: 8140\n",
      "\n",
      "Fitting function: ll4, Total good fits: 128310\n",
      "  Best dataset: filtering_scenario_3.15.csv, Good fits: 8447\n",
      "\n",
      "Fitting function: ll4_R, Total good fits: 128259\n",
      "  Best dataset: filtering_scenario_3.15.csv, Good fits: 8445\n",
      "\n",
      "Fitting function: logistic4, Total good fits: 0\n"
     ]
    },
    {
     "ename": "ValueError",
     "evalue": "max() arg is an empty sequence",
     "output_type": "error",
     "traceback": [
      "\u001b[1;31m---------------------------------------------------------------------------\u001b[0m",
      "\u001b[1;31mValueError\u001b[0m                                Traceback (most recent call last)",
      "Cell \u001b[1;32mIn[21], line 6\u001b[0m\n\u001b[0;32m      3\u001b[0m \u001b[38;5;28mprint\u001b[39m(\u001b[38;5;124mf\u001b[39m\u001b[38;5;124m\"\u001b[39m\u001b[38;5;124mFitting function: \u001b[39m\u001b[38;5;132;01m{\u001b[39;00mfunction\u001b[38;5;132;01m}\u001b[39;00m\u001b[38;5;124m, Total good fits: \u001b[39m\u001b[38;5;132;01m{\u001b[39;00msummary[\u001b[38;5;124m'\u001b[39m\u001b[38;5;124mtotal_good_fits\u001b[39m\u001b[38;5;124m'\u001b[39m]\u001b[38;5;132;01m}\u001b[39;00m\u001b[38;5;124m\"\u001b[39m)\n\u001b[0;32m      5\u001b[0m \u001b[38;5;66;03m# Find which dataset had the most good fits for this function\u001b[39;00m\n\u001b[1;32m----> 6\u001b[0m best_dataset \u001b[38;5;241m=\u001b[39m \u001b[38;5;28;43mmax\u001b[39;49m\u001b[43m(\u001b[49m\u001b[43msummary\u001b[49m\u001b[43m[\u001b[49m\u001b[38;5;124;43m\"\u001b[39;49m\u001b[38;5;124;43mdataset_good_fits\u001b[39;49m\u001b[38;5;124;43m\"\u001b[39;49m\u001b[43m]\u001b[49m\u001b[43m,\u001b[49m\u001b[43m \u001b[49m\u001b[43mkey\u001b[49m\u001b[38;5;241;43m=\u001b[39;49m\u001b[43msummary\u001b[49m\u001b[43m[\u001b[49m\u001b[38;5;124;43m\"\u001b[39;49m\u001b[38;5;124;43mdataset_good_fits\u001b[39;49m\u001b[38;5;124;43m\"\u001b[39;49m\u001b[43m]\u001b[49m\u001b[38;5;241;43m.\u001b[39;49m\u001b[43mget\u001b[49m\u001b[43m)\u001b[49m\n\u001b[0;32m      7\u001b[0m best_fits \u001b[38;5;241m=\u001b[39m summary[\u001b[38;5;124m\"\u001b[39m\u001b[38;5;124mdataset_good_fits\u001b[39m\u001b[38;5;124m\"\u001b[39m][best_dataset]\n\u001b[0;32m      8\u001b[0m \u001b[38;5;28mprint\u001b[39m(\u001b[38;5;124mf\u001b[39m\u001b[38;5;124m\"\u001b[39m\u001b[38;5;124m  Best dataset: \u001b[39m\u001b[38;5;132;01m{\u001b[39;00mbest_dataset\u001b[38;5;132;01m}\u001b[39;00m\u001b[38;5;124m, Good fits: \u001b[39m\u001b[38;5;132;01m{\u001b[39;00mbest_fits\u001b[38;5;132;01m}\u001b[39;00m\u001b[38;5;130;01m\\n\u001b[39;00m\u001b[38;5;124m\"\u001b[39m)\n",
      "\u001b[1;31mValueError\u001b[0m: max() arg is an empty sequence"
     ]
    }
   ],
   "source": [
    "# After running all the fits, compare the total number of good fits\n",
    "for function, summary in good_fits_summary.items():\n",
    "    print(f\"Fitting function: {function}, Total good fits: {summary['total_good_fits']}\")\n",
    "\n",
    "    # Find which dataset had the most good fits for this function\n",
    "    best_dataset = max(summary[\"dataset_good_fits\"], key=summary[\"dataset_good_fits\"].get)\n",
    "    best_fits = summary[\"dataset_good_fits\"][best_dataset]\n",
    "    print(f\"  Best dataset: {best_dataset}, Good fits: {best_fits}\\n\")"
   ]
  },
  {
   "cell_type": "markdown",
   "metadata": {},
   "source": [
    "## Saving Fitted Datasets"
   ]
  },
  {
   "cell_type": "code",
   "execution_count": 6,
   "metadata": {},
   "outputs": [],
   "source": [
    "def SplitFitParam(df):\n",
    "    \"\"\"Column fitting_param is splitted into separate columns \"\"\"\n",
    "    conc_columns= [\"fd_num_\"+str(i) for i in range(10)]\n",
    "    response_norm = ['norm_cells_'+str(i) for i in range(10)]\n",
    "    param_columns = [\"DRUG_ID\", \"COSMIC_ID\", \"MAX_CONC\"] + conc_columns + response_norm\n",
    "    for i in range(len(df['fitting_param'].values[0])):\n",
    "        param_col = \"param_\"+str(i+1)\n",
    "        param_columns.append(param_col)\n",
    "        df[param_col] = df['fitting_param'].apply(lambda x: x[i])\n",
    "    return df[param_columns]\n",
    "\n",
    "def FittedData(df, x_columns, y_columns, fitting_function, parameters_guess=[], default_param = True):\n",
    "    \n",
    "    r2, fit_param = FittingColumn(df, df.index, x_columns, y_columns, fitting_function, default_param = True)\n",
    "    df[\"fitting_r2\"] = r2\n",
    "    df[\"fitting_param\"] = fit_param\n",
    "    df= df[df[\"fitting_r2\"]!=0]\n",
    "    return df"
   ]
  },
  {
   "cell_type": "code",
   "execution_count": 7,
   "metadata": {},
   "outputs": [
    {
     "name": "stderr",
     "output_type": "stream",
     "text": [
      "100%|██████████| 2776/2776 [00:10<00:00, 257.78it/s]\n",
      "  4%|▍         | 1/24 [00:10<04:09, 10.86s/it]"
     ]
    },
    {
     "name": "stdout",
     "output_type": "stream",
     "text": [
      "   norm_cells_4  norm_cells_5  norm_cells_6  norm_cells_7  norm_cells_8  \\\n",
      "0      0.718099      0.469376      0.173641      0.103125      0.016716   \n",
      "1      0.720981      0.622026      0.378269      0.457085      0.358507   \n",
      "2      0.976929      0.645822      0.096651      0.033273      0.019794   \n",
      "3      0.121750      0.089484      0.069739      0.058550      0.048249   \n",
      "4      0.795708      0.612518      0.325654      0.238841      0.229492   \n",
      "\n",
      "   norm_cells_9   param_1   param_2    param_3       param_4  \n",
      "0      0.010709  0.537148  1.029230 -10.076644  1.809627e-16  \n",
      "1      0.362443  0.449166  1.614213 -11.144873  3.683538e-01  \n",
      "2      0.017003  0.576565  1.057679 -29.296109  2.404038e-02  \n",
      "3      0.031395  0.280757  1.014233 -14.114493  5.207879e-02  \n",
      "4      0.187305  0.529826  1.248430 -10.386378  1.808381e-01  \n"
     ]
    },
    {
     "name": "stderr",
     "output_type": "stream",
     "text": [
      "100%|██████████| 3667/3667 [00:14<00:00, 244.78it/s]\n",
      "  8%|▊         | 2/24 [00:25<04:53, 13.35s/it]"
     ]
    },
    {
     "name": "stdout",
     "output_type": "stream",
     "text": [
      "   norm_cells_4  norm_cells_5  norm_cells_6  norm_cells_7  norm_cells_8  \\\n",
      "0      0.720981      0.622026      0.378269      0.457085      0.358507   \n",
      "1      0.976929      0.645822      0.096651      0.033273      0.019794   \n",
      "2      0.213701      0.333376      0.440845      0.433407      0.248843   \n",
      "3      0.795708      0.612518      0.325654      0.238841      0.229492   \n",
      "4      0.954021      0.397550      0.359142      0.383976      0.380092   \n",
      "\n",
      "   norm_cells_9   param_1   param_2    param_3   param_4  \n",
      "0      0.362443  0.449166  1.614213 -11.144873  0.368354  \n",
      "1      0.017003  0.576565  1.057679 -29.296109  0.024040  \n",
      "2      0.273228  0.179233  1.455040 -22.753634  0.331866  \n",
      "3      0.187305  0.529826  1.248430 -10.386378  0.180838  \n",
      "4      0.344509  0.488135  1.595464 -50.961464  0.366906  \n"
     ]
    },
    {
     "name": "stderr",
     "output_type": "stream",
     "text": [
      "100%|██████████| 4543/4543 [00:18<00:00, 239.83it/s]\n",
      " 12%|█▎        | 3/24 [00:45<05:35, 15.97s/it]"
     ]
    },
    {
     "name": "stdout",
     "output_type": "stream",
     "text": [
      "   norm_cells_4  norm_cells_5  norm_cells_6  norm_cells_7  norm_cells_8  \\\n",
      "0      0.720981      0.622026      0.378269      0.457085      0.358507   \n",
      "1      0.976929      0.645822      0.096651      0.033273      0.019794   \n",
      "2      0.213701      0.333376      0.440845      0.433407      0.248843   \n",
      "3      0.795708      0.612518      0.325654      0.238841      0.229492   \n",
      "4      0.954021      0.397550      0.359142      0.383976      0.380092   \n",
      "\n",
      "   norm_cells_9   param_1   param_2    param_3   param_4  \n",
      "0      0.362443  0.449166  1.614213 -11.144873  0.368354  \n",
      "1      0.017003  0.576565  1.057679 -29.296109  0.024040  \n",
      "2      0.273228  0.179233  1.455040 -22.753634  0.331866  \n",
      "3      0.187305  0.529826  1.248430 -10.386378  0.180838  \n",
      "4      0.344509  0.488135  1.595464 -50.961464  0.366906  \n"
     ]
    },
    {
     "name": "stderr",
     "output_type": "stream",
     "text": [
      "100%|██████████| 5436/5436 [00:21<00:00, 250.66it/s]\n",
      " 17%|█▋        | 4/24 [01:06<06:05, 18.29s/it]"
     ]
    },
    {
     "name": "stdout",
     "output_type": "stream",
     "text": [
      "   norm_cells_4  norm_cells_5  norm_cells_6  norm_cells_7  norm_cells_8  \\\n",
      "0      0.720981      0.622026      0.378269      0.457085      0.358507   \n",
      "1      0.976929      0.645822      0.096651      0.033273      0.019794   \n",
      "2      0.213701      0.333376      0.440845      0.433407      0.248843   \n",
      "3      0.795708      0.612518      0.325654      0.238841      0.229492   \n",
      "4      0.954021      0.397550      0.359142      0.383976      0.380092   \n",
      "\n",
      "   norm_cells_9   param_1   param_2    param_3   param_4  \n",
      "0      0.362443  0.449166  1.614213 -11.144873  0.368354  \n",
      "1      0.017003  0.576565  1.057679 -29.296109  0.024040  \n",
      "2      0.273228  0.179233  1.455040 -22.753634  0.331866  \n",
      "3      0.187305  0.529826  1.248430 -10.386378  0.180838  \n",
      "4      0.344509  0.488135  1.595464 -50.961464  0.366906  \n"
     ]
    },
    {
     "name": "stderr",
     "output_type": "stream",
     "text": [
      "100%|██████████| 6308/6308 [00:26<00:00, 234.23it/s]\n",
      " 21%|██        | 5/24 [01:34<06:47, 21.47s/it]"
     ]
    },
    {
     "name": "stdout",
     "output_type": "stream",
     "text": [
      "   norm_cells_4  norm_cells_5  norm_cells_6  norm_cells_7  norm_cells_8  \\\n",
      "0      0.720981      0.622026      0.378269      0.457085      0.358507   \n",
      "1      0.976929      0.645822      0.096651      0.033273      0.019794   \n",
      "2      0.213701      0.333376      0.440845      0.433407      0.248843   \n",
      "3      0.795708      0.612518      0.325654      0.238841      0.229492   \n",
      "4      0.954021      0.397550      0.359142      0.383976      0.380092   \n",
      "\n",
      "   norm_cells_9   param_1   param_2    param_3   param_4  \n",
      "0      0.362443  0.449166  1.614213 -11.144873  0.368354  \n",
      "1      0.017003  0.576565  1.057679 -29.296109  0.024040  \n",
      "2      0.273228  0.179233  1.455040 -22.753634  0.331866  \n",
      "3      0.187305  0.529826  1.248430 -10.386378  0.180838  \n",
      "4      0.344509  0.488135  1.595464 -50.961464  0.366906  \n"
     ]
    },
    {
     "name": "stderr",
     "output_type": "stream",
     "text": [
      "100%|██████████| 7145/7145 [00:30<00:00, 234.92it/s]\n",
      " 25%|██▌       | 6/24 [02:04<07:22, 24.58s/it]"
     ]
    },
    {
     "name": "stdout",
     "output_type": "stream",
     "text": [
      "   norm_cells_4  norm_cells_5  norm_cells_6  norm_cells_7  norm_cells_8  \\\n",
      "0      0.720981      0.622026      0.378269      0.457085      0.358507   \n",
      "1      0.936764      0.859222      0.684833      0.438612      0.193869   \n",
      "2      0.976929      0.645822      0.096651      0.033273      0.019794   \n",
      "3      0.213701      0.333376      0.440845      0.433407      0.248843   \n",
      "4      0.795708      0.612518      0.325654      0.238841      0.229492   \n",
      "\n",
      "   norm_cells_9   param_1   param_2    param_3   param_4  \n",
      "0      0.362443  0.449166  1.614213 -11.144873  0.368354  \n",
      "1      0.095925  0.742949  1.085440 -10.924351  0.035921  \n",
      "2      0.017003  0.576565  1.057679 -29.296109  0.024040  \n",
      "3      0.273228  0.179233  1.455040 -22.753634  0.331866  \n",
      "4      0.187305  0.529826  1.248430 -10.386378  0.180838  \n"
     ]
    },
    {
     "name": "stderr",
     "output_type": "stream",
     "text": [
      "100%|██████████| 2956/2956 [00:12<00:00, 228.98it/s]\n",
      " 29%|██▉       | 7/24 [02:17<05:53, 20.80s/it]"
     ]
    },
    {
     "name": "stdout",
     "output_type": "stream",
     "text": [
      "   norm_cells_4  norm_cells_5  norm_cells_6  norm_cells_7  norm_cells_8  \\\n",
      "0      0.720981      0.622026      0.378269      0.457085      0.358507   \n",
      "1      0.976929      0.645822      0.096651      0.033273      0.019794   \n",
      "2      0.795708      0.612518      0.325654      0.238841      0.229492   \n",
      "3      0.954021      0.397550      0.359142      0.383976      0.380092   \n",
      "4      0.879336      0.558520      0.425561      0.223424      0.006359   \n",
      "\n",
      "   norm_cells_9   param_1   param_2    param_3       param_4  \n",
      "0      0.362443  0.449166  1.614213 -11.144873  3.683538e-01  \n",
      "1      0.017003  0.576565  1.057679 -29.296109  2.404038e-02  \n",
      "2      0.187305  0.529826  1.248430 -10.386378  1.808381e-01  \n",
      "3      0.344509  0.488135  1.595464 -50.961464  3.669065e-01  \n",
      "4      0.005144  0.614598  0.984011  -9.417479  2.722445e-20  \n"
     ]
    },
    {
     "name": "stderr",
     "output_type": "stream",
     "text": [
      "100%|██████████| 3125/3125 [00:13<00:00, 224.15it/s]\n",
      " 33%|███▎      | 8/24 [02:31<04:58, 18.65s/it]"
     ]
    },
    {
     "name": "stdout",
     "output_type": "stream",
     "text": [
      "   norm_cells_4  norm_cells_5  norm_cells_6  norm_cells_7  norm_cells_8  \\\n",
      "0      0.720981      0.622026      0.378269      0.457085      0.358507   \n",
      "1      0.976929      0.645822      0.096651      0.033273      0.019794   \n",
      "2      0.795708      0.612518      0.325654      0.238841      0.229492   \n",
      "3      0.954021      0.397550      0.359142      0.383976      0.380092   \n",
      "4      0.879336      0.558520      0.425561      0.223424      0.006359   \n",
      "\n",
      "   norm_cells_9   param_1   param_2    param_3       param_4  \n",
      "0      0.362443  0.449166  1.614213 -11.144873  3.683538e-01  \n",
      "1      0.017003  0.576565  1.057679 -29.296109  2.404038e-02  \n",
      "2      0.187305  0.529826  1.248430 -10.386378  1.808381e-01  \n",
      "3      0.344509  0.488135  1.595464 -50.961464  3.669065e-01  \n",
      "4      0.005144  0.614598  0.984011  -9.417479  2.722445e-20  \n"
     ]
    },
    {
     "name": "stderr",
     "output_type": "stream",
     "text": [
      "100%|██████████| 3276/3276 [00:14<00:00, 230.99it/s]\n",
      " 38%|███▊      | 9/24 [02:45<04:19, 17.28s/it]"
     ]
    },
    {
     "name": "stdout",
     "output_type": "stream",
     "text": [
      "   norm_cells_4  norm_cells_5  norm_cells_6  norm_cells_7  norm_cells_8  \\\n",
      "0      0.720981      0.622026      0.378269      0.457085      0.358507   \n",
      "1      0.976929      0.645822      0.096651      0.033273      0.019794   \n",
      "2      0.795708      0.612518      0.325654      0.238841      0.229492   \n",
      "3      0.954021      0.397550      0.359142      0.383976      0.380092   \n",
      "4      0.879336      0.558520      0.425561      0.223424      0.006359   \n",
      "\n",
      "   norm_cells_9   param_1   param_2    param_3       param_4  \n",
      "0      0.362443  0.449166  1.614213 -11.144873  3.683538e-01  \n",
      "1      0.017003  0.576565  1.057679 -29.296109  2.404038e-02  \n",
      "2      0.187305  0.529826  1.248430 -10.386378  1.808381e-01  \n",
      "3      0.344509  0.488135  1.595464 -50.961464  3.669065e-01  \n",
      "4      0.005144  0.614598  0.984011  -9.417479  2.722445e-20  \n"
     ]
    },
    {
     "name": "stderr",
     "output_type": "stream",
     "text": [
      "100%|██████████| 3902/3902 [00:16<00:00, 231.59it/s]\n",
      " 42%|████▏     | 10/24 [03:02<04:00, 17.19s/it]"
     ]
    },
    {
     "name": "stdout",
     "output_type": "stream",
     "text": [
      "   norm_cells_4  norm_cells_5  norm_cells_6  norm_cells_7  norm_cells_8  \\\n",
      "0      0.720981      0.622026      0.378269      0.457085      0.358507   \n",
      "1      0.976929      0.645822      0.096651      0.033273      0.019794   \n",
      "2      0.213701      0.333376      0.440845      0.433407      0.248843   \n",
      "3      0.795708      0.612518      0.325654      0.238841      0.229492   \n",
      "4      0.954021      0.397550      0.359142      0.383976      0.380092   \n",
      "\n",
      "   norm_cells_9   param_1   param_2    param_3   param_4  \n",
      "0      0.362443  0.449166  1.614213 -11.144873  0.368354  \n",
      "1      0.017003  0.576565  1.057679 -29.296109  0.024040  \n",
      "2      0.273228  0.179233  1.455040 -22.753634  0.331866  \n",
      "3      0.187305  0.529826  1.248430 -10.386378  0.180838  \n",
      "4      0.344509  0.488135  1.595464 -50.961464  0.366906  \n"
     ]
    },
    {
     "name": "stderr",
     "output_type": "stream",
     "text": [
      "100%|██████████| 6733/6733 [00:29<00:00, 229.21it/s]\n",
      " 46%|████▌     | 11/24 [03:32<04:32, 20.98s/it]"
     ]
    },
    {
     "name": "stdout",
     "output_type": "stream",
     "text": [
      "   norm_cells_4  norm_cells_5  norm_cells_6  norm_cells_7  norm_cells_8  \\\n",
      "0      0.720981      0.622026      0.378269      0.457085      0.358507   \n",
      "1      0.976929      0.645822      0.096651      0.033273      0.019794   \n",
      "2      0.213701      0.333376      0.440845      0.433407      0.248843   \n",
      "3      0.795708      0.612518      0.325654      0.238841      0.229492   \n",
      "4      0.954021      0.397550      0.359142      0.383976      0.380092   \n",
      "\n",
      "   norm_cells_9   param_1   param_2    param_3   param_4  \n",
      "0      0.362443  0.449166  1.614213 -11.144873  0.368354  \n",
      "1      0.017003  0.576565  1.057679 -29.296109  0.024040  \n",
      "2      0.273228  0.179233  1.455040 -22.753634  0.331866  \n",
      "3      0.187305  0.529826  1.248430 -10.386378  0.180838  \n",
      "4      0.344509  0.488135  1.595464 -50.961464  0.366906  \n"
     ]
    },
    {
     "name": "stderr",
     "output_type": "stream",
     "text": [
      "100%|██████████| 7196/7196 [00:31<00:00, 230.36it/s]\n",
      " 50%|█████     | 12/24 [04:04<04:50, 24.18s/it]"
     ]
    },
    {
     "name": "stdout",
     "output_type": "stream",
     "text": [
      "   norm_cells_4  norm_cells_5  norm_cells_6  norm_cells_7  norm_cells_8  \\\n",
      "0      0.720981      0.622026      0.378269      0.457085      0.358507   \n",
      "1      0.976929      0.645822      0.096651      0.033273      0.019794   \n",
      "2      0.213701      0.333376      0.440845      0.433407      0.248843   \n",
      "3      0.795708      0.612518      0.325654      0.238841      0.229492   \n",
      "4      0.954021      0.397550      0.359142      0.383976      0.380092   \n",
      "\n",
      "   norm_cells_9   param_1   param_2    param_3   param_4  \n",
      "0      0.362443  0.449166  1.614213 -11.144873  0.368354  \n",
      "1      0.017003  0.576565  1.057679 -29.296109  0.024040  \n",
      "2      0.273228  0.179233  1.455040 -22.753634  0.331866  \n",
      "3      0.187305  0.529826  1.248430 -10.386378  0.180838  \n",
      "4      0.344509  0.488135  1.595464 -50.961464  0.366906  \n"
     ]
    },
    {
     "name": "stderr",
     "output_type": "stream",
     "text": [
      "100%|██████████| 7645/7645 [00:32<00:00, 232.95it/s]\n",
      " 54%|█████▍    | 13/24 [04:37<04:55, 26.88s/it]"
     ]
    },
    {
     "name": "stdout",
     "output_type": "stream",
     "text": [
      "   norm_cells_4  norm_cells_5  norm_cells_6  norm_cells_7  norm_cells_8  \\\n",
      "0      0.763920      0.656923      0.693909      0.633029      0.568700   \n",
      "1      0.720981      0.622026      0.378269      0.457085      0.358507   \n",
      "2      0.976929      0.645822      0.096651      0.033273      0.019794   \n",
      "3      0.213701      0.333376      0.440845      0.433407      0.248843   \n",
      "4      0.795708      0.612518      0.325654      0.238841      0.229492   \n",
      "\n",
      "   norm_cells_9   param_1   param_2    param_3   param_4  \n",
      "0      0.530703  0.276299  1.326407  -2.934387  0.436581  \n",
      "1      0.362443  0.449166  1.614213 -11.144873  0.368354  \n",
      "2      0.017003  0.576565  1.057679 -29.296109  0.024040  \n",
      "3      0.273228  0.179233  1.455040 -22.753634  0.331866  \n",
      "4      0.187305  0.529826  1.248430 -10.386378  0.180838  \n"
     ]
    },
    {
     "name": "stderr",
     "output_type": "stream",
     "text": [
      "100%|██████████| 7655/7655 [00:30<00:00, 253.70it/s]\n",
      " 58%|█████▊    | 14/24 [05:07<04:39, 27.94s/it]"
     ]
    },
    {
     "name": "stdout",
     "output_type": "stream",
     "text": [
      "   norm_cells_4  norm_cells_5  norm_cells_6  norm_cells_7  norm_cells_8  \\\n",
      "0      0.747191      0.677829      0.482039      0.457999      0.372627   \n",
      "1      0.720981      0.622026      0.378269      0.457085      0.358507   \n",
      "2      0.936764      0.859222      0.684833      0.438612      0.193869   \n",
      "3      0.976929      0.645822      0.096651      0.033273      0.019794   \n",
      "4      0.213701      0.333376      0.440845      0.433407      0.248843   \n",
      "\n",
      "   norm_cells_9   param_1   param_2    param_3   param_4  \n",
      "0      0.405173  0.404484  1.009111  -2.956400  0.220084  \n",
      "1      0.362443  0.449166  1.614213 -11.144873  0.368354  \n",
      "2      0.095925  0.742949  1.085440 -10.924351  0.035921  \n",
      "3      0.017003  0.576565  1.057679 -29.296109  0.024040  \n",
      "4      0.273228  0.179233  1.455040 -22.753634  0.331866  \n"
     ]
    },
    {
     "name": "stderr",
     "output_type": "stream",
     "text": [
      "100%|██████████| 8194/8194 [00:39<00:00, 205.23it/s]\n",
      " 62%|██████▎   | 15/24 [05:47<04:44, 31.64s/it]"
     ]
    },
    {
     "name": "stdout",
     "output_type": "stream",
     "text": [
      "   norm_cells_4  norm_cells_5  norm_cells_6  norm_cells_7  norm_cells_8  \\\n",
      "0      0.747191      0.677829      0.482039      0.457999      0.372627   \n",
      "1      0.720981      0.622026      0.378269      0.457085      0.358507   \n",
      "2      0.936764      0.859222      0.684833      0.438612      0.193869   \n",
      "3      0.976929      0.645822      0.096651      0.033273      0.019794   \n",
      "4      0.213701      0.333376      0.440845      0.433407      0.248843   \n",
      "\n",
      "   norm_cells_9   param_1   param_2    param_3   param_4  \n",
      "0      0.405173  0.404484  1.009111  -2.956400  0.220084  \n",
      "1      0.362443  0.449166  1.614213 -11.144873  0.368354  \n",
      "2      0.095925  0.742949  1.085440 -10.924351  0.035921  \n",
      "3      0.017003  0.576565  1.057679 -29.296109  0.024040  \n",
      "4      0.273228  0.179233  1.455040 -22.753634  0.331866  \n"
     ]
    },
    {
     "name": "stderr",
     "output_type": "stream",
     "text": [
      "100%|██████████| 8747/8747 [00:40<00:00, 213.78it/s]\n",
      " 67%|██████▋   | 16/24 [06:28<04:36, 34.51s/it]"
     ]
    },
    {
     "name": "stdout",
     "output_type": "stream",
     "text": [
      "   norm_cells_4  norm_cells_5  norm_cells_6  norm_cells_7  norm_cells_8  \\\n",
      "0      0.763920      0.656923      0.693909      0.633029      0.568700   \n",
      "1      0.747191      0.677829      0.482039      0.457999      0.372627   \n",
      "2      0.720981      0.622026      0.378269      0.457085      0.358507   \n",
      "3      0.936764      0.859222      0.684833      0.438612      0.193869   \n",
      "4      0.976929      0.645822      0.096651      0.033273      0.019794   \n",
      "\n",
      "   norm_cells_9   param_1   param_2    param_3   param_4  \n",
      "0      0.530703  0.276299  1.326407  -2.934387  0.436581  \n",
      "1      0.405173  0.404484  1.009111  -2.956400  0.220084  \n",
      "2      0.362443  0.449166  1.614213 -11.144873  0.368354  \n",
      "3      0.095925  0.742949  1.085440 -10.924351  0.035921  \n",
      "4      0.017003  0.576565  1.057679 -29.296109  0.024040  \n"
     ]
    },
    {
     "name": "stderr",
     "output_type": "stream",
     "text": [
      "100%|██████████| 4144/4144 [00:18<00:00, 221.42it/s]\n",
      " 71%|███████   | 17/24 [06:47<03:28, 29.81s/it]"
     ]
    },
    {
     "name": "stdout",
     "output_type": "stream",
     "text": [
      "   norm_cells_4  norm_cells_5  norm_cells_6  norm_cells_7  norm_cells_8  \\\n",
      "0      0.720981      0.622026      0.378269      0.457085      0.358507   \n",
      "1      0.976929      0.645822      0.096651      0.033273      0.019794   \n",
      "2      0.213701      0.333376      0.440845      0.433407      0.248843   \n",
      "3      0.795708      0.612518      0.325654      0.238841      0.229492   \n",
      "4      0.954021      0.397550      0.359142      0.383976      0.380092   \n",
      "\n",
      "   norm_cells_9   param_1   param_2    param_3   param_4  \n",
      "0      0.362443  0.449166  1.614213 -11.144873  0.368354  \n",
      "1      0.017003  0.576565  1.057679 -29.296109  0.024040  \n",
      "2      0.273228  0.179233  1.455040 -22.753634  0.331866  \n",
      "3      0.187305  0.529826  1.248430 -10.386378  0.180838  \n",
      "4      0.344509  0.488135  1.595464 -50.961464  0.366906  \n"
     ]
    },
    {
     "name": "stderr",
     "output_type": "stream",
     "text": [
      "100%|██████████| 4356/4356 [00:19<00:00, 222.52it/s]\n",
      " 75%|███████▌  | 18/24 [07:07<02:40, 26.77s/it]"
     ]
    },
    {
     "name": "stdout",
     "output_type": "stream",
     "text": [
      "   norm_cells_4  norm_cells_5  norm_cells_6  norm_cells_7  norm_cells_8  \\\n",
      "0      0.763920      0.656923      0.693909      0.633029      0.568700   \n",
      "1      0.720981      0.622026      0.378269      0.457085      0.358507   \n",
      "2      0.976929      0.645822      0.096651      0.033273      0.019794   \n",
      "3      0.213701      0.333376      0.440845      0.433407      0.248843   \n",
      "4      0.795708      0.612518      0.325654      0.238841      0.229492   \n",
      "\n",
      "   norm_cells_9   param_1   param_2    param_3   param_4  \n",
      "0      0.530703  0.276299  1.326407  -2.934387  0.436581  \n",
      "1      0.362443  0.449166  1.614213 -11.144873  0.368354  \n",
      "2      0.017003  0.576565  1.057679 -29.296109  0.024040  \n",
      "3      0.273228  0.179233  1.455040 -22.753634  0.331866  \n",
      "4      0.187305  0.529826  1.248430 -10.386378  0.180838  \n"
     ]
    },
    {
     "name": "stderr",
     "output_type": "stream",
     "text": [
      "100%|██████████| 4848/4848 [00:19<00:00, 244.50it/s]\n",
      " 79%|███████▉  | 19/24 [07:27<02:03, 24.73s/it]"
     ]
    },
    {
     "name": "stdout",
     "output_type": "stream",
     "text": [
      "   norm_cells_4  norm_cells_5  norm_cells_6  norm_cells_7  norm_cells_8  \\\n",
      "0      0.720981      0.622026      0.378269      0.457085      0.358507   \n",
      "1      0.976929      0.645822      0.096651      0.033273      0.019794   \n",
      "2      0.213701      0.333376      0.440845      0.433407      0.248843   \n",
      "3      0.795708      0.612518      0.325654      0.238841      0.229492   \n",
      "4      0.954021      0.397550      0.359142      0.383976      0.380092   \n",
      "\n",
      "   norm_cells_9   param_1   param_2    param_3   param_4  \n",
      "0      0.362443  0.449166  1.614213 -11.144873  0.368354  \n",
      "1      0.017003  0.576565  1.057679 -29.296109  0.024040  \n",
      "2      0.273228  0.179233  1.455040 -22.753634  0.331866  \n",
      "3      0.187305  0.529826  1.248430 -10.386378  0.180838  \n",
      "4      0.344509  0.488135  1.595464 -50.961464  0.366906  \n"
     ]
    },
    {
     "name": "stderr",
     "output_type": "stream",
     "text": [
      "100%|██████████| 5153/5153 [00:20<00:00, 252.95it/s]\n",
      " 83%|████████▎ | 20/24 [07:47<01:33, 23.47s/it]"
     ]
    },
    {
     "name": "stdout",
     "output_type": "stream",
     "text": [
      "   norm_cells_4  norm_cells_5  norm_cells_6  norm_cells_7  norm_cells_8  \\\n",
      "0      0.720981      0.622026      0.378269      0.457085      0.358507   \n",
      "1      0.976929      0.645822      0.096651      0.033273      0.019794   \n",
      "2      0.213701      0.333376      0.440845      0.433407      0.248843   \n",
      "3      0.795708      0.612518      0.325654      0.238841      0.229492   \n",
      "4      0.954021      0.397550      0.359142      0.383976      0.380092   \n",
      "\n",
      "   norm_cells_9   param_1   param_2    param_3   param_4  \n",
      "0      0.362443  0.449166  1.614213 -11.144873  0.368354  \n",
      "1      0.017003  0.576565  1.057679 -29.296109  0.024040  \n",
      "2      0.273228  0.179233  1.455040 -22.753634  0.331866  \n",
      "3      0.187305  0.529826  1.248430 -10.386378  0.180838  \n",
      "4      0.344509  0.488135  1.595464 -50.961464  0.366906  \n"
     ]
    },
    {
     "name": "stderr",
     "output_type": "stream",
     "text": [
      "100%|██████████| 5436/5436 [00:24<00:00, 224.23it/s]\n",
      " 88%|████████▊ | 21/24 [08:12<01:11, 23.75s/it]"
     ]
    },
    {
     "name": "stdout",
     "output_type": "stream",
     "text": [
      "   norm_cells_4  norm_cells_5  norm_cells_6  norm_cells_7  norm_cells_8  \\\n",
      "0      0.763920      0.656923      0.693909      0.633029      0.568700   \n",
      "1      0.720981      0.622026      0.378269      0.457085      0.358507   \n",
      "2      0.976929      0.645822      0.096651      0.033273      0.019794   \n",
      "3      0.213701      0.333376      0.440845      0.433407      0.248843   \n",
      "4      0.795708      0.612518      0.325654      0.238841      0.229492   \n",
      "\n",
      "   norm_cells_9   param_1   param_2    param_3   param_4  \n",
      "0      0.530703  0.276299  1.326407  -2.934387  0.436581  \n",
      "1      0.362443  0.449166  1.614213 -11.144873  0.368354  \n",
      "2      0.017003  0.576565  1.057679 -29.296109  0.024040  \n",
      "3      0.273228  0.179233  1.455040 -22.753634  0.331866  \n",
      "4      0.187305  0.529826  1.248430 -10.386378  0.180838  \n"
     ]
    },
    {
     "name": "stderr",
     "output_type": "stream",
     "text": [
      "100%|██████████| 5788/5788 [00:25<00:00, 225.78it/s]\n",
      " 92%|█████████▏| 22/24 [08:38<00:48, 24.37s/it]"
     ]
    },
    {
     "name": "stdout",
     "output_type": "stream",
     "text": [
      "   norm_cells_4  norm_cells_5  norm_cells_6  norm_cells_7  norm_cells_8  \\\n",
      "0      0.720981      0.622026      0.378269      0.457085      0.358507   \n",
      "1      0.976929      0.645822      0.096651      0.033273      0.019794   \n",
      "2      0.213701      0.333376      0.440845      0.433407      0.248843   \n",
      "3      0.795708      0.612518      0.325654      0.238841      0.229492   \n",
      "4      0.954021      0.397550      0.359142      0.383976      0.380092   \n",
      "\n",
      "   norm_cells_9   param_1   param_2    param_3   param_4  \n",
      "0      0.362443  0.449166  1.614213 -11.144873  0.368354  \n",
      "1      0.017003  0.576565  1.057679 -29.296109  0.024040  \n",
      "2      0.273228  0.179233  1.455040 -22.753634  0.331866  \n",
      "3      0.187305  0.529826  1.248430 -10.386378  0.180838  \n",
      "4      0.344509  0.488135  1.595464 -50.961464  0.366906  \n"
     ]
    },
    {
     "name": "stderr",
     "output_type": "stream",
     "text": [
      "100%|██████████| 6171/6171 [00:28<00:00, 217.79it/s]\n",
      " 96%|█████████▌| 23/24 [09:06<00:25, 25.62s/it]"
     ]
    },
    {
     "name": "stdout",
     "output_type": "stream",
     "text": [
      "   norm_cells_4  norm_cells_5  norm_cells_6  norm_cells_7  norm_cells_8  \\\n",
      "0      0.720981      0.622026      0.378269      0.457085      0.358507   \n",
      "1      0.976929      0.645822      0.096651      0.033273      0.019794   \n",
      "2      0.213701      0.333376      0.440845      0.433407      0.248843   \n",
      "3      0.795708      0.612518      0.325654      0.238841      0.229492   \n",
      "4      0.954021      0.397550      0.359142      0.383976      0.380092   \n",
      "\n",
      "   norm_cells_9   param_1   param_2    param_3   param_4  \n",
      "0      0.362443  0.449166  1.614213 -11.144873  0.368354  \n",
      "1      0.017003  0.576565  1.057679 -29.296109  0.024040  \n",
      "2      0.273228  0.179233  1.455040 -22.753634  0.331866  \n",
      "3      0.187305  0.529826  1.248430 -10.386378  0.180838  \n",
      "4      0.344509  0.488135  1.595464 -50.961464  0.366906  \n"
     ]
    },
    {
     "name": "stderr",
     "output_type": "stream",
     "text": [
      "100%|██████████| 6534/6534 [00:29<00:00, 220.13it/s]\n",
      "100%|██████████| 24/24 [09:36<00:00, 24.03s/it]"
     ]
    },
    {
     "name": "stdout",
     "output_type": "stream",
     "text": [
      "   norm_cells_4  norm_cells_5  norm_cells_6  norm_cells_7  norm_cells_8  \\\n",
      "0      0.763920      0.656923      0.693909      0.633029      0.568700   \n",
      "1      0.720981      0.622026      0.378269      0.457085      0.358507   \n",
      "2      0.976929      0.645822      0.096651      0.033273      0.019794   \n",
      "3      0.213701      0.333376      0.440845      0.433407      0.248843   \n",
      "4      0.795708      0.612518      0.325654      0.238841      0.229492   \n",
      "\n",
      "   norm_cells_9   param_1   param_2    param_3   param_4  \n",
      "0      0.530703  0.276299  1.326407  -2.934387  0.436581  \n",
      "1      0.362443  0.449166  1.614213 -11.144873  0.368354  \n",
      "2      0.017003  0.576565  1.057679 -29.296109  0.024040  \n",
      "3      0.273228  0.179233  1.455040 -22.753634  0.331866  \n",
      "4      0.187305  0.529826  1.248430 -10.386378  0.180838  \n"
     ]
    },
    {
     "name": "stderr",
     "output_type": "stream",
     "text": [
      "\n"
     ]
    }
   ],
   "source": [
    "fitting_function_name = \"sigmoid_4_param\"\n",
    "\n",
    "# Define concentration and response columns\n",
    "conc_columns = [\"fd_num_\" + str(i) for i in range(10)]\n",
    "response_norm = ['norm_cells_' + str(i) for i in range(10)]\n",
    "\n",
    "# Now loop over all files and apply the fitting\n",
    "for file in tqdm(os.listdir(_FOLDER_2)):\n",
    "    if file.endswith(\".csv\"):\n",
    "        df = pd.read_csv(os.path.join(_FOLDER_2, file))\n",
    "        \n",
    "        # Apply fitting function\n",
    "        df_fitted = FittedData(df, conc_columns, response_norm, fitting_function_name, default_param=True)\n",
    "        \n",
    "        # Split fitting_param into separate columns\n",
    "        df_fitted = SplitFitParam(df_fitted)\n",
    "\n",
    "        print(df_fitted[df_fitted.columns[-10:]].head())\n",
    "        \n",
    "        # Construct the new file name\n",
    "        scenario_num = file.split(\"_\")[2]  \n",
    "        new_file_name = f\"fit_filtered_scenario_{scenario_num}.csv\"\n",
    "        \n",
    "        # Save the filtered dataframe\n",
    "        df_fitted.to_csv(os.path.join(_FOLDER_3, new_file_name), index=False)"
   ]
  }
 ],
 "metadata": {
  "kernelspec": {
   "display_name": "Python 3",
   "language": "python",
   "name": "python3"
  },
  "language_info": {
   "codemirror_mode": {
    "name": "ipython",
    "version": 3
   },
   "file_extension": ".py",
   "mimetype": "text/x-python",
   "name": "python",
   "nbconvert_exporter": "python",
   "pygments_lexer": "ipython3",
   "version": "3.11.8"
  }
 },
 "nbformat": 4,
 "nbformat_minor": 2
}
