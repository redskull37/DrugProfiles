{
 "cells": [
  {
   "cell_type": "markdown",
   "metadata": {},
   "source": [
    "## Prepare train and test sets for further modelling"
   ]
  },
  {
   "cell_type": "markdown",
   "metadata": {},
   "source": [
    "1. take the drugs which have more than 10 drug profiles\n",
    "2. split them into two data sets with equal portion of each of the drugs\n",
    "3. reproduce the principle of data splitting for the case of restrictions"
   ]
  },
  {
   "cell_type": "code",
   "execution_count": 1,
   "metadata": {},
   "outputs": [],
   "source": [
    "import pandas as pd\n",
    "import numpy as np \n",
    "import os\n",
    "\n",
    "import warnings\n",
    "warnings.filterwarnings(\"ignore\")\n",
    "\n",
    "_FOLDER_2 = \"results/\""
   ]
  },
  {
   "cell_type": "code",
   "execution_count": 2,
   "metadata": {},
   "outputs": [
    {
     "data": {
      "text/plain": [
       "['.DS_Store',\n",
       " 'merged_drug_profiles_cells_sigmoid4_123.csv',\n",
       " 'drugs_with_pubchem_id.txt',\n",
       " 'drugs_with_pubchem_id_NEW.txt',\n",
       " 'drug_features_with_pubchem_properties.csv',\n",
       " 'drugs_with_no_pubchem_id.txt',\n",
       " 'target_target_pathway_df.csv',\n",
       " 'fit_filtered_drug_profiles_123.csv',\n",
       " 'X_features_Targets.txt',\n",
       " '.ipynb_checkpoints',\n",
       " 'filtered_drug_profiles_123.csv',\n",
       " 'X_PubChem_properties.txt',\n",
       " 'X_features_Target_Pathway.txt',\n",
       " 'merged_fitted_sigmoid4_123_with_drugs_properties.csv',\n",
       " 'X_features_cancer_cell_lines.txt']"
      ]
     },
     "execution_count": 2,
     "metadata": {},
     "output_type": "execute_result"
    }
   ],
   "source": [
    "os.listdir(_FOLDER_2)"
   ]
  },
  {
   "cell_type": "markdown",
   "metadata": {},
   "source": [
    "### Drugs with properties"
   ]
  },
  {
   "cell_type": "code",
   "execution_count": 3,
   "metadata": {},
   "outputs": [
    {
     "data": {
      "text/plain": [
       "(2585, 1381)"
      ]
     },
     "execution_count": 3,
     "metadata": {},
     "output_type": "execute_result"
    }
   ],
   "source": [
    "df = pd.read_csv(_FOLDER_2 + \"merged_fitted_sigmoid4_123_with_drugs_properties.csv\").drop(['H', 'Target', 'Target_Pathway', 'elements'], axis = 1)\n",
    "df.shape"
   ]
  },
  {
   "cell_type": "markdown",
   "metadata": {},
   "source": [
    "### Split into train and test data with more than 10 record per drug"
   ]
  },
  {
   "cell_type": "code",
   "execution_count": 4,
   "metadata": {},
   "outputs": [
    {
     "name": "stdout",
     "output_type": "stream",
     "text": [
      "Number of drugs with more than 10 profiles: 69\n",
      "Number of drugs with more than 50 profiles: 11\n"
     ]
    },
    {
     "data": {
      "text/plain": [
       "((1843, 1381), (496, 1381))"
      ]
     },
     "execution_count": 4,
     "metadata": {},
     "output_type": "execute_result"
    }
   ],
   "source": [
    "gr = df.groupby(\"DRUG_ID\").size()\n",
    "drugs = gr[gr>10].index\n",
    "print(\"Number of drugs with more than 10 profiles:\", len(drugs))        \n",
    "\n",
    "train_ratio = 0.8\n",
    "train = pd.DataFrame()\n",
    "test = pd.DataFrame()\n",
    "np.random.seed(123)\n",
    "indexes = np.random.permutation(df.index)\n",
    "\n",
    "for drug_id in drugs:\n",
    "    df_i = df[df[\"DRUG_ID\"]==drug_id]\n",
    "    indexes = np.random.permutation(df_i.index)\n",
    "    train_size = int(df_i.shape[0]*train_ratio)\n",
    "    indexes_train = indexes[:train_size]\n",
    "    indexes_test = indexes[train_size:]\n",
    "    train = pd.concat([train, df_i.loc[indexes_train, :]])\n",
    "    test = pd.concat([test, df_i.loc[indexes_test, :]])\n",
    "    \n",
    "gr = df.groupby(\"DRUG_ID\")[\"COSMIC_ID\"].count()\n",
    "drug_ids = list(gr[gr>50].index)\n",
    "\n",
    "with open(_FOLDER_2 +\"drug_ids_50.txt\", 'w') as f:\n",
    "    for s in drug_ids:\n",
    "        f.write(str(s) + '\\n')\n",
    "print(\"Number of drugs with more than 50 profiles:\", len(drug_ids))  \n",
    "\n",
    "train.shape, test.shape"
   ]
  },
  {
   "cell_type": "code",
   "execution_count": 5,
   "metadata": {},
   "outputs": [],
   "source": [
    "train.to_csv(_FOLDER_2+ \"train08_merged_fitted_sigmoid4_123_with_drugs_properties_min10.csv\")\n",
    "test.to_csv(_FOLDER_2+ \"test02_merged_fitted_sigmoid4_123_with_drugs_properties_min10.csv\")"
   ]
  },
  {
   "cell_type": "markdown",
   "metadata": {},
   "source": [
    "## R2 restriction"
   ]
  },
  {
   "cell_type": "code",
   "execution_count": 6,
   "metadata": {},
   "outputs": [],
   "source": [
    "from sklearn.metrics import r2_score\n",
    "\n",
    "def sigmoid_4_param(x, x0, L, k, d):\n",
    "    \"\"\" Comparing with Dennis Wang's sigmoid:\n",
    "    x0 -  p - position, correlation with IC50 or EC50\n",
    "        bounds [0, 1]\n",
    "    L = 1 in Dennis Wang's sigmoid, protect from devision by zero if x is too small \n",
    "        L<1 inverted sigmoid, l=100 - lower upper and lower boundso sigmpoid on y axis (y= [0.1, 0.11])\n",
    "        bounds [0.8, 10]\n",
    "    k = -1/s (s -shape parameter)  default = -10 k=0 straight line, k<0 sigmoid around k=-10\n",
    "        bounds [1, -100]\n",
    "    d - determines the vertical position of the sigmoid - shift on y axis - better fitting then Dennis Wang's sigmoid\n",
    "         bounds [0, 0.9]\n",
    "    parameters_bound ((0, 0.8, -100, 0), (1, 10, 1, 0.9))\n",
    "    \"\"\"\n",
    "    return ( 1/ (L + np.exp(-k*(x-x0))) + d)\n",
    "\n",
    "def r2_score_sigmoid_4_param(df, x_columns, y_columns, param_columns = []):\n",
    "    r2_scores=np.zeros(len(df.index))\n",
    "    for i in range(len(df.index)):\n",
    "        x = df.loc[df.index[i], x_columns].values.astype(np.float32)\n",
    "        y = df.loc[df.index[i], y_columns].values.astype(np.float32)\n",
    "        fit_param = df.loc[df.index[i], param_columns].values.astype(np.float32)\n",
    "#         print(fit_param)\n",
    "        y_fit = sigmoid_4_param(x, *fit_param)\n",
    "        r2_scores[i] = r2_score(y, y_fit)\n",
    "    return r2_scores\n",
    "\n"
   ]
  },
  {
   "cell_type": "code",
   "execution_count": 7,
   "metadata": {},
   "outputs": [
    {
     "name": "stdout",
     "output_type": "stream",
     "text": [
      "Data after R2 restriction: (2522, 1382)\n",
      "R2 restr: Number of drugs with more than 10 profiles: 69\n",
      "R2 restr: Number of drugs with more than 50 profiles: 10\n"
     ]
    },
    {
     "data": {
      "text/plain": [
       "((723, 1382), (185, 1382))"
      ]
     },
     "execution_count": 7,
     "metadata": {},
     "output_type": "execute_result"
    }
   ],
   "source": [
    "df[\"r2_scores\"] = r2_score_sigmoid_4_param(df.reset_index(), \n",
    "                                                   x_columns = [\"fd_num_\"+str(i) for i in range(10)],\n",
    "                                                  y_columns = [\"norm_cells_\" + str(i) for i in range(10)],\n",
    "                                                  param_columns = [\"param_\" + str(i) for i in range(1,5)])\n",
    "\n",
    "df2= df[df[\"r2_scores\"]>0.9].copy()\n",
    "print(\"Data after R2 restriction:\", df2.shape)\n",
    "\n",
    "gr = df2.groupby(\"DRUG_ID\").size()\n",
    "drugs = gr[gr>10].index\n",
    "\n",
    "print(\"R2 restr: Number of drugs with more than 10 profiles:\", len(drugs))  \n",
    "\n",
    "gr = df2.groupby(\"DRUG_ID\").size()\n",
    "drug_ids = gr[gr>50].index\n",
    "\n",
    "with open(_FOLDER_2+\"drug_ids_50_restr.txt\", 'w') as f:\n",
    "    for s in drug_ids:\n",
    "        f.write(str(s) + '\\n')        \n",
    "print(\"R2 restr: Number of drugs with more than 50 profiles:\", len(drug_ids))\n",
    "\n",
    "train_2_ratio = 0.8\n",
    "train_2 = pd.DataFrame()\n",
    "test_2 = pd.DataFrame()\n",
    "np.random.seed(123)\n",
    "indexes = np.random.permutation(df2.index)\n",
    "\n",
    "for drug_id in drug_ids:\n",
    "    df2_i = df2[df2[\"DRUG_ID\"]==drug_id]\n",
    "    indexes = np.random.permutation(df2_i.index)\n",
    "    train_2_size = int(df2_i.shape[0]*train_2_ratio)\n",
    "    indexes_train_2 = indexes[:train_2_size]\n",
    "    indexes_test_2 = indexes[train_2_size:]\n",
    "    train_2 = pd.concat([train_2, df2_i.loc[indexes_train_2, :]])\n",
    "    test_2 = pd.concat([test_2, df2_i.loc[indexes_test_2, :]])\n",
    "      \n",
    "train_2.shape, test_2.shape"
   ]
  },
  {
   "cell_type": "code",
   "execution_count": 8,
   "metadata": {},
   "outputs": [],
   "source": [
    "# R2 restriction\n",
    "train_2.to_csv(_FOLDER_2 + \"train08_min10_restr.csv\")\n",
    "test_2.to_csv(_FOLDER_2+ \"test02_min10_restr.csv\")  "
   ]
  },
  {
   "cell_type": "markdown",
   "metadata": {},
   "source": [
    "## Restrictions for coefficients"
   ]
  },
  {
   "cell_type": "code",
   "execution_count": 9,
   "metadata": {},
   "outputs": [
    {
     "name": "stdout",
     "output_type": "stream",
     "text": [
      "Number of drugs with more than 10 profiles: 57\n"
     ]
    },
    {
     "data": {
      "text/plain": [
       "((588, 1382), (152, 1382))"
      ]
     },
     "execution_count": 9,
     "metadata": {},
     "output_type": "execute_result"
    }
   ],
   "source": [
    "df3 =df[(df[\"param_1\"] <1) & (df[\"param_2\"] >-5) & (df[\"param_3\"] >-120) & (df[\"param_4\"] >0)].copy()\n",
    "\n",
    "\n",
    "gr = df3.groupby(\"DRUG_ID\").size()\n",
    "drugs = gr[gr>10].index\n",
    "\n",
    "print(\"Number of drugs with more than 10 profiles:\", len(drugs))     \n",
    "gr = df3.groupby(\"DRUG_ID\").size()\n",
    "drug_ids = gr[gr>50].index\n",
    "\n",
    "with open(_FOLDER_2+\"drug_ids_50_restr_coef.txt\", 'w') as f:\n",
    "    for s in drug_ids:\n",
    "        f.write(str(s) + '\\n')        \n",
    "        \n",
    "len(drugs)\n",
    "\n",
    "train_3_ratio = 0.8\n",
    "train_3 = pd.DataFrame()\n",
    "test_3 = pd.DataFrame()\n",
    "np.random.seed(123)\n",
    "indexes = np.random.permutation(df3.index)\n",
    "\n",
    "for drug_id in drug_ids:\n",
    "    df3_i = df3[df3[\"DRUG_ID\"]==drug_id]\n",
    "    indexes = np.random.permutation(df3_i.index)\n",
    "    train_3_size = int(df3_i.shape[0]*train_3_ratio)\n",
    "    indexes_train_3 = indexes[:train_3_size]\n",
    "    indexes_test_3 = indexes[train_3_size:]\n",
    "    train_3 = pd.concat([train_3, df3_i.loc[indexes_train_3, :]])\n",
    "    test_3 = pd.concat([test_3, df3_i.loc[indexes_test_3, :]])\n",
    "      \n",
    "train_3.shape, test_3.shape"
   ]
  },
  {
   "cell_type": "code",
   "execution_count": 10,
   "metadata": {},
   "outputs": [],
   "source": [
    "# restriction for coefficients\n",
    "train_3.to_csv(_FOLDER_2+ \"train08_min10_restr_coef.csv\")\n",
    "test_3.to_csv(_FOLDER_2+ \"test02_min10_restr_coef.csv\")  "
   ]
  },
  {
   "cell_type": "markdown",
   "metadata": {},
   "source": [
    "## Comparison of datasets"
   ]
  },
  {
   "cell_type": "code",
   "execution_count": 11,
   "metadata": {},
   "outputs": [
    {
     "name": "stdout",
     "output_type": "stream",
     "text": [
      "Original >50: (1843, 1381) (496, 1381)\n",
      "R2 restr >50: (723, 1382) (185, 1382)\n",
      "Coef restr >50: (588, 1382) (152, 1382)\n"
     ]
    }
   ],
   "source": [
    "print(\"Original >50:\", train.shape, test.shape)\n",
    "print(\"R2 restr >50:\", train_2.shape, test_2.shape)\n",
    "print(\"Coef restr >50:\", train_3.shape, test_3.shape)"
   ]
  },
  {
   "cell_type": "markdown",
   "metadata": {},
   "source": [
    "## Sanity check"
   ]
  },
  {
   "cell_type": "raw",
   "metadata": {},
   "source": [
    "170 Shikonin     C H O\n",
    "173 FH535        C H O N Cl S\n",
    "180 Thapsigargin C H O\n",
    "200 Dacinostat   C H O N\n",
    "219 AT-7519      C H O N Cl\n",
    "272 AR-42        C H O N\n",
    "273 CUDC-101     C H O N\n",
    "274 Belinostat   C H O N    S\n",
    "276 CAY10603     C H O N\n",
    "328 SNX-2112     C H O N      F\n",
    "346 THZ-2-102-1  C H O N Cl   F"
   ]
  },
  {
   "cell_type": "code",
   "execution_count": 12,
   "metadata": {},
   "outputs": [],
   "source": [
    "with open(_FOLDER_2 + \"drug_ids_50.txt\", 'r') as f:\n",
    "    drug_ids_50 = [np.int32(line.rstrip('\\n')) for line in f]"
   ]
  },
  {
   "cell_type": "code",
   "execution_count": 13,
   "metadata": {},
   "outputs": [
    {
     "data": {
      "text/html": [
       "<div>\n",
       "<style scoped>\n",
       "    .dataframe tbody tr th:only-of-type {\n",
       "        vertical-align: middle;\n",
       "    }\n",
       "\n",
       "    .dataframe tbody tr th {\n",
       "        vertical-align: top;\n",
       "    }\n",
       "\n",
       "    .dataframe thead th {\n",
       "        text-align: right;\n",
       "    }\n",
       "</style>\n",
       "<table border=\"1\" class=\"dataframe\">\n",
       "  <thead>\n",
       "    <tr style=\"text-align: right;\">\n",
       "      <th></th>\n",
       "      <th></th>\n",
       "      <th>MAX_CONC</th>\n",
       "    </tr>\n",
       "    <tr>\n",
       "      <th>DRUG_ID</th>\n",
       "      <th>Cl</th>\n",
       "      <th></th>\n",
       "    </tr>\n",
       "  </thead>\n",
       "  <tbody>\n",
       "    <tr>\n",
       "      <th>170</th>\n",
       "      <th>0.0</th>\n",
       "      <td>81</td>\n",
       "    </tr>\n",
       "    <tr>\n",
       "      <th>173</th>\n",
       "      <th>1.0</th>\n",
       "      <td>40</td>\n",
       "    </tr>\n",
       "    <tr>\n",
       "      <th>180</th>\n",
       "      <th>0.0</th>\n",
       "      <td>57</td>\n",
       "    </tr>\n",
       "    <tr>\n",
       "      <th>200</th>\n",
       "      <th>0.0</th>\n",
       "      <td>69</td>\n",
       "    </tr>\n",
       "    <tr>\n",
       "      <th>219</th>\n",
       "      <th>1.0</th>\n",
       "      <td>68</td>\n",
       "    </tr>\n",
       "    <tr>\n",
       "      <th>272</th>\n",
       "      <th>0.0</th>\n",
       "      <td>85</td>\n",
       "    </tr>\n",
       "    <tr>\n",
       "      <th>273</th>\n",
       "      <th>0.0</th>\n",
       "      <td>84</td>\n",
       "    </tr>\n",
       "    <tr>\n",
       "      <th>274</th>\n",
       "      <th>0.0</th>\n",
       "      <td>80</td>\n",
       "    </tr>\n",
       "    <tr>\n",
       "      <th>276</th>\n",
       "      <th>0.0</th>\n",
       "      <td>80</td>\n",
       "    </tr>\n",
       "    <tr>\n",
       "      <th>328</th>\n",
       "      <th>0.0</th>\n",
       "      <td>92</td>\n",
       "    </tr>\n",
       "    <tr>\n",
       "      <th>346</th>\n",
       "      <th>1.0</th>\n",
       "      <td>45</td>\n",
       "    </tr>\n",
       "  </tbody>\n",
       "</table>\n",
       "</div>"
      ],
      "text/plain": [
       "             MAX_CONC\n",
       "DRUG_ID Cl           \n",
       "170     0.0        81\n",
       "173     1.0        40\n",
       "180     0.0        57\n",
       "200     0.0        69\n",
       "219     1.0        68\n",
       "272     0.0        85\n",
       "273     0.0        84\n",
       "274     0.0        80\n",
       "276     0.0        80\n",
       "328     0.0        92\n",
       "346     1.0        45"
      ]
     },
     "execution_count": 13,
     "metadata": {},
     "output_type": "execute_result"
    }
   ],
   "source": []
  },
  {
   "cell_type": "code",
   "execution_count": null,
   "metadata": {},
   "outputs": [],
   "source": []
  }
 ],
 "metadata": {
  "kernelspec": {
   "display_name": "myspark",
   "language": "python",
   "name": "myspark"
  },
  "language_info": {
   "codemirror_mode": {
    "name": "ipython",
    "version": 3
   },
   "file_extension": ".py",
   "mimetype": "text/x-python",
   "name": "python",
   "nbconvert_exporter": "python",
   "pygments_lexer": "ipython3",
   "version": "3.6.10"
  }
 },
 "nbformat": 4,
 "nbformat_minor": 4
}
