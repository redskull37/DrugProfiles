{
 "cells": [
  {
   "cell_type": "markdown",
   "metadata": {},
   "source": [
    "# Merge with Drug Properties"
   ]
  },
  {
   "cell_type": "code",
   "execution_count": 1,
   "metadata": {},
   "outputs": [],
   "source": [
    "import pandas as pd\n",
    "import numpy as np\n",
    "import warnings\n",
    "warnings.filterwarnings(\"ignore\")\n",
    "import os\n",
    "_FOLDER = \"fitted_datasets_CCL/\"\n",
    "_FOLDER_2 = \"fitted_datasets_drug_properties/\"\n",
    "_FOLDER_3 = \"results/\""
   ]
  },
  {
   "cell_type": "code",
   "execution_count": 2,
   "metadata": {},
   "outputs": [
    {
     "name": "stdout",
     "output_type": "stream",
     "text": [
      "Processed and saved: merged_fitted_drug_properties_1.1.csv.csv\n",
      "Processed and saved: merged_fitted_drug_properties_1.2.csv.csv\n",
      "Processed and saved: merged_fitted_drug_properties_1.3.csv.csv\n",
      "Processed and saved: merged_fitted_drug_properties_1.4.csv.csv\n",
      "Processed and saved: merged_fitted_drug_properties_1.5.csv.csv\n",
      "Processed and saved: merged_fitted_drug_properties_2.1.csv.csv\n",
      "Processed and saved: merged_fitted_drug_properties_2.2.csv.csv\n",
      "Processed and saved: merged_fitted_drug_properties_2.3.csv.csv\n",
      "Processed and saved: merged_fitted_drug_properties_3.1.csv.csv\n",
      "Processed and saved: merged_fitted_drug_properties_3.10.csv.csv\n",
      "Processed and saved: merged_fitted_drug_properties_3.11.csv.csv\n",
      "Processed and saved: merged_fitted_drug_properties_3.12.csv.csv\n",
      "Processed and saved: merged_fitted_drug_properties_3.13.csv.csv\n",
      "Processed and saved: merged_fitted_drug_properties_3.14.csv.csv\n",
      "Processed and saved: merged_fitted_drug_properties_3.15.csv.csv\n",
      "Processed and saved: merged_fitted_drug_properties_3.2.csv.csv\n",
      "Processed and saved: merged_fitted_drug_properties_3.3.csv.csv\n",
      "Processed and saved: merged_fitted_drug_properties_3.4.csv.csv\n",
      "Processed and saved: merged_fitted_drug_properties_3.5.csv.csv\n",
      "Processed and saved: merged_fitted_drug_properties_3.6.csv.csv\n",
      "Processed and saved: merged_fitted_drug_properties_3.7.csv.csv\n",
      "Processed and saved: merged_fitted_drug_properties_3.8.csv.csv\n",
      "Processed and saved: merged_fitted_drug_properties_3.9.csv.csv\n",
      "Processed and saved: merged_fitted_drug_properties_profiles.csv\n"
     ]
    }
   ],
   "source": [
    "df_drugs_properties = pd.read_csv(_FOLDER_3+\"drug_features_with_pubchem_properties.csv\")\n",
    "df_targets = pd.read_csv(_FOLDER_3+\"target_target_pathway_df.csv\")\n",
    "\n",
    "# Define columns not to use from drug properties\n",
    "column_not_to_use = [\"Synonyms\", \"deriv_found\", \"PubChem_ID\",\n",
    "                    \"inchi_key\", \"canonical_smiles\", \"inchi_string\"]\n",
    "columns_to_use = set(df_drugs_properties.columns) - set(column_not_to_use)\n",
    "\n",
    "# Loop over all the fitted and merged with CCL datasets\n",
    "for file in os.listdir(_FOLDER):\n",
    "    if file.endswith(\".csv\"):\n",
    "        f_profiles = pd.read_csv(os.path.join(_FOLDER, file))\n",
    "        \n",
    "        # Drop the 'Unnamed: 0' column if it exists\n",
    "        if 'Unnamed: 0' in f_profiles.columns:\n",
    "            f_profiles.drop('Unnamed: 0', axis=1, inplace=True)\n",
    "        \n",
    "        # Merge with drug properties\n",
    "        merged_df = pd.merge(left=f_profiles, right=df_drugs_properties[list(columns_to_use)], on=\"DRUG_ID\")\n",
    "        \n",
    "        # Merge with drug targets\n",
    "        merged_df = pd.merge(left=merged_df, right=df_targets, on=\"DRUG_ID\")\n",
    "        \n",
    "        # Filtering by drugs with known PubChem ID\n",
    "        drugs_with_pubchem_id = df_drugs_properties[df_drugs_properties[\"PubChem_ID\"] != \"0\"][\"DRUG_ID\"].values\n",
    "        filtered_drugs_with_pubchem_id = set(drugs_with_pubchem_id) & set(merged_df[\"DRUG_ID\"].unique())\n",
    "        filtered_drugs_with_pubchem_id_list = list(filtered_drugs_with_pubchem_id)\n",
    "        merged_df = merged_df.set_index(\"DRUG_ID\").loc[filtered_drugs_with_pubchem_id_list].reset_index()\n",
    "\n",
    "        # Construct the new filename\n",
    "        scenario_num = file.split(\"_\")[5]  # Adjust the split index if needed\n",
    "        new_file_name = f\"merged_fitted_drug_properties_{scenario_num}\"\n",
    "        \n",
    "        # Save the merged dataframe to the _FOLDER_2 directory\n",
    "        merged_df.to_csv(os.path.join(_FOLDER_2, new_file_name), index=False)\n",
    "\n",
    "        print(f\"Processed and saved: {new_file_name}\")"
   ]
  }
 ],
 "metadata": {
  "kernelspec": {
   "display_name": "Python 3",
   "language": "python",
   "name": "python3"
  },
  "language_info": {
   "codemirror_mode": {
    "name": "ipython",
    "version": 3
   },
   "file_extension": ".py",
   "mimetype": "text/x-python",
   "name": "python",
   "nbconvert_exporter": "python",
   "pygments_lexer": "ipython3",
   "version": "3.11.8"
  }
 },
 "nbformat": 4,
 "nbformat_minor": 2
}
